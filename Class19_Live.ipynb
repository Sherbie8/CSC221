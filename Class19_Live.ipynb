{
  "nbformat": 4,
  "nbformat_minor": 0,
  "metadata": {
    "colab": {
      "provenance": [],
      "authorship_tag": "ABX9TyNyJstti6Twly1X/+mJsgSe",
      "include_colab_link": true
    },
    "kernelspec": {
      "name": "python3",
      "display_name": "Python 3"
    },
    "language_info": {
      "name": "python"
    }
  },
  "cells": [
    {
      "cell_type": "markdown",
      "metadata": {
        "id": "view-in-github",
        "colab_type": "text"
      },
      "source": [
        "<a href=\"https://colab.research.google.com/github/nleck001/CSC221/blob/main/Class19_Live.ipynb\" target=\"_parent\"><img src=\"https://colab.research.google.com/assets/colab-badge.svg\" alt=\"Open In Colab\"/></a>"
      ]
    },
    {
      "cell_type": "code",
      "execution_count": null,
      "metadata": {
        "colab": {
          "base_uri": "https://localhost:8080/"
        },
        "id": "EeeDBbsXXzna",
        "outputId": "c9302710-38f5-4a78-9bfa-69f8ead80406"
      },
      "outputs": [
        {
          "output_type": "stream",
          "name": "stdout",
          "text": [
            "x was > 20! In fact, at my time of birth x was 290909\n"
          ]
        }
      ],
      "source": [
        "# Class 19 Live! 11/2/2023\n",
        "# What does this do??\n",
        "\n",
        "x = 290909\n",
        "\n",
        "if x>20:\n",
        "    def f1(a):\n",
        "        print(f'x was > 20! In fact, at my time of birth x was {x}')\n",
        "else:\n",
        "    def f1 (a):\n",
        "        print('x was <= 20')\n",
        "\n",
        "f1(123)"
      ]
    },
    {
      "cell_type": "code",
      "source": [],
      "metadata": {
        "id": "hf2Ii7-0aOWD"
      },
      "execution_count": null,
      "outputs": []
    }
  ]
}