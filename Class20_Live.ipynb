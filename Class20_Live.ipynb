{
  "nbformat": 4,
  "nbformat_minor": 0,
  "metadata": {
    "colab": {
      "provenance": [],
      "authorship_tag": "ABX9TyOs7aZ+xhEmmqjsb7y0kR85",
      "include_colab_link": true
    },
    "kernelspec": {
      "name": "python3",
      "display_name": "Python 3"
    },
    "language_info": {
      "name": "python"
    }
  },
  "cells": [
    {
      "cell_type": "markdown",
      "metadata": {
        "id": "view-in-github",
        "colab_type": "text"
      },
      "source": [
        "<a href=\"https://colab.research.google.com/github/nleck001/CSC221/blob/main/Class20_Live.ipynb\" target=\"_parent\"><img src=\"https://colab.research.google.com/assets/colab-badge.svg\" alt=\"Open In Colab\"/></a>"
      ]
    },
    {
      "cell_type": "code",
      "execution_count": null,
      "metadata": {
        "id": "Ra6fVBZ3aNYf"
      },
      "outputs": [],
      "source": [
        "class TestClass:\n",
        "    def __init__(self, name, value):\n",
        "        #print(f'TestClass.__init__ is here with {name=} {value=}')\n",
        "        self.name = name\n",
        "        self.value = value\n",
        "    def __str__(self):\n",
        "        #print(f'__str__ was called!')\n",
        "        return f\"I'm a TestClass\\n  name = {self.name}\\n  value={self.value}\"\n",
        "    def __repr__(self):\n",
        "        #print(f'__repr__ was called!')\n",
        "        return f'TestClass({self.name}, {self.value})'\n",
        "\n"
      ]
    },
    {
      "cell_type": "code",
      "source": [
        "t1 = TestClass('Ned', 123)\n",
        "print(f'{t1!r}')"
      ],
      "metadata": {
        "colab": {
          "base_uri": "https://localhost:8080/"
        },
        "id": "M6mOQu8GaZFZ",
        "outputId": "a560241f-9822-4f0e-f6de-2d828985daa5"
      },
      "execution_count": null,
      "outputs": [
        {
          "output_type": "stream",
          "name": "stdout",
          "text": [
            "TestClass(Ned, 123)\n"
          ]
        }
      ]
    },
    {
      "cell_type": "code",
      "source": [
        "TestClass_list = []\n",
        "for i in range(100):\n",
        "    TestClass_list.append(TestClass('xxx', i))\n",
        "\n",
        "print(TestClass_list)"
      ],
      "metadata": {
        "colab": {
          "base_uri": "https://localhost:8080/"
        },
        "id": "XD-MIrafabv1",
        "outputId": "2bee5ea8-4e4f-4bd6-a058-7e561efc5285"
      },
      "execution_count": null,
      "outputs": [
        {
          "output_type": "stream",
          "name": "stdout",
          "text": [
            "[TestClass(xxx, 0), TestClass(xxx, 1), TestClass(xxx, 2), TestClass(xxx, 3), TestClass(xxx, 4), TestClass(xxx, 5), TestClass(xxx, 6), TestClass(xxx, 7), TestClass(xxx, 8), TestClass(xxx, 9), TestClass(xxx, 10), TestClass(xxx, 11), TestClass(xxx, 12), TestClass(xxx, 13), TestClass(xxx, 14), TestClass(xxx, 15), TestClass(xxx, 16), TestClass(xxx, 17), TestClass(xxx, 18), TestClass(xxx, 19), TestClass(xxx, 20), TestClass(xxx, 21), TestClass(xxx, 22), TestClass(xxx, 23), TestClass(xxx, 24), TestClass(xxx, 25), TestClass(xxx, 26), TestClass(xxx, 27), TestClass(xxx, 28), TestClass(xxx, 29), TestClass(xxx, 30), TestClass(xxx, 31), TestClass(xxx, 32), TestClass(xxx, 33), TestClass(xxx, 34), TestClass(xxx, 35), TestClass(xxx, 36), TestClass(xxx, 37), TestClass(xxx, 38), TestClass(xxx, 39), TestClass(xxx, 40), TestClass(xxx, 41), TestClass(xxx, 42), TestClass(xxx, 43), TestClass(xxx, 44), TestClass(xxx, 45), TestClass(xxx, 46), TestClass(xxx, 47), TestClass(xxx, 48), TestClass(xxx, 49), TestClass(xxx, 50), TestClass(xxx, 51), TestClass(xxx, 52), TestClass(xxx, 53), TestClass(xxx, 54), TestClass(xxx, 55), TestClass(xxx, 56), TestClass(xxx, 57), TestClass(xxx, 58), TestClass(xxx, 59), TestClass(xxx, 60), TestClass(xxx, 61), TestClass(xxx, 62), TestClass(xxx, 63), TestClass(xxx, 64), TestClass(xxx, 65), TestClass(xxx, 66), TestClass(xxx, 67), TestClass(xxx, 68), TestClass(xxx, 69), TestClass(xxx, 70), TestClass(xxx, 71), TestClass(xxx, 72), TestClass(xxx, 73), TestClass(xxx, 74), TestClass(xxx, 75), TestClass(xxx, 76), TestClass(xxx, 77), TestClass(xxx, 78), TestClass(xxx, 79), TestClass(xxx, 80), TestClass(xxx, 81), TestClass(xxx, 82), TestClass(xxx, 83), TestClass(xxx, 84), TestClass(xxx, 85), TestClass(xxx, 86), TestClass(xxx, 87), TestClass(xxx, 88), TestClass(xxx, 89), TestClass(xxx, 90), TestClass(xxx, 91), TestClass(xxx, 92), TestClass(xxx, 93), TestClass(xxx, 94), TestClass(xxx, 95), TestClass(xxx, 96), TestClass(xxx, 97), TestClass(xxx, 98), TestClass(xxx, 99)]\n"
          ]
        }
      ]
    },
    {
      "cell_type": "code",
      "source": [],
      "metadata": {
        "id": "DJPgW36vcxNw"
      },
      "execution_count": null,
      "outputs": []
    }
  ]
}