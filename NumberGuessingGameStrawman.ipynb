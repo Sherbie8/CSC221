{
  "nbformat": 4,
  "nbformat_minor": 0,
  "metadata": {
    "colab": {
      "provenance": [],
      "authorship_tag": "ABX9TyMkSFGRj/Kpu+Qp3v1djPBI",
      "include_colab_link": true
    },
    "kernelspec": {
      "name": "python3",
      "display_name": "Python 3"
    },
    "language_info": {
      "name": "python"
    }
  },
  "cells": [
    {
      "cell_type": "markdown",
      "metadata": {
        "id": "view-in-github",
        "colab_type": "text"
      },
      "source": [
        "<a href=\"https://colab.research.google.com/github/nleck001/CSC221/blob/main/NumberGuessingGameStrawman.ipynb\" target=\"_parent\"><img src=\"https://colab.research.google.com/assets/colab-badge.svg\" alt=\"Open In Colab\"/></a>"
      ]
    },
    {
      "cell_type": "code",
      "execution_count": 32,
      "metadata": {
        "colab": {
          "base_uri": "https://localhost:8080/"
        },
        "id": "T9aIpPoWS8-O",
        "outputId": "f97aa086-cda6-4f4e-fc7a-aa9abffbdb33"
      },
      "outputs": [
        {
          "output_type": "stream",
          "name": "stdout",
          "text": [
            "7\n"
          ]
        }
      ],
      "source": [
        "import random\n",
        "\n",
        "my_guess = random.randint(1,10)\n",
        "print(my_guess) # This is just for debugging. Remove when done!\n",
        "\n",
        "my_guess = 7"
      ]
    },
    {
      "cell_type": "code",
      "source": [
        "num_of_bad_guesses = 0\n",
        "keep_looping = True\n",
        "while keep_looping == True:\n",
        "    userguess_str = input(f'What is the input (hint: {my_guess}? (num_of_bad_guesses = {num_of_bad_guesses})')\n",
        "    userguess_int = int(userguess_str)\n",
        "    #print(userguess_str, userguess_int)\n",
        "\n",
        "    if userguess_int == my_guess:\n",
        "        print('you guessed it!')\n",
        "        keep_looping = False\n",
        "    elif userguess_int > my_guess:\n",
        "        print('too high')\n",
        "        num_of_bad_guesses += 1\n",
        "    elif userguess_int < my_guess:\n",
        "        print('too low')\n",
        "        num_of_bad_guesses += 1\n",
        "\n",
        "    if num_of_bad_guesses > 5:\n",
        "        print('too many bad guesses')\n",
        "        keep_looping = False\n",
        "\n",
        "print('Have a nice day')"
      ],
      "metadata": {
        "colab": {
          "base_uri": "https://localhost:8080/"
        },
        "id": "J9z6nPY6TJAT",
        "outputId": "55ab5871-5b01-461a-9b4f-7bb3dd273bd4"
      },
      "execution_count": 34,
      "outputs": [
        {
          "output_type": "stream",
          "name": "stdout",
          "text": [
            "What is the input (hint: 7? (num_of_bad_guesses = 0)7\n",
            "you guessed it!\n",
            "Have a nice day\n"
          ]
        }
      ]
    },
    {
      "cell_type": "code",
      "source": [
        "\\"
      ],
      "metadata": {
        "id": "tVwl-gSTTraD"
      },
      "execution_count": null,
      "outputs": []
    }
  ]
}