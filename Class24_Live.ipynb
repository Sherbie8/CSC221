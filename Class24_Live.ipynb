{
  "nbformat": 4,
  "nbformat_minor": 0,
  "metadata": {
    "colab": {
      "provenance": [],
      "authorship_tag": "ABX9TyNpKYKk7Q0AOMKJqWxP+hIL",
      "include_colab_link": true
    },
    "kernelspec": {
      "name": "python3",
      "display_name": "Python 3"
    },
    "language_info": {
      "name": "python"
    }
  },
  "cells": [
    {
      "cell_type": "markdown",
      "metadata": {
        "id": "view-in-github",
        "colab_type": "text"
      },
      "source": [
        "<a href=\"https://colab.research.google.com/github/nleck001/CSC221/blob/main/Class24_Live.ipynb\" target=\"_parent\"><img src=\"https://colab.research.google.com/assets/colab-badge.svg\" alt=\"Open In Colab\"/></a>"
      ]
    },
    {
      "cell_type": "code",
      "execution_count": null,
      "metadata": {
        "colab": {
          "base_uri": "https://localhost:8080/"
        },
        "id": "AHHyxjDESZJP",
        "outputId": "c5929607-8bb1-4ec9-cd63-285f084abedf"
      },
      "outputs": [
        {
          "output_type": "stream",
          "name": "stdout",
          "text": [
            "333 246\n",
            "{'x': 333, 'a': 246}\n",
            "123\n",
            "{'__name__': '__main__', '__doc__': 'Automatically created module for IPython interactive environment', '__package__': None, '__loader__': None, '__spec__': None, '__builtin__': <module 'builtins' (built-in)>, '__builtins__': <module 'builtins' (built-in)>, '_ih': ['', 'a = 123\\n\\ndef func1(x):\\n    a = 246\\n    print(x, a)\\n\\nfunc1(333)\\nprint(a)', 'a = 123\\n\\ndef func1(x):\\n    a = 246\\n    print(x, a)\\n\\nprint(x)\\nfunc1(333)\\nprint(a)', 'a = 123\\n\\ndef func1(x):\\n    a = 246\\n    print(x, a)\\n\\n#print(x)\\nfunc1(333)\\nprint(a)', 'a = 123\\n\\ndef func1(x):\\n    a = 246\\n    print(x, a)\\n    print(locals())\\n\\n#print(x)\\nfunc1(333)\\nprint(a)', 'a = 123\\n\\ndef func1(x):\\n    a = 246\\n    print(x, a)\\n    print(locals())\\n\\n#print(x)\\nfunc1(333)\\nprint(a)\\nprint(globals())'], '_oh': {}, '_dh': ['/content'], 'In': ['', 'a = 123\\n\\ndef func1(x):\\n    a = 246\\n    print(x, a)\\n\\nfunc1(333)\\nprint(a)', 'a = 123\\n\\ndef func1(x):\\n    a = 246\\n    print(x, a)\\n\\nprint(x)\\nfunc1(333)\\nprint(a)', 'a = 123\\n\\ndef func1(x):\\n    a = 246\\n    print(x, a)\\n\\n#print(x)\\nfunc1(333)\\nprint(a)', 'a = 123\\n\\ndef func1(x):\\n    a = 246\\n    print(x, a)\\n    print(locals())\\n\\n#print(x)\\nfunc1(333)\\nprint(a)', 'a = 123\\n\\ndef func1(x):\\n    a = 246\\n    print(x, a)\\n    print(locals())\\n\\n#print(x)\\nfunc1(333)\\nprint(a)\\nprint(globals())'], 'Out': {}, 'get_ipython': <bound method InteractiveShell.get_ipython of <google.colab._shell.Shell object at 0x7a24897a64a0>>, 'exit': <IPython.core.autocall.ZMQExitAutocall object at 0x7a24897a6e90>, 'quit': <IPython.core.autocall.ZMQExitAutocall object at 0x7a24897a6e90>, '_': '', '__': '', '___': '', '_i': 'a = 123\\n\\ndef func1(x):\\n    a = 246\\n    print(x, a)\\n    print(locals())\\n\\n#print(x)\\nfunc1(333)\\nprint(a)', '_ii': 'a = 123\\n\\ndef func1(x):\\n    a = 246\\n    print(x, a)\\n\\n#print(x)\\nfunc1(333)\\nprint(a)', '_iii': 'a = 123\\n\\ndef func1(x):\\n    a = 246\\n    print(x, a)\\n\\nprint(x)\\nfunc1(333)\\nprint(a)', '_i1': 'a = 123\\n\\ndef func1(x):\\n    a = 246\\n    print(x, a)\\n\\nfunc1(333)\\nprint(a)', 'a': 123, 'func1': <function func1 at 0x7a244fa6d2d0>, '_i2': 'a = 123\\n\\ndef func1(x):\\n    a = 246\\n    print(x, a)\\n\\nprint(x)\\nfunc1(333)\\nprint(a)', '_i3': 'a = 123\\n\\ndef func1(x):\\n    a = 246\\n    print(x, a)\\n\\n#print(x)\\nfunc1(333)\\nprint(a)', '_i4': 'a = 123\\n\\ndef func1(x):\\n    a = 246\\n    print(x, a)\\n    print(locals())\\n\\n#print(x)\\nfunc1(333)\\nprint(a)', '_i5': 'a = 123\\n\\ndef func1(x):\\n    a = 246\\n    print(x, a)\\n    print(locals())\\n\\n#print(x)\\nfunc1(333)\\nprint(a)\\nprint(globals())'}\n"
          ]
        }
      ],
      "source": [
        "a = 123\n",
        "\n",
        "def func1(x):\n",
        "    a = 246\n",
        "    print(x, a)\n",
        "    print(locals())\n",
        "\n",
        "#print(x)\n",
        "func1(333)\n",
        "print(a)\n",
        "print(globals())"
      ]
    },
    {
      "cell_type": "code",
      "source": [
        "a = 123\n",
        "\n",
        "def func2(x):\n",
        "    #a = 5\n",
        "    print(x, a)\n",
        "    a = 5\n",
        "\n",
        "func2(222)\n",
        "\n",
        "print(a)"
      ],
      "metadata": {
        "colab": {
          "base_uri": "https://localhost:8080/",
          "height": 366
        },
        "id": "GRiXwnmUXTMx",
        "outputId": "4c02cf3a-2e01-4427-e03e-8c581fcc50b4"
      },
      "execution_count": null,
      "outputs": [
        {
          "output_type": "error",
          "ename": "UnboundLocalError",
          "evalue": "ignored",
          "traceback": [
            "\u001b[0;31m---------------------------------------------------------------------------\u001b[0m",
            "\u001b[0;31mUnboundLocalError\u001b[0m                         Traceback (most recent call last)",
            "\u001b[0;32m<ipython-input-15-2978ce73ef28>\u001b[0m in \u001b[0;36m<cell line: 8>\u001b[0;34m()\u001b[0m\n\u001b[1;32m      6\u001b[0m     \u001b[0ma\u001b[0m \u001b[0;34m=\u001b[0m \u001b[0;36m5\u001b[0m\u001b[0;34m\u001b[0m\u001b[0;34m\u001b[0m\u001b[0m\n\u001b[1;32m      7\u001b[0m \u001b[0;34m\u001b[0m\u001b[0m\n\u001b[0;32m----> 8\u001b[0;31m \u001b[0mfunc2\u001b[0m\u001b[0;34m(\u001b[0m\u001b[0;36m222\u001b[0m\u001b[0;34m)\u001b[0m\u001b[0;34m\u001b[0m\u001b[0;34m\u001b[0m\u001b[0m\n\u001b[0m\u001b[1;32m      9\u001b[0m \u001b[0;34m\u001b[0m\u001b[0m\n\u001b[1;32m     10\u001b[0m \u001b[0mprint\u001b[0m\u001b[0;34m(\u001b[0m\u001b[0ma\u001b[0m\u001b[0;34m)\u001b[0m\u001b[0;34m\u001b[0m\u001b[0;34m\u001b[0m\u001b[0m\n",
            "\u001b[0;32m<ipython-input-15-2978ce73ef28>\u001b[0m in \u001b[0;36mfunc2\u001b[0;34m(x)\u001b[0m\n\u001b[1;32m      3\u001b[0m \u001b[0;32mdef\u001b[0m \u001b[0mfunc2\u001b[0m\u001b[0;34m(\u001b[0m\u001b[0mx\u001b[0m\u001b[0;34m)\u001b[0m\u001b[0;34m:\u001b[0m\u001b[0;34m\u001b[0m\u001b[0;34m\u001b[0m\u001b[0m\n\u001b[1;32m      4\u001b[0m     \u001b[0;31m#a = 5\u001b[0m\u001b[0;34m\u001b[0m\u001b[0;34m\u001b[0m\u001b[0m\n\u001b[0;32m----> 5\u001b[0;31m     \u001b[0mprint\u001b[0m\u001b[0;34m(\u001b[0m\u001b[0mx\u001b[0m\u001b[0;34m,\u001b[0m \u001b[0ma\u001b[0m\u001b[0;34m)\u001b[0m\u001b[0;34m\u001b[0m\u001b[0;34m\u001b[0m\u001b[0m\n\u001b[0m\u001b[1;32m      6\u001b[0m     \u001b[0ma\u001b[0m \u001b[0;34m=\u001b[0m \u001b[0;36m5\u001b[0m\u001b[0;34m\u001b[0m\u001b[0;34m\u001b[0m\u001b[0m\n\u001b[1;32m      7\u001b[0m \u001b[0;34m\u001b[0m\u001b[0m\n",
            "\u001b[0;31mUnboundLocalError\u001b[0m: local variable 'a' referenced before assignment"
          ]
        }
      ]
    },
    {
      "cell_type": "code",
      "source": [
        "a = 123\n",
        "\n",
        "def func3(x):\n",
        "    global a\n",
        "    print(x, a)\n",
        "    a = 5\n",
        "\n",
        "func3(222)\n",
        "\n",
        "print(a)"
      ],
      "metadata": {
        "colab": {
          "base_uri": "https://localhost:8080/"
        },
        "id": "pxDz0Yy2aLD3",
        "outputId": "1cd4ac59-9a24-4a17-9494-9349d5efff12"
      },
      "execution_count": null,
      "outputs": [
        {
          "output_type": "stream",
          "name": "stdout",
          "text": [
            "222 123\n",
            "5\n"
          ]
        }
      ]
    },
    {
      "cell_type": "code",
      "source": [
        "# class variable scoping\n",
        "\n",
        "class Person:\n",
        "    n_people = 0\n",
        "\n",
        "    def __init__(self, name=\"?\"*3, age=999):\n",
        "        Person.n_people += 1\n",
        "        self.name = name\n",
        "        self.age = age\n",
        "        self.ID = Person.n_people\n",
        "\n",
        "    def __repr__(self):\n",
        "        return f'Person({self.name}, {self.age}) ID={self.ID}'\n",
        "\n",
        "    def number_of_people():\n",
        "        return Person.n_people\n",
        "\n",
        "p0 = Person()\n",
        "p1 = Person('Ned', 61)\n",
        "p2 = Person('Sally', 22)\n",
        "\n",
        "print(p0)\n",
        "print(p1)\n",
        "print(p2)\n",
        "\n",
        "print(f'How many people created? {Person.number_of_people()}')\n",
        "\n",
        "people = [Person() for i in range(200)]\n",
        "\n",
        "print(f'How many people created? {Person.number_of_people()}')\n",
        "print(people)\n",
        "\n"
      ],
      "metadata": {
        "colab": {
          "base_uri": "https://localhost:8080/"
        },
        "id": "4FOMmNe9b9f6",
        "outputId": "3363dedf-df41-4494-c406-613d9dd8afd5"
      },
      "execution_count": null,
      "outputs": [
        {
          "output_type": "stream",
          "name": "stdout",
          "text": [
            "Person(???, 999) ID=1\n",
            "Person(Ned, 61) ID=2\n",
            "Person(Sally, 22) ID=3\n",
            "How many people created? 3\n",
            "How many people created? 203\n",
            "[Person(???, 999) ID=4, Person(???, 999) ID=5, Person(???, 999) ID=6, Person(???, 999) ID=7, Person(???, 999) ID=8, Person(???, 999) ID=9, Person(???, 999) ID=10, Person(???, 999) ID=11, Person(???, 999) ID=12, Person(???, 999) ID=13, Person(???, 999) ID=14, Person(???, 999) ID=15, Person(???, 999) ID=16, Person(???, 999) ID=17, Person(???, 999) ID=18, Person(???, 999) ID=19, Person(???, 999) ID=20, Person(???, 999) ID=21, Person(???, 999) ID=22, Person(???, 999) ID=23, Person(???, 999) ID=24, Person(???, 999) ID=25, Person(???, 999) ID=26, Person(???, 999) ID=27, Person(???, 999) ID=28, Person(???, 999) ID=29, Person(???, 999) ID=30, Person(???, 999) ID=31, Person(???, 999) ID=32, Person(???, 999) ID=33, Person(???, 999) ID=34, Person(???, 999) ID=35, Person(???, 999) ID=36, Person(???, 999) ID=37, Person(???, 999) ID=38, Person(???, 999) ID=39, Person(???, 999) ID=40, Person(???, 999) ID=41, Person(???, 999) ID=42, Person(???, 999) ID=43, Person(???, 999) ID=44, Person(???, 999) ID=45, Person(???, 999) ID=46, Person(???, 999) ID=47, Person(???, 999) ID=48, Person(???, 999) ID=49, Person(???, 999) ID=50, Person(???, 999) ID=51, Person(???, 999) ID=52, Person(???, 999) ID=53, Person(???, 999) ID=54, Person(???, 999) ID=55, Person(???, 999) ID=56, Person(???, 999) ID=57, Person(???, 999) ID=58, Person(???, 999) ID=59, Person(???, 999) ID=60, Person(???, 999) ID=61, Person(???, 999) ID=62, Person(???, 999) ID=63, Person(???, 999) ID=64, Person(???, 999) ID=65, Person(???, 999) ID=66, Person(???, 999) ID=67, Person(???, 999) ID=68, Person(???, 999) ID=69, Person(???, 999) ID=70, Person(???, 999) ID=71, Person(???, 999) ID=72, Person(???, 999) ID=73, Person(???, 999) ID=74, Person(???, 999) ID=75, Person(???, 999) ID=76, Person(???, 999) ID=77, Person(???, 999) ID=78, Person(???, 999) ID=79, Person(???, 999) ID=80, Person(???, 999) ID=81, Person(???, 999) ID=82, Person(???, 999) ID=83, Person(???, 999) ID=84, Person(???, 999) ID=85, Person(???, 999) ID=86, Person(???, 999) ID=87, Person(???, 999) ID=88, Person(???, 999) ID=89, Person(???, 999) ID=90, Person(???, 999) ID=91, Person(???, 999) ID=92, Person(???, 999) ID=93, Person(???, 999) ID=94, Person(???, 999) ID=95, Person(???, 999) ID=96, Person(???, 999) ID=97, Person(???, 999) ID=98, Person(???, 999) ID=99, Person(???, 999) ID=100, Person(???, 999) ID=101, Person(???, 999) ID=102, Person(???, 999) ID=103, Person(???, 999) ID=104, Person(???, 999) ID=105, Person(???, 999) ID=106, Person(???, 999) ID=107, Person(???, 999) ID=108, Person(???, 999) ID=109, Person(???, 999) ID=110, Person(???, 999) ID=111, Person(???, 999) ID=112, Person(???, 999) ID=113, Person(???, 999) ID=114, Person(???, 999) ID=115, Person(???, 999) ID=116, Person(???, 999) ID=117, Person(???, 999) ID=118, Person(???, 999) ID=119, Person(???, 999) ID=120, Person(???, 999) ID=121, Person(???, 999) ID=122, Person(???, 999) ID=123, Person(???, 999) ID=124, Person(???, 999) ID=125, Person(???, 999) ID=126, Person(???, 999) ID=127, Person(???, 999) ID=128, Person(???, 999) ID=129, Person(???, 999) ID=130, Person(???, 999) ID=131, Person(???, 999) ID=132, Person(???, 999) ID=133, Person(???, 999) ID=134, Person(???, 999) ID=135, Person(???, 999) ID=136, Person(???, 999) ID=137, Person(???, 999) ID=138, Person(???, 999) ID=139, Person(???, 999) ID=140, Person(???, 999) ID=141, Person(???, 999) ID=142, Person(???, 999) ID=143, Person(???, 999) ID=144, Person(???, 999) ID=145, Person(???, 999) ID=146, Person(???, 999) ID=147, Person(???, 999) ID=148, Person(???, 999) ID=149, Person(???, 999) ID=150, Person(???, 999) ID=151, Person(???, 999) ID=152, Person(???, 999) ID=153, Person(???, 999) ID=154, Person(???, 999) ID=155, Person(???, 999) ID=156, Person(???, 999) ID=157, Person(???, 999) ID=158, Person(???, 999) ID=159, Person(???, 999) ID=160, Person(???, 999) ID=161, Person(???, 999) ID=162, Person(???, 999) ID=163, Person(???, 999) ID=164, Person(???, 999) ID=165, Person(???, 999) ID=166, Person(???, 999) ID=167, Person(???, 999) ID=168, Person(???, 999) ID=169, Person(???, 999) ID=170, Person(???, 999) ID=171, Person(???, 999) ID=172, Person(???, 999) ID=173, Person(???, 999) ID=174, Person(???, 999) ID=175, Person(???, 999) ID=176, Person(???, 999) ID=177, Person(???, 999) ID=178, Person(???, 999) ID=179, Person(???, 999) ID=180, Person(???, 999) ID=181, Person(???, 999) ID=182, Person(???, 999) ID=183, Person(???, 999) ID=184, Person(???, 999) ID=185, Person(???, 999) ID=186, Person(???, 999) ID=187, Person(???, 999) ID=188, Person(???, 999) ID=189, Person(???, 999) ID=190, Person(???, 999) ID=191, Person(???, 999) ID=192, Person(???, 999) ID=193, Person(???, 999) ID=194, Person(???, 999) ID=195, Person(???, 999) ID=196, Person(???, 999) ID=197, Person(???, 999) ID=198, Person(???, 999) ID=199, Person(???, 999) ID=200, Person(???, 999) ID=201, Person(???, 999) ID=202, Person(???, 999) ID=203]\n"
          ]
        }
      ]
    },
    {
      "cell_type": "code",
      "source": [
        "# lambda\n",
        "\n",
        "a = lambda x, y: 2 * x + y\n",
        "\n",
        "print(type(a))\n",
        "\n",
        "x = a(2, 4)\n",
        "print(x)"
      ],
      "metadata": {
        "colab": {
          "base_uri": "https://localhost:8080/"
        },
        "id": "cy-uEfA6eqA2",
        "outputId": "0f33a1d2-1d38-4e9f-eb84-2c6c94d1ef31"
      },
      "execution_count": null,
      "outputs": [
        {
          "output_type": "stream",
          "name": "stdout",
          "text": [
            "<class 'function'>\n",
            "8\n"
          ]
        }
      ]
    },
    {
      "cell_type": "code",
      "source": [
        "def anyname(x, y):\n",
        "    return 2 * x + y\n",
        "\n",
        "x = anyname(2, 4)\n",
        "print(x)"
      ],
      "metadata": {
        "colab": {
          "base_uri": "https://localhost:8080/"
        },
        "id": "rmkfl2KMim2V",
        "outputId": "d1f1d66d-02a7-45d0-b7be-c9221dc6c450"
      },
      "execution_count": null,
      "outputs": [
        {
          "output_type": "stream",
          "name": "stdout",
          "text": [
            "8\n"
          ]
        }
      ]
    },
    {
      "cell_type": "code",
      "source": [],
      "metadata": {
        "id": "xzRd77eai9pF"
      },
      "execution_count": null,
      "outputs": []
    }
  ]
}