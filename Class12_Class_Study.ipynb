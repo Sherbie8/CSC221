{
  "nbformat": 4,
  "nbformat_minor": 0,
  "metadata": {
    "colab": {
      "provenance": [],
      "authorship_tag": "ABX9TyPQpBmNzZekn/tBKlRFV2F5",
      "include_colab_link": true
    },
    "kernelspec": {
      "name": "python3",
      "display_name": "Python 3"
    },
    "language_info": {
      "name": "python"
    }
  },
  "cells": [
    {
      "cell_type": "markdown",
      "metadata": {
        "id": "view-in-github",
        "colab_type": "text"
      },
      "source": [
        "<a href=\"https://colab.research.google.com/github/nleck001/CSC221/blob/main/Class12_Class_Study.ipynb\" target=\"_parent\"><img src=\"https://colab.research.google.com/assets/colab-badge.svg\" alt=\"Open In Colab\"/></a>"
      ]
    },
    {
      "cell_type": "code",
      "execution_count": null,
      "metadata": {
        "id": "KpLGniEUhdR_"
      },
      "outputs": [],
      "source": [
        "class Point2D:\n",
        "    def __init__(self, x, y):\n",
        "        self.x = x\n",
        "        self.y = y\n",
        "    def __str__(self):\n",
        "        return f'Point2D({self.x}, {self.y})'\n",
        "    def sum(self, verbose = False):\n",
        "        if verbose:\n",
        "            print(f'Point2D.sum() running...')\n",
        "        return self.x + self.y\n",
        "    def sumXY(self, verbose = False):\n",
        "        return Point2D.sum(self, verbose)\n",
        "\n",
        "class Point3D(Point2D):\n",
        "    def __init__(self, x, y, z):\n",
        "        super().__init__(x, y)\n",
        "        self.z = z\n",
        "    def __str__(self):\n",
        "        return f'Point3D({super().__str__()},{self.z})'\n",
        "    def sum(self, verbose = False):\n",
        "        if verbose:\n",
        "            print(f'Point3D.sum() running...')\n",
        "        return self.x + self.y +self.z\n",
        "\n"
      ]
    },
    {
      "cell_type": "code",
      "source": [
        "pt1 = Point2D(3,5)\n",
        "print(pt1)\n",
        "pt1.x = 6\n",
        "print(pt1)\n",
        "print(pt1.sum(verbose = True))\n",
        "print(pt1.sumXY(verbose = True))\n",
        "\n",
        "pt2 = Point3D(5, 9, 7)\n",
        "print(pt2)\n",
        "pt2.x = 6\n",
        "pt2.z = 4\n",
        "print(pt2)\n",
        "print(pt2.sum(verbose = True))\n",
        "print(pt2.sumXY(verbose = True))\n"
      ],
      "metadata": {
        "colab": {
          "base_uri": "https://localhost:8080/"
        },
        "id": "V8DQmiYEh-NM",
        "outputId": "7c6e2de0-0f87-46fc-9926-26ace20c93cb"
      },
      "execution_count": null,
      "outputs": [
        {
          "output_type": "stream",
          "name": "stdout",
          "text": [
            "Point2D(3, 5)\n",
            "Point2D(6, 5)\n",
            "Point2D.sum() running...\n",
            "11\n",
            "Point2D.sum() running...\n",
            "11\n",
            "Point3D(Point2D(5, 9),7)\n",
            "Point3D(Point2D(6, 9),4)\n",
            "Point3D.sum() running...\n",
            "19\n",
            "Point2D.sum() running...\n",
            "15\n"
          ]
        }
      ]
    },
    {
      "cell_type": "code",
      "source": [
        "print(pt1.__dict__)\n",
        "print(pt2.__dict__)"
      ],
      "metadata": {
        "colab": {
          "base_uri": "https://localhost:8080/"
        },
        "id": "fflmeYO6iA5U",
        "outputId": "ea712977-4b90-4180-fbca-e12c03588bda"
      },
      "execution_count": null,
      "outputs": [
        {
          "output_type": "stream",
          "name": "stdout",
          "text": [
            "{'x': 6, 'y': 5}\n",
            "{'x': 6, 'y': 9, 'z': 4}\n"
          ]
        }
      ]
    },
    {
      "cell_type": "code",
      "source": [
        "pt1.z = 5\n",
        "print(pt1)\n",
        "print(pt1.__dict__)\n"
      ],
      "metadata": {
        "colab": {
          "base_uri": "https://localhost:8080/"
        },
        "id": "ndKegmq9iH6T",
        "outputId": "097ad632-02e4-4c35-b2db-24da2a338394"
      },
      "execution_count": null,
      "outputs": [
        {
          "output_type": "stream",
          "name": "stdout",
          "text": [
            "Point2D(6, 5)\n",
            "{'x': 6, 'y': 5, 'z': 5}\n"
          ]
        }
      ]
    },
    {
      "cell_type": "code",
      "source": [],
      "metadata": {
        "id": "Hn2On2shkQNZ"
      },
      "execution_count": null,
      "outputs": []
    }
  ]
}