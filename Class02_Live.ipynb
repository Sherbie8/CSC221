{
  "nbformat": 4,
  "nbformat_minor": 0,
  "metadata": {
    "colab": {
      "provenance": [],
      "authorship_tag": "ABX9TyPSZD1RSyGYQH9WdSIjBtmx",
      "include_colab_link": true
    },
    "kernelspec": {
      "name": "python3",
      "display_name": "Python 3"
    },
    "language_info": {
      "name": "python"
    }
  },
  "cells": [
    {
      "cell_type": "markdown",
      "metadata": {
        "id": "view-in-github",
        "colab_type": "text"
      },
      "source": [
        "<a href=\"https://colab.research.google.com/github/nleck001/CSC221/blob/main/Class02_Live.ipynb\" target=\"_parent\"><img src=\"https://colab.research.google.com/assets/colab-badge.svg\" alt=\"Open In Colab\"/></a>"
      ]
    },
    {
      "cell_type": "markdown",
      "source": [
        "## CSC217 Class 2\n",
        "- As done live in class 8/31/2023"
      ],
      "metadata": {
        "id": "MCKY_GwSvswz"
      }
    },
    {
      "cell_type": "code",
      "execution_count": null,
      "metadata": {
        "id": "kGsjq5T6nWCF",
        "outputId": "f530ec80-cb4a-4005-c016-4a7b8f449c51",
        "colab": {
          "base_uri": "https://localhost:8080/"
        }
      },
      "outputs": [
        {
          "output_type": "stream",
          "name": "stdout",
          "text": [
            "1232\n"
          ]
        }
      ],
      "source": [
        "a = 1232\n",
        "\n",
        "print(a)"
      ]
    },
    {
      "cell_type": "code",
      "source": [
        "b = a + 1\n",
        "a = a + 7\n",
        "print(a, b)"
      ],
      "metadata": {
        "colab": {
          "base_uri": "https://localhost:8080/"
        },
        "id": "S8Io8daeoU9E",
        "outputId": "239866ad-9220-41f7-f515-ae1edf9782c8"
      },
      "execution_count": null,
      "outputs": [
        {
          "output_type": "stream",
          "name": "stdout",
          "text": [
            "1239 1233\n"
          ]
        }
      ]
    },
    {
      "cell_type": "code",
      "source": [
        "%%file ned2.py\n",
        "abc = 200\n",
        "print(abc)\n",
        "\n",
        "def nedfunc(x):\n",
        "    print(f'I am nedfunc({x})')\n",
        "    return x * 2"
      ],
      "metadata": {
        "colab": {
          "base_uri": "https://localhost:8080/"
        },
        "id": "QMcC1ps8oe_D",
        "outputId": "fcdb08af-bea3-4be4-f639-e9c7a286929a"
      },
      "execution_count": null,
      "outputs": [
        {
          "output_type": "stream",
          "name": "stdout",
          "text": [
            "Overwriting ned2.py\n"
          ]
        }
      ]
    },
    {
      "cell_type": "code",
      "source": [
        "import ned2\n",
        "\n",
        "print(ned2.nedfunc(122))"
      ],
      "metadata": {
        "colab": {
          "base_uri": "https://localhost:8080/"
        },
        "id": "joWlhvl6oqLb",
        "outputId": "e8a33071-00d7-4168-b0ba-c15fb91dd973"
      },
      "execution_count": null,
      "outputs": [
        {
          "output_type": "stream",
          "name": "stdout",
          "text": [
            "I am nedfunc(122)\n",
            "244\n"
          ]
        }
      ]
    },
    {
      "cell_type": "code",
      "source": [],
      "metadata": {
        "id": "EPaUyGIB22ny"
      },
      "execution_count": null,
      "outputs": []
    }
  ]
}