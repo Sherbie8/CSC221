{
  "nbformat": 4,
  "nbformat_minor": 0,
  "metadata": {
    "colab": {
      "provenance": [],
      "authorship_tag": "ABX9TyOcEYdhoHY1o1GFLLMi4UNa",
      "include_colab_link": true
    },
    "kernelspec": {
      "name": "python3",
      "display_name": "Python 3"
    },
    "language_info": {
      "name": "python"
    }
  },
  "cells": [
    {
      "cell_type": "markdown",
      "metadata": {
        "id": "view-in-github",
        "colab_type": "text"
      },
      "source": [
        "<a href=\"https://colab.research.google.com/github/nleck001/CSC221/blob/main/Class10_FunctionArgUses.ipynb\" target=\"_parent\"><img src=\"https://colab.research.google.com/assets/colab-badge.svg\" alt=\"Open In Colab\"/></a>"
      ]
    },
    {
      "cell_type": "code",
      "execution_count": null,
      "metadata": {
        "id": "Y16VhuLOdaZU",
        "colab": {
          "base_uri": "https://localhost:8080/"
        },
        "outputId": "029107dc-86b1-46f6-c46d-a3e826825631"
      },
      "outputs": [
        {
          "output_type": "stream",
          "name": "stdout",
          "text": [
            "[7, 16, 11, 2, 14, 12, 4, 1, 14, 20, 2, 8, 7, 17, 8, 13, 5, 6, 2, 17, 14, 13, 16, 15, 11, 6, 20, 7, 3, 12, 2, 10, 8, 3, 15, 12, 19, 11, 4, 16, 3, 7, 3, 5, 16, 14, 8, 12, 8, 7, 7, 4, 16, 11, 5, 3, 15, 2, 9, 8, 4, 4, 12, 12, 17, 12, 10, 8, 13, 6, 7, 15, 4, 13, 11, 7, 15, 18, 7, 4, 15, 2, 17, 9, 14, 4, 19, 7, 17, 19, 17, 1, 1, 13, 8, 15, 11, 18, 19, 2]\n"
          ]
        }
      ],
      "source": [
        "# Function parameter use cases\n",
        "import random\n",
        "\n",
        "# Imagine list is a list of random numbers and we want to add and remove\n",
        "rands = [random.randint(1,20) for x in range(100)]\n",
        "print(rands)\n",
        "\n"
      ]
    },
    {
      "cell_type": "code",
      "source": [
        "# I think...\n",
        "def remove_all(int_list, x):\n",
        "    while x in int_list:\n",
        "        int_list.remove(x)\n",
        "\n",
        "# To test...\n",
        "def remove_all(int_list, x):\n",
        "    print(f'initial len={len(int_list)}')\n",
        "\n",
        "    while x in int_list:\n",
        "        int_list.remove(x)\n",
        "        print('.', end=' ')\n",
        "\n",
        "    print(f'\\nfinal len={len(int_list)}')\n",
        "\n",
        "\n",
        "random.seed(1)\n",
        "rands = [random.randint(1,20) for x in range(100)]\n",
        "remove_all(rands, 17)\n"
      ],
      "metadata": {
        "colab": {
          "base_uri": "https://localhost:8080/"
        },
        "id": "8w7T7GFSd6Kw",
        "outputId": "1e474cc2-2342-491f-b256-1d27f2454636"
      },
      "execution_count": null,
      "outputs": [
        {
          "output_type": "stream",
          "name": "stdout",
          "text": [
            "initial len=100\n",
            ". . . . . . . . \n",
            "final len=92\n"
          ]
        }
      ]
    },
    {
      "cell_type": "code",
      "source": [
        "# Moving toward production grade\n",
        "\n",
        "def remove_all(int_list, x, verbose=False):\n",
        "    '''\n",
        "    Remove all instances of x from list_int\n",
        "    verbose=True will print info on how the function is working\n",
        "    '''\n",
        "    if(verbose): print(f'remove_all(int_list, {x=}, {verbose=})\\ninitial len={len(int_list)}')\n",
        "\n",
        "    while x in int_list:\n",
        "        int_list.remove(x)\n",
        "        if(verbose): print('.', end=' ')\n",
        "\n",
        "    if(verbose): print(f'\\nfinal len={len(int_list)}')\n",
        "\n",
        "random.seed(1)\n",
        "rands = [random.randint(1,20) for x in range(100)]\n",
        "remove_all(rands, 17)\n",
        "print(len(rands))\n",
        "\n",
        "\n",
        "random.seed(1)\n",
        "rands = [random.randint(1,20) for x in range(100)]\n",
        "remove_all(rands, 17, True)\n",
        "print(len(rands))\n",
        "\n",
        "random.seed(1)\n",
        "rands = [random.randint(1,20) for x in range(100)]\n",
        "remove_all(x=17, int_list=rands, verbose=17)\n",
        "print(len(rands))\n"
      ],
      "metadata": {
        "colab": {
          "base_uri": "https://localhost:8080/"
        },
        "id": "-MOcmmENf15Z",
        "outputId": "265a406c-665b-4471-b823-5153464a6a3b"
      },
      "execution_count": null,
      "outputs": [
        {
          "output_type": "stream",
          "name": "stdout",
          "text": [
            "92\n",
            "remove_all(int_list, x=17, verbose=True)\n",
            "initial len=100\n",
            ". . . . . . . . \n",
            "final len=92\n",
            "92\n",
            "remove_all(int_list, x=17, verbose=17)\n",
            "initial len=100\n",
            ". . . . . . . . \n",
            "final len=92\n",
            "92\n"
          ]
        }
      ]
    },
    {
      "cell_type": "code",
      "source": [
        "help(remove_all)"
      ],
      "metadata": {
        "colab": {
          "base_uri": "https://localhost:8080/"
        },
        "id": "JPXPnyJ2gq-3",
        "outputId": "dea83dff-92ee-4e27-ede9-9ddf3b2798c4"
      },
      "execution_count": null,
      "outputs": [
        {
          "output_type": "stream",
          "name": "stdout",
          "text": [
            "Help on function remove_all in module __main__:\n",
            "\n",
            "remove_all(int_list, x, verbose=False)\n",
            "    Remove all instances of x from list_int\n",
            "    verbose=True will print info on how the function is working\n",
            "\n"
          ]
        }
      ]
    },
    {
      "cell_type": "code",
      "source": [
        "\n",
        "def make_rands(lo=1, hi=20, count=100, reseed=0, verbose=False):\n",
        "    '''\n",
        "    Make count randints from lo to hi and return them as a list.\n",
        "      if reseed != 0, we reseed the random number generator\n",
        "      verbose=True will show progress\n",
        "    '''\n",
        "    if verbose: print(f'make_rands({lo=}, {hi=}, {count=}, {reseed=}, {verbose=})')\n",
        "    if reseed: random.seed(reseed)\n",
        "    return [random.randint(lo, hi) for x in range(count)]\n",
        "\n",
        "rands = make_rands(5)\n",
        "remove_all(x=17, int_list=rands, verbose=17)\n",
        "print(len(rands))\n"
      ],
      "metadata": {
        "colab": {
          "base_uri": "https://localhost:8080/"
        },
        "id": "-LPmqJhEhme1",
        "outputId": "9a625f06-ad58-4a47-a928-3f8536ec0548"
      },
      "execution_count": null,
      "outputs": [
        {
          "output_type": "stream",
          "name": "stdout",
          "text": [
            "remove_all(int_list, x=17, verbose=17)\n",
            "initial len=100\n",
            ". . . . . . . . . . . \n",
            "final len=89\n",
            "89\n"
          ]
        }
      ]
    },
    {
      "cell_type": "code",
      "source": [
        "rands = make_rands(5, 8, verbose=True)"
      ],
      "metadata": {
        "colab": {
          "base_uri": "https://localhost:8080/"
        },
        "id": "P1vbJOzOj-PY",
        "outputId": "eff66a62-af19-43ad-bf6f-7aa88a1f64c9"
      },
      "execution_count": null,
      "outputs": [
        {
          "output_type": "stream",
          "name": "stdout",
          "text": [
            "make_rands(lo=5, hi=8, count=100, reseed=0, verbose=True)\n"
          ]
        }
      ]
    },
    {
      "cell_type": "code",
      "source": [
        "help(make_rands)"
      ],
      "metadata": {
        "colab": {
          "base_uri": "https://localhost:8080/"
        },
        "id": "36vGN8A4kK9Q",
        "outputId": "bc76aba3-1541-451c-82a9-9c60f8f81f97"
      },
      "execution_count": null,
      "outputs": [
        {
          "output_type": "stream",
          "name": "stdout",
          "text": [
            "Help on function make_rands in module __main__:\n",
            "\n",
            "make_rands(lo=1, hi=20, count=100, reseed=0, verbose=False)\n",
            "    Make count randints from lo to hi and return them as a list.\n",
            "      if reseed != 0, we reseed the random number generator\n",
            "      verbose=True will show progress\n",
            "\n"
          ]
        }
      ]
    },
    {
      "cell_type": "code",
      "source": [],
      "metadata": {
        "id": "mTgU-FUakbMB"
      },
      "execution_count": null,
      "outputs": []
    }
  ]
}