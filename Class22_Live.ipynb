{
  "nbformat": 4,
  "nbformat_minor": 0,
  "metadata": {
    "colab": {
      "provenance": [],
      "authorship_tag": "ABX9TyMoXhZRieewQFT9Et6ysvWU",
      "include_colab_link": true
    },
    "kernelspec": {
      "name": "python3",
      "display_name": "Python 3"
    },
    "language_info": {
      "name": "python"
    }
  },
  "cells": [
    {
      "cell_type": "markdown",
      "metadata": {
        "id": "view-in-github",
        "colab_type": "text"
      },
      "source": [
        "<a href=\"https://colab.research.google.com/github/nleck001/CSC221/blob/main/Class22_Live.ipynb\" target=\"_parent\"><img src=\"https://colab.research.google.com/assets/colab-badge.svg\" alt=\"Open In Colab\"/></a>"
      ]
    },
    {
      "cell_type": "code",
      "execution_count": 1,
      "metadata": {
        "colab": {
          "base_uri": "https://localhost:8080/"
        },
        "id": "htPPIAjMPy3J",
        "outputId": "b7dcdaa2-cab3-4ab2-ecd8-ee9f797c9d0f"
      },
      "outputs": [
        {
          "output_type": "stream",
          "name": "stdout",
          "text": [
            "I'm worth $0.05\n"
          ]
        }
      ],
      "source": [
        "# Class 22 Live!\n",
        "\n",
        "class Money:\n",
        "    def __init__(self, value):\n",
        "        self.value = value\n",
        "    def __repr__(self):\n",
        "        return f\"I'm worth ${self.value:0.2f}\"\n",
        "\n",
        "m1 = Money(0.05)\n",
        "print(m1)\n"
      ]
    },
    {
      "cell_type": "code",
      "source": [
        "m1 = Money(0.25)\n",
        "m2 = Money(.05)\n",
        "m3 = Money(.01)\n",
        "m4 = Money(1.00)\n",
        "wallet = [m1, m2, m3, m4]\n",
        "print(wallet)\n",
        "#wallet.sort()\n",
        "#print(wallet)\n",
        "#print(sum(wallet))"
      ],
      "metadata": {
        "colab": {
          "base_uri": "https://localhost:8080/"
        },
        "id": "tPZZ5KmlWrCh",
        "outputId": "e08f2866-354f-4f01-d40e-b826c595ea70"
      },
      "execution_count": 2,
      "outputs": [
        {
          "output_type": "stream",
          "name": "stdout",
          "text": [
            "[I'm worth $0.25, I'm worth $0.05, I'm worth $0.01, I'm worth $1.00]\n"
          ]
        }
      ]
    },
    {
      "cell_type": "code",
      "source": [
        "# Let's sort!\n",
        "class Money:\n",
        "    def __init__(self, value):\n",
        "        self.value = value\n",
        "    def __repr__(self):\n",
        "        return f\"I'm worth ${self.value:0.2f}\"\n",
        "    def __lt__(self, other):\n",
        "        return self.value < other.value\n",
        "\n",
        "m1 = Money(0.25)\n",
        "m2 = Money(.05)\n",
        "m3 = Money(.01)\n",
        "m4 = Money(1.00)\n",
        "wallet = [m1, m2, m3, m4]\n",
        "print(wallet)\n",
        "wallet.sort()\n",
        "print(wallet)\n",
        "#print(sum(wallet))"
      ],
      "metadata": {
        "colab": {
          "base_uri": "https://localhost:8080/"
        },
        "id": "3YZYQcO6W7IA",
        "outputId": "6af3a18d-3118-4f5e-b90b-bf03893c6d27"
      },
      "execution_count": 3,
      "outputs": [
        {
          "output_type": "stream",
          "name": "stdout",
          "text": [
            "[I'm worth $0.25, I'm worth $0.05, I'm worth $0.01, I'm worth $1.00]\n",
            "[I'm worth $0.01, I'm worth $0.05, I'm worth $0.25, I'm worth $1.00]\n"
          ]
        }
      ]
    },
    {
      "cell_type": "code",
      "source": [
        "# Let's sort and sum\n",
        "class Money:\n",
        "    def __init__(self, value):\n",
        "        self.value = value\n",
        "    def __repr__(self):\n",
        "        return f\"I'm worth ${self.value:0.2f}\"\n",
        "    def __lt__(self, other):\n",
        "        return self.value < other.value\n",
        "    def __add__(self, other):\n",
        "        print(f'__add__({self}, {other})')\n",
        "        return self.value + other.value\n",
        "    def __radd__(self, other):\n",
        "        print(f'__radd__({self}, {other})')\n",
        "        return self.value + other\n",
        "\n",
        "m1 = Money(0.25)\n",
        "m2 = Money(.05)\n",
        "m3 = Money(.01)\n",
        "m4 = Money(1.00)\n",
        "wallet = [m1, m2, m3, m4]\n",
        "print(wallet)\n",
        "wallet.sort()\n",
        "print(wallet)\n",
        "print(sum(wallet))"
      ],
      "metadata": {
        "colab": {
          "base_uri": "https://localhost:8080/"
        },
        "id": "Vzp4NfxYXqHS",
        "outputId": "926fd622-095c-4569-bf31-aa654fcc8c5e"
      },
      "execution_count": 4,
      "outputs": [
        {
          "output_type": "stream",
          "name": "stdout",
          "text": [
            "[I'm worth $0.25, I'm worth $0.05, I'm worth $0.01, I'm worth $1.00]\n",
            "[I'm worth $0.01, I'm worth $0.05, I'm worth $0.25, I'm worth $1.00]\n",
            "__radd__(I'm worth $0.01, 0)\n",
            "__radd__(I'm worth $0.05, 0.01)\n",
            "__radd__(I'm worth $0.25, 0.060000000000000005)\n",
            "__radd__(I'm worth $1.00, 0.31)\n",
            "1.31\n"
          ]
        }
      ]
    },
    {
      "cell_type": "code",
      "source": [
        "# Container protocol\n",
        "# Special dictionary that actually does something everytime we lookup a key\n",
        "\n",
        "class Machine:\n",
        "    def __getitem__(self, key):\n",
        "        #print(f'__getitem__({key})')\n",
        "        return 123\n",
        "\n",
        "m1 = Machine()\n",
        "\n",
        "print(m1['temp'])"
      ],
      "metadata": {
        "id": "tf9GMz3WYlh7",
        "outputId": "f37df93f-e4c8-4392-a394-5d4b3643eed2",
        "colab": {
          "base_uri": "https://localhost:8080/"
        }
      },
      "execution_count": 5,
      "outputs": [
        {
          "output_type": "stream",
          "name": "stdout",
          "text": [
            "123\n"
          ]
        }
      ]
    },
    {
      "cell_type": "code",
      "source": [
        "from datetime import datetime\n",
        "\n",
        "class Machine:\n",
        "    def __len__(self):\n",
        "        return 2\n",
        "    def __getitem__(self, key):\n",
        "        if key == 'temp':\n",
        "            # Go to website or blah and get temp\n",
        "            temp = 21.6\n",
        "            return temp\n",
        "        elif key == 'time':\n",
        "            return datetime.now()\n",
        "        else:\n",
        "            return 'Unknown Item'\n",
        "\n",
        "m1 = Machine()\n",
        "\n",
        "print(m1['temp'])\n",
        "print(m1['time'])\n",
        "print(m1['humidity'])\n",
        "\n",
        "print(len(m1))"
      ],
      "metadata": {
        "id": "syOB34VjYFRW",
        "outputId": "3881f811-d977-4fea-e0d2-a5baf2d94de5",
        "colab": {
          "base_uri": "https://localhost:8080/"
        }
      },
      "execution_count": 6,
      "outputs": [
        {
          "output_type": "stream",
          "name": "stdout",
          "text": [
            "21.6\n",
            "2023-11-14 19:48:18.287019\n",
            "Unknown Item\n",
            "2\n"
          ]
        }
      ]
    }
  ]
}