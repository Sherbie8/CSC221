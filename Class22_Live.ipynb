{
  "nbformat": 4,
  "nbformat_minor": 0,
  "metadata": {
    "colab": {
      "provenance": [],
      "authorship_tag": "ABX9TyPOxG9ZNHfQBFKFPQ12Ir5p",
      "include_colab_link": true
    },
    "kernelspec": {
      "name": "python3",
      "display_name": "Python 3"
    },
    "language_info": {
      "name": "python"
    }
  },
  "cells": [
    {
      "cell_type": "markdown",
      "metadata": {
        "id": "view-in-github",
        "colab_type": "text"
      },
      "source": [
        "<a href=\"https://colab.research.google.com/github/nleck001/CSC221/blob/main/Class22_Live.ipynb\" target=\"_parent\"><img src=\"https://colab.research.google.com/assets/colab-badge.svg\" alt=\"Open In Colab\"/></a>"
      ]
    },
    {
      "cell_type": "code",
      "execution_count": null,
      "metadata": {
        "colab": {
          "base_uri": "https://localhost:8080/"
        },
        "id": "htPPIAjMPy3J",
        "outputId": "397ae374-18ca-4abb-b53a-c9e2af60dfad"
      },
      "outputs": [
        {
          "output_type": "stream",
          "name": "stdout",
          "text": [
            "I'm worth $0.05\n"
          ]
        }
      ],
      "source": [
        "# Class 22 Live!\n",
        "\n",
        "class Money:\n",
        "    def __init__(self, value):\n",
        "        self.value = value\n",
        "    def __repr__(self):\n",
        "        return f\"I'm worth ${self.value:0.2f}\"\n",
        "\n",
        "m1 = Money(0.05)\n",
        "print(m1)\n"
      ]
    },
    {
      "cell_type": "code",
      "source": [
        "m1 = Money(0.25)\n",
        "m2 = Money(.05)\n",
        "m3 = Money(.01)\n",
        "m4 = Money(1.00)\n",
        "wallet = [m1, m2, m3, m4]\n",
        "print(wallet)\n",
        "#wallet.sort()\n",
        "#print(wallet)\n",
        "#print(sum(wallet))"
      ],
      "metadata": {
        "colab": {
          "base_uri": "https://localhost:8080/",
          "height": 262
        },
        "id": "tPZZ5KmlWrCh",
        "outputId": "975866f3-64c7-42aa-ea12-e2fb2e80caac"
      },
      "execution_count": null,
      "outputs": [
        {
          "output_type": "stream",
          "name": "stdout",
          "text": [
            "[I'm worth $0.25, I'm worth $0.05, I'm worth $0.01, I'm worth $1.00]\n"
          ]
        },
        {
          "output_type": "error",
          "ename": "TypeError",
          "evalue": "ignored",
          "traceback": [
            "\u001b[0;31m---------------------------------------------------------------------------\u001b[0m",
            "\u001b[0;31mTypeError\u001b[0m                                 Traceback (most recent call last)",
            "\u001b[0;32m<ipython-input-4-f1f02026b489>\u001b[0m in \u001b[0;36m<cell line: 7>\u001b[0;34m()\u001b[0m\n\u001b[1;32m      5\u001b[0m \u001b[0mwallet\u001b[0m \u001b[0;34m=\u001b[0m \u001b[0;34m[\u001b[0m\u001b[0mm1\u001b[0m\u001b[0;34m,\u001b[0m \u001b[0mm2\u001b[0m\u001b[0;34m,\u001b[0m \u001b[0mm3\u001b[0m\u001b[0;34m,\u001b[0m \u001b[0mm4\u001b[0m\u001b[0;34m]\u001b[0m\u001b[0;34m\u001b[0m\u001b[0;34m\u001b[0m\u001b[0m\n\u001b[1;32m      6\u001b[0m \u001b[0mprint\u001b[0m\u001b[0;34m(\u001b[0m\u001b[0mwallet\u001b[0m\u001b[0;34m)\u001b[0m\u001b[0;34m\u001b[0m\u001b[0;34m\u001b[0m\u001b[0m\n\u001b[0;32m----> 7\u001b[0;31m \u001b[0mwallet\u001b[0m\u001b[0;34m.\u001b[0m\u001b[0msort\u001b[0m\u001b[0;34m(\u001b[0m\u001b[0;34m)\u001b[0m\u001b[0;34m\u001b[0m\u001b[0;34m\u001b[0m\u001b[0m\n\u001b[0m\u001b[1;32m      8\u001b[0m \u001b[0;31m#print(wallet)\u001b[0m\u001b[0;34m\u001b[0m\u001b[0;34m\u001b[0m\u001b[0m\n\u001b[1;32m      9\u001b[0m \u001b[0;31m#print(sum(wallet))\u001b[0m\u001b[0;34m\u001b[0m\u001b[0;34m\u001b[0m\u001b[0m\n",
            "\u001b[0;31mTypeError\u001b[0m: '<' not supported between instances of 'Money' and 'Money'"
          ]
        }
      ]
    },
    {
      "cell_type": "code",
      "source": [
        "# Let's sort!\n",
        "class Money:\n",
        "    def __init__(self, value):\n",
        "        self.value = value\n",
        "    def __repr__(self):\n",
        "        return f\"I'm worth ${self.value:0.2f}\"\n",
        "    def __lt__(self, other):\n",
        "        return self.value < other.value\n",
        "\n",
        "m1 = Money(0.25)\n",
        "m2 = Money(.05)\n",
        "m3 = Money(.01)\n",
        "m4 = Money(1.00)\n",
        "wallet = [m1, m2, m3, m4]\n",
        "print(wallet)\n",
        "wallet.sort()\n",
        "print(wallet)\n",
        "#print(sum(wallet))"
      ],
      "metadata": {
        "colab": {
          "base_uri": "https://localhost:8080/"
        },
        "id": "3YZYQcO6W7IA",
        "outputId": "36cf22d4-a01b-462a-93a9-78191cdfb927"
      },
      "execution_count": null,
      "outputs": [
        {
          "output_type": "stream",
          "name": "stdout",
          "text": [
            "[I'm worth $0.25, I'm worth $0.05, I'm worth $0.01, I'm worth $1.00]\n",
            "[I'm worth $0.01, I'm worth $0.05, I'm worth $0.25, I'm worth $1.00]\n"
          ]
        }
      ]
    },
    {
      "cell_type": "code",
      "source": [
        "# Let's sort and sum\n",
        "class Money:\n",
        "    def __init__(self, value):\n",
        "        self.value = value\n",
        "    def __repr__(self):\n",
        "        return f\"I'm worth ${self.value:0.2f}\"\n",
        "    def __lt__(self, other):\n",
        "        return self.value < other.value\n",
        "    def __add__(self, other):\n",
        "        print(f'__add__({self}, {other})')\n",
        "        return self.value + other.value\n",
        "    def __radd__(self, other):\n",
        "        print(f'__radd__({self}, {other})')\n",
        "        return self.value + other\n",
        "\n",
        "m1 = Money(0.25)\n",
        "m2 = Money(.05)\n",
        "m3 = Money(.01)\n",
        "m4 = Money(1.00)\n",
        "wallet = [m1, m2, m3, m4]\n",
        "print(wallet)\n",
        "wallet.sort()\n",
        "print(wallet)\n",
        "print(sum(wallet))"
      ],
      "metadata": {
        "colab": {
          "base_uri": "https://localhost:8080/"
        },
        "id": "Vzp4NfxYXqHS",
        "outputId": "ea3d039e-e389-4140-85ff-05f7adfa6a14"
      },
      "execution_count": null,
      "outputs": [
        {
          "output_type": "stream",
          "name": "stdout",
          "text": [
            "[I'm worth $0.25, I'm worth $0.05, I'm worth $0.01, I'm worth $1.00]\n",
            "[I'm worth $0.01, I'm worth $0.05, I'm worth $0.25, I'm worth $1.00]\n",
            "__radd__(I'm worth $0.01, 0)\n",
            "__radd__(I'm worth $0.05, 0.01)\n",
            "__radd__(I'm worth $0.25, 0.060000000000000005)\n",
            "__radd__(I'm worth $1.00, 0.31)\n",
            "1.31\n"
          ]
        }
      ]
    },
    {
      "cell_type": "code",
      "source": [],
      "metadata": {
        "id": "tf9GMz3WYlh7"
      },
      "execution_count": null,
      "outputs": []
    }
  ]
}