{
  "nbformat": 4,
  "nbformat_minor": 0,
  "metadata": {
    "colab": {
      "provenance": [],
      "authorship_tag": "ABX9TyN8tEQ1S0VhcA5CNbdRGdq5",
      "include_colab_link": true
    },
    "kernelspec": {
      "name": "python3",
      "display_name": "Python 3"
    },
    "language_info": {
      "name": "python"
    }
  },
  "cells": [
    {
      "cell_type": "markdown",
      "metadata": {
        "id": "view-in-github",
        "colab_type": "text"
      },
      "source": [
        "<a href=\"https://colab.research.google.com/github/nleck001/CSC221/blob/main/Class20_FileHandling.ipynb\" target=\"_parent\"><img src=\"https://colab.research.google.com/assets/colab-badge.svg\" alt=\"Open In Colab\"/></a>"
      ]
    },
    {
      "cell_type": "code",
      "source": [
        "# Examples from class- file handling alternatives"
      ],
      "metadata": {
        "id": "uSKq_Pp2h4P3"
      },
      "execution_count": 1,
      "outputs": []
    },
    {
      "cell_type": "code",
      "execution_count": 2,
      "metadata": {
        "colab": {
          "base_uri": "https://localhost:8080/"
        },
        "id": "ffdsbxIbM2he",
        "outputId": "47056cee-1982-452e-9752-1f9d5ac90133"
      },
      "outputs": [
        {
          "output_type": "stream",
          "name": "stdout",
          "text": [
            "Writing data.txt\n"
          ]
        }
      ],
      "source": [
        "%%file data.txt\n",
        "Hi I'm line 1\n",
        "I'm line 2\n",
        "I'm 3\n",
        "4 here"
      ]
    },
    {
      "cell_type": "code",
      "source": [
        "# Sandbox\n",
        "f1 = open(\"data.txt\", \"r\")\n",
        "\n",
        "text = f1.readlines()\n",
        "print(type(text))\n",
        "print(text)\n",
        "\n",
        "f1.close()\n"
      ],
      "metadata": {
        "colab": {
          "base_uri": "https://localhost:8080/"
        },
        "id": "UKObcgkjPIeM",
        "outputId": "9ceff1b3-c5e2-4f9e-e7cc-4663b27fbaed"
      },
      "execution_count": 3,
      "outputs": [
        {
          "output_type": "stream",
          "name": "stdout",
          "text": [
            "<class 'list'>\n",
            "[\"Hi I'm line 1\\n\", \"I'm line 2\\n\", \"I'm 3\\n\", '4 here\\n']\n"
          ]
        }
      ]
    },
    {
      "cell_type": "code",
      "source": [
        "# Technique 1: Read all lines into list and count lines\n",
        "f1 = open(\"data.txt\", \"r\")\n",
        "\n",
        "lines = f1.readlines()\n",
        "print(type(lines))\n",
        "print(lines)\n",
        "\n",
        "f1.close()\n",
        "\n",
        "line_no = 1\n",
        "for line in lines:\n",
        "    if line_no != 2:\n",
        "        print(line, end='')\n",
        "    line_no += 1\n"
      ],
      "metadata": {
        "colab": {
          "base_uri": "https://localhost:8080/"
        },
        "id": "2RIrVoMzPkxf",
        "outputId": "3cdfe33a-d168-4161-b01b-ad35a11e13c7"
      },
      "execution_count": 4,
      "outputs": [
        {
          "output_type": "stream",
          "name": "stdout",
          "text": [
            "<class 'list'>\n",
            "[\"Hi I'm line 1\\n\", \"I'm line 2\\n\", \"I'm 3\\n\", '4 here\\n']\n",
            "Hi I'm line 1\n",
            "I'm 3\n",
            "4 here\n"
          ]
        }
      ]
    },
    {
      "cell_type": "code",
      "source": [
        "# Technique 2: Read all lines into list and drop second item\n",
        "f1 = open(\"data.txt\", \"r\")\n",
        "\n",
        "lines = f1.readlines()\n",
        "print(type(lines))\n",
        "print(lines)\n",
        "\n",
        "f1.close()\n",
        "\n",
        "del lines[1]\n",
        "\n",
        "for line in lines:\n",
        "    print(line, end='')\n"
      ],
      "metadata": {
        "colab": {
          "base_uri": "https://localhost:8080/"
        },
        "id": "qzv47pSKQklt",
        "outputId": "035c3cc0-b3bd-4fca-c0b0-76b5f9864389"
      },
      "execution_count": 5,
      "outputs": [
        {
          "output_type": "stream",
          "name": "stdout",
          "text": [
            "<class 'list'>\n",
            "[\"Hi I'm line 1\\n\", \"I'm line 2\\n\", \"I'm 3\\n\", '4 here\\n']\n",
            "Hi I'm line 1\n",
            "I'm 3\n",
            "4 here\n"
          ]
        }
      ]
    },
    {
      "cell_type": "code",
      "source": [
        "# Technique 3: Read lines one at a time\n",
        "f1 = open(\"data.txt\", \"r\")\n",
        "\n",
        "line_no = 1\n",
        "line = f1.readline()\n",
        "while line:\n",
        "    if line_no != 2:\n",
        "        print(line, end='')\n",
        "    line = f1.readline()\n",
        "    line_no += 1\n",
        "\n",
        "f1.close()\n"
      ],
      "metadata": {
        "colab": {
          "base_uri": "https://localhost:8080/"
        },
        "id": "q865LYvQToz8",
        "outputId": "88639907-8230-4a3e-cd40-db413d49c67a"
      },
      "execution_count": 6,
      "outputs": [
        {
          "output_type": "stream",
          "name": "stdout",
          "text": [
            "Hi I'm line 1\n",
            "I'm 3\n",
            "4 here\n"
          ]
        }
      ]
    },
    {
      "cell_type": "code",
      "source": [
        "# Technique 4: Still read lines one at a time, but cleaner\n",
        "f1 = open(\"data.txt\", \"r\")\n",
        "\n",
        "line_no = 1\n",
        "while line := f1.readline():\n",
        "    if line_no != 2:\n",
        "        print(line, end='')\n",
        "    line_no += 1\n",
        "\n",
        "f1.close()\n"
      ],
      "metadata": {
        "colab": {
          "base_uri": "https://localhost:8080/"
        },
        "id": "mMgRN04sVa4-",
        "outputId": "d0c69757-381f-4467-c7d5-4cf109f91c4b"
      },
      "execution_count": 7,
      "outputs": [
        {
          "output_type": "stream",
          "name": "stdout",
          "text": [
            "Hi I'm line 1\n",
            "I'm 3\n",
            "4 here\n"
          ]
        }
      ]
    },
    {
      "cell_type": "code",
      "source": [
        "# Example What if file is huuuuuge\n",
        "import tensorflow as tf\n",
        "import time\n",
        "\n",
        "path_to_file = tf.keras.utils.get_file('shakespeare.txt',\n",
        "                                       'https://storage.googleapis.com/download.tensorflow.org/data/shakespeare.txt')\n",
        "text = open(path_to_file, 'r').read()\n",
        "print ('Total number of characters in the corpus is:', len(text))\n",
        "print('The first 100 characters of the corpus are as follows:\\n', text[:100])\n",
        "\n",
        "\n",
        "f1 = open(\"skakespeare.txt\", \"w\")\n",
        "f1.write(text)\n",
        "f1.close()"
      ],
      "metadata": {
        "colab": {
          "base_uri": "https://localhost:8080/"
        },
        "id": "luUA73wvRfTp",
        "outputId": "43c34631-4395-4eea-9801-408c2932fa31"
      },
      "execution_count": 8,
      "outputs": [
        {
          "output_type": "stream",
          "name": "stdout",
          "text": [
            "Downloading data from https://storage.googleapis.com/download.tensorflow.org/data/shakespeare.txt\n",
            "1115394/1115394 [==============================] - 0s 0us/step\n",
            "Total number of characters in the corpus is: 1115394\n",
            "The first 100 characters of the corpus are as follows:\n",
            " First Citizen:\n",
            "Before we proceed any further, hear me speak.\n",
            "\n",
            "All:\n",
            "Speak, speak.\n",
            "\n",
            "First Citizen:\n",
            "You\n"
          ]
        }
      ]
    },
    {
      "cell_type": "code",
      "source": [
        "# How many unique charcters in this file?\n",
        "chars = set(text)\n",
        "print(len(chars))"
      ],
      "metadata": {
        "colab": {
          "base_uri": "https://localhost:8080/"
        },
        "id": "OinbM2vFSOn-",
        "outputId": "18c04c01-9c8f-4c2d-8624-d0c823058b4e"
      },
      "execution_count": 9,
      "outputs": [
        {
          "output_type": "stream",
          "name": "stdout",
          "text": [
            "65\n"
          ]
        }
      ]
    },
    {
      "cell_type": "code",
      "source": [
        "print(sorted(chars))"
      ],
      "metadata": {
        "colab": {
          "base_uri": "https://localhost:8080/"
        },
        "id": "JE-1IU8LS6f-",
        "outputId": "91560c9a-6acb-4cab-a55b-ea2d3931332e"
      },
      "execution_count": 10,
      "outputs": [
        {
          "output_type": "stream",
          "name": "stdout",
          "text": [
            "['\\n', ' ', '!', '$', '&', \"'\", ',', '-', '.', '3', ':', ';', '?', 'A', 'B', 'C', 'D', 'E', 'F', 'G', 'H', 'I', 'J', 'K', 'L', 'M', 'N', 'O', 'P', 'Q', 'R', 'S', 'T', 'U', 'V', 'W', 'X', 'Y', 'Z', 'a', 'b', 'c', 'd', 'e', 'f', 'g', 'h', 'i', 'j', 'k', 'l', 'm', 'n', 'o', 'p', 'q', 'r', 's', 't', 'u', 'v', 'w', 'x', 'y', 'z']\n"
          ]
        }
      ]
    },
    {
      "cell_type": "code",
      "source": [
        "# How long to read??\n",
        "\n",
        "# Example What if file is huuuuuge\n",
        "import tensorflow as tf\n",
        "import time\n",
        "\n",
        "t0 = time.time()\n",
        "path_to_file = tf.keras.utils.get_file('shakespeare.txt',\n",
        "                                       'https://storage.googleapis.com/download.tensorflow.org/data/shakespeare.txt')\n",
        "t1 = time.time()\n",
        "text = open(path_to_file, 'r').read()\n",
        "t2 = time.time()\n",
        "\n",
        "print ('Total number of characters in the corpus is:', len(text))\n",
        "print('The first 100 characters of the corpus are as follows:\\n', text[:100])\n",
        "\n",
        "t3 = time.time()\n",
        "f1 = open(\"skakespeare.txt\", \"w\")\n",
        "f1.write(text)\n",
        "f1.close()\n",
        "t4 = time.time()\n",
        "\n",
        "print(f'get_file took {(t1-t0) * 1000:0.00f} ms')\n",
        "print(f'File.read() took {(t2-t1) * 1000:0.00f} ms')\n",
        "\n"
      ],
      "metadata": {
        "colab": {
          "base_uri": "https://localhost:8080/"
        },
        "id": "RgWNB6mJTDF0",
        "outputId": "21967662-90bb-4a28-de7b-38be2483806f"
      },
      "execution_count": 11,
      "outputs": [
        {
          "output_type": "stream",
          "name": "stdout",
          "text": [
            "Total number of characters in the corpus is: 1115394\n",
            "The first 100 characters of the corpus are as follows:\n",
            " First Citizen:\n",
            "Before we proceed any further, hear me speak.\n",
            "\n",
            "All:\n",
            "Speak, speak.\n",
            "\n",
            "First Citizen:\n",
            "You\n",
            "get_file took 0 ms\n",
            "File.read() took 2 ms\n"
          ]
        }
      ]
    },
    {
      "cell_type": "code",
      "source": [],
      "metadata": {
        "id": "1oyqm5cvXiGv"
      },
      "execution_count": 11,
      "outputs": []
    }
  ]
}