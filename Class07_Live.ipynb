{
  "nbformat": 4,
  "nbformat_minor": 0,
  "metadata": {
    "colab": {
      "provenance": [],
      "authorship_tag": "ABX9TyO4oUF+MGCsN27ck9NnSKRk",
      "include_colab_link": true
    },
    "kernelspec": {
      "name": "python3",
      "display_name": "Python 3"
    },
    "language_info": {
      "name": "python"
    }
  },
  "cells": [
    {
      "cell_type": "markdown",
      "metadata": {
        "id": "view-in-github",
        "colab_type": "text"
      },
      "source": [
        "<a href=\"https://colab.research.google.com/github/nleck001/CSC221/blob/main/Class07_Live.ipynb\" target=\"_parent\"><img src=\"https://colab.research.google.com/assets/colab-badge.svg\" alt=\"Open In Colab\"/></a>"
      ]
    },
    {
      "cell_type": "code",
      "source": [
        "# Class 7: Dictionaries\n",
        "# Live as done in class"
      ],
      "metadata": {
        "id": "5vFI5JLQsggq"
      },
      "execution_count": 34,
      "outputs": []
    },
    {
      "cell_type": "code",
      "execution_count": 35,
      "metadata": {
        "colab": {
          "base_uri": "https://localhost:8080/"
        },
        "id": "_AEYyz97u6Km",
        "outputId": "70e4c849-d427-411a-ad03-fb171180328d"
      },
      "outputs": [
        {
          "output_type": "stream",
          "name": "stdout",
          "text": [
            "<class 'dict'>\n",
            "{'ford': 'red', 'toyota': 'green', 'audi': ['blue', 2400, 31.6]}\n"
          ]
        }
      ],
      "source": [
        "# Dictionaries\n",
        "cars = {\n",
        "    'ford': 'red',\n",
        "    'toyota' : 'green',\n",
        "    'audi': ['blue', 2400, 31.6 ]\n",
        "}\n",
        "\n",
        "print(type(cars))\n",
        "print(cars)"
      ]
    },
    {
      "cell_type": "code",
      "source": [
        "try:\n",
        "    # This should bomb- can't do this!\n",
        "    print(cars[1])\n",
        "except:\n",
        "    print('I told you it would fail!')"
      ],
      "metadata": {
        "colab": {
          "base_uri": "https://localhost:8080/"
        },
        "id": "6DFVIAYAvqJY",
        "outputId": "dfec5806-d185-403d-d64f-d3e09b611bef"
      },
      "execution_count": 36,
      "outputs": [
        {
          "output_type": "stream",
          "name": "stdout",
          "text": [
            "I told you it would fail!\n"
          ]
        }
      ]
    },
    {
      "cell_type": "code",
      "source": [
        "print(cars['ford'])\n",
        "print(cars['audi'])"
      ],
      "metadata": {
        "colab": {
          "base_uri": "https://localhost:8080/"
        },
        "id": "C7cJq9Icv0av",
        "outputId": "258841a9-df35-48d6-e0d7-64be8ae8acf2"
      },
      "execution_count": 37,
      "outputs": [
        {
          "output_type": "stream",
          "name": "stdout",
          "text": [
            "red\n",
            "['blue', 2400, 31.6]\n"
          ]
        }
      ]
    },
    {
      "cell_type": "code",
      "source": [
        "cars['hyundai'] = [12, 3, 'wert']\n",
        "print(cars)"
      ],
      "metadata": {
        "colab": {
          "base_uri": "https://localhost:8080/"
        },
        "id": "kpeJpRxPwBq_",
        "outputId": "c13777b3-7834-4bf0-ded6-0ee67769feb0"
      },
      "execution_count": 38,
      "outputs": [
        {
          "output_type": "stream",
          "name": "stdout",
          "text": [
            "{'ford': 'red', 'toyota': 'green', 'audi': ['blue', 2400, 31.6], 'hyundai': [12, 3, 'wert']}\n"
          ]
        }
      ]
    },
    {
      "cell_type": "code",
      "source": [
        "cars['ford'] = 20\n",
        "print(cars)"
      ],
      "metadata": {
        "colab": {
          "base_uri": "https://localhost:8080/"
        },
        "id": "PRx9A30-wZvP",
        "outputId": "54e15714-04a1-4734-9a33-a4da2e16bb26"
      },
      "execution_count": 39,
      "outputs": [
        {
          "output_type": "stream",
          "name": "stdout",
          "text": [
            "{'ford': 20, 'toyota': 'green', 'audi': ['blue', 2400, 31.6], 'hyundai': [12, 3, 'wert']}\n"
          ]
        }
      ]
    },
    {
      "cell_type": "code",
      "source": [
        "del cars['ford']\n",
        "print(cars)"
      ],
      "metadata": {
        "colab": {
          "base_uri": "https://localhost:8080/"
        },
        "id": "GT7t5ovXwjCQ",
        "outputId": "aa2038d0-39ee-4dad-8652-62e2b8d48139"
      },
      "execution_count": 40,
      "outputs": [
        {
          "output_type": "stream",
          "name": "stdout",
          "text": [
            "{'toyota': 'green', 'audi': ['blue', 2400, 31.6], 'hyundai': [12, 3, 'wert']}\n"
          ]
        }
      ]
    },
    {
      "cell_type": "code",
      "source": [
        "# An aside: Sets!!\n",
        "# Dictionaries with no values! Sets\n",
        "people = {'ned', 'john', 'ankita'}\n",
        "print(type(people))"
      ],
      "metadata": {
        "colab": {
          "base_uri": "https://localhost:8080/"
        },
        "id": "Val8hWm-wuII",
        "outputId": "2a2da130-add3-40cc-a16d-9d869c884a5a"
      },
      "execution_count": 41,
      "outputs": [
        {
          "output_type": "stream",
          "name": "stdout",
          "text": [
            "<class 'set'>\n"
          ]
        }
      ]
    },
    {
      "cell_type": "code",
      "source": [
        "people.add('jeff')\n",
        "print(people)"
      ],
      "metadata": {
        "colab": {
          "base_uri": "https://localhost:8080/"
        },
        "id": "L3idyfpexLPg",
        "outputId": "d9904a48-029e-4ca3-b62f-a45906391f5c"
      },
      "execution_count": 42,
      "outputs": [
        {
          "output_type": "stream",
          "name": "stdout",
          "text": [
            "{'jeff', 'ned', 'ankita', 'john'}\n"
          ]
        }
      ]
    },
    {
      "cell_type": "code",
      "source": [
        "people.add('ned')\n",
        "print(people)"
      ],
      "metadata": {
        "colab": {
          "base_uri": "https://localhost:8080/"
        },
        "id": "t8dIYVBjxXi7",
        "outputId": "4eca9e28-e764-44bc-a5b0-20d94a5bb1db"
      },
      "execution_count": 43,
      "outputs": [
        {
          "output_type": "stream",
          "name": "stdout",
          "text": [
            "{'jeff', 'ned', 'ankita', 'john'}\n"
          ]
        }
      ]
    },
    {
      "cell_type": "code",
      "source": [
        "# So, what are you??\n",
        "empty_dict = {}\n",
        "print(type(empty_dict))\n",
        "empty_set = set()\n",
        "print(type(empty_set))\n"
      ],
      "metadata": {
        "colab": {
          "base_uri": "https://localhost:8080/"
        },
        "id": "6bQfikzLxcBY",
        "outputId": "3e6e66ce-6ed1-4b6b-9237-a1a80a79cfcc"
      },
      "execution_count": 44,
      "outputs": [
        {
          "output_type": "stream",
          "name": "stdout",
          "text": [
            "<class 'dict'>\n",
            "<class 'set'>\n"
          ]
        }
      ]
    },
    {
      "cell_type": "code",
      "source": [
        "empty_dict['fred'] = 12345\n",
        "print(empty_dict)"
      ],
      "metadata": {
        "colab": {
          "base_uri": "https://localhost:8080/"
        },
        "id": "Kbw_vyKkxw6p",
        "outputId": "1a199866-0771-4f9b-b102-4760b170f0af"
      },
      "execution_count": 45,
      "outputs": [
        {
          "output_type": "stream",
          "name": "stdout",
          "text": [
            "{'fred': 12345}\n"
          ]
        }
      ]
    },
    {
      "cell_type": "code",
      "source": [
        "new_dict = empty_dict\n",
        "print(new_dict)"
      ],
      "metadata": {
        "colab": {
          "base_uri": "https://localhost:8080/"
        },
        "id": "tztiKX__yINS",
        "outputId": "cb61603f-5ca4-4a5f-ecbb-c36c561c51a9"
      },
      "execution_count": 46,
      "outputs": [
        {
          "output_type": "stream",
          "name": "stdout",
          "text": [
            "{'fred': 12345}\n"
          ]
        }
      ]
    },
    {
      "cell_type": "code",
      "source": [
        "empty_dict['fred'] = 'xyz'\n",
        "print(empty_dict)\n",
        "print(new_dict)\n"
      ],
      "metadata": {
        "colab": {
          "base_uri": "https://localhost:8080/"
        },
        "id": "lAyYza-9yl-q",
        "outputId": "e91099ec-7aa2-497a-bbb7-f84d0e439cf9"
      },
      "execution_count": 47,
      "outputs": [
        {
          "output_type": "stream",
          "name": "stdout",
          "text": [
            "{'fred': 'xyz'}\n",
            "{'fred': 'xyz'}\n"
          ]
        }
      ]
    },
    {
      "cell_type": "code",
      "source": [
        "# Explore pointers!\n",
        "d1 = {'k1': 'value1', 'k2': 'value2'}\n",
        "d2 = {'k1': 'value1', 'k2': 'value2'}\n",
        "\n",
        "print(d1)\n",
        "print(d2)\n",
        "print(d1 == d2)\n",
        "print(d1 is d2)\n",
        "d1['k3'] = 'test'\n",
        "print(d1)\n",
        "print(d2)\n",
        "print(d1 == d2)\n",
        "print(d1 is d2)\n",
        "\n"
      ],
      "metadata": {
        "colab": {
          "base_uri": "https://localhost:8080/"
        },
        "id": "wm1Sa2Tny1c6",
        "outputId": "ff752280-2a1e-4755-e843-79e9fe319711"
      },
      "execution_count": 48,
      "outputs": [
        {
          "output_type": "stream",
          "name": "stdout",
          "text": [
            "{'k1': 'value1', 'k2': 'value2'}\n",
            "{'k1': 'value1', 'k2': 'value2'}\n",
            "True\n",
            "False\n",
            "{'k1': 'value1', 'k2': 'value2', 'k3': 'test'}\n",
            "{'k1': 'value1', 'k2': 'value2'}\n",
            "False\n",
            "False\n"
          ]
        }
      ]
    },
    {
      "cell_type": "code",
      "source": [
        "d2 = d1\n",
        "print(d1)\n",
        "print(d2)\n",
        "print(d1 == d2)\n",
        "print(d1 is d2)\n",
        "\n",
        "d1['k3'] = 'testing123'\n",
        "print(d1)\n",
        "print(d2)\n",
        "print(d1 == d2)\n",
        "print(d1 is d2)\n",
        "\n",
        "\n"
      ],
      "metadata": {
        "colab": {
          "base_uri": "https://localhost:8080/"
        },
        "id": "qRsYrKpbz60D",
        "outputId": "517b0c7d-a747-44ec-f16e-55ab9d34ddd1"
      },
      "execution_count": 49,
      "outputs": [
        {
          "output_type": "stream",
          "name": "stdout",
          "text": [
            "{'k1': 'value1', 'k2': 'value2', 'k3': 'test'}\n",
            "{'k1': 'value1', 'k2': 'value2', 'k3': 'test'}\n",
            "True\n",
            "True\n",
            "{'k1': 'value1', 'k2': 'value2', 'k3': 'testing123'}\n",
            "{'k1': 'value1', 'k2': 'value2', 'k3': 'testing123'}\n",
            "True\n",
            "True\n"
          ]
        }
      ]
    },
    {
      "cell_type": "code",
      "source": [
        "dir()"
      ],
      "metadata": {
        "colab": {
          "base_uri": "https://localhost:8080/"
        },
        "id": "OKGoz0MT0kgs",
        "outputId": "705d92bf-7971-48f5-f360-492d455ffaa1"
      },
      "execution_count": 50,
      "outputs": [
        {
          "output_type": "execute_result",
          "data": {
            "text/plain": [
              "['In',\n",
              " 'Out',\n",
              " '_',\n",
              " '_23',\n",
              " '__',\n",
              " '___',\n",
              " '__builtin__',\n",
              " '__builtins__',\n",
              " '__doc__',\n",
              " '__loader__',\n",
              " '__name__',\n",
              " '__package__',\n",
              " '__spec__',\n",
              " '_dh',\n",
              " '_i',\n",
              " '_i1',\n",
              " '_i10',\n",
              " '_i11',\n",
              " '_i12',\n",
              " '_i13',\n",
              " '_i14',\n",
              " '_i15',\n",
              " '_i16',\n",
              " '_i17',\n",
              " '_i18',\n",
              " '_i19',\n",
              " '_i2',\n",
              " '_i20',\n",
              " '_i21',\n",
              " '_i22',\n",
              " '_i23',\n",
              " '_i24',\n",
              " '_i25',\n",
              " '_i26',\n",
              " '_i27',\n",
              " '_i28',\n",
              " '_i29',\n",
              " '_i3',\n",
              " '_i30',\n",
              " '_i31',\n",
              " '_i32',\n",
              " '_i33',\n",
              " '_i34',\n",
              " '_i35',\n",
              " '_i36',\n",
              " '_i37',\n",
              " '_i38',\n",
              " '_i39',\n",
              " '_i4',\n",
              " '_i40',\n",
              " '_i41',\n",
              " '_i42',\n",
              " '_i43',\n",
              " '_i44',\n",
              " '_i45',\n",
              " '_i46',\n",
              " '_i47',\n",
              " '_i48',\n",
              " '_i49',\n",
              " '_i5',\n",
              " '_i50',\n",
              " '_i6',\n",
              " '_i7',\n",
              " '_i8',\n",
              " '_i9',\n",
              " '_ih',\n",
              " '_ii',\n",
              " '_iii',\n",
              " '_oh',\n",
              " 'cars',\n",
              " 'd1',\n",
              " 'd2',\n",
              " 'empty_dict',\n",
              " 'empty_set',\n",
              " 'exit',\n",
              " 'get_ipython',\n",
              " 'item',\n",
              " 'new_dict',\n",
              " 'p1',\n",
              " 'people',\n",
              " 'person',\n",
              " 'quit',\n",
              " 'value']"
            ]
          },
          "metadata": {},
          "execution_count": 50
        }
      ]
    },
    {
      "cell_type": "code",
      "source": [
        "p1 = d1.get('k11', 0)\n",
        "\n",
        "print(p1)"
      ],
      "metadata": {
        "colab": {
          "base_uri": "https://localhost:8080/"
        },
        "id": "wqX20xwW1ET9",
        "outputId": "57adfd2a-2a74-45b1-8c08-4442a829b3ca"
      },
      "execution_count": 51,
      "outputs": [
        {
          "output_type": "stream",
          "name": "stdout",
          "text": [
            "0\n"
          ]
        }
      ]
    },
    {
      "cell_type": "code",
      "source": [
        "# Looping\n",
        "\n",
        "for person in 'nedlecky': #sorted(people):\n",
        "    print(person)\n"
      ],
      "metadata": {
        "colab": {
          "base_uri": "https://localhost:8080/"
        },
        "id": "zLnOWSyn1x1O",
        "outputId": "7b7f5766-2b1c-4d66-c635-76fff8e57e99"
      },
      "execution_count": 52,
      "outputs": [
        {
          "output_type": "stream",
          "name": "stdout",
          "text": [
            "n\n",
            "e\n",
            "d\n",
            "l\n",
            "e\n",
            "c\n",
            "k\n",
            "y\n"
          ]
        }
      ]
    },
    {
      "cell_type": "code",
      "source": [
        "for value in sorted(d1.values()):\n",
        "    print(value)"
      ],
      "metadata": {
        "colab": {
          "base_uri": "https://localhost:8080/"
        },
        "id": "NRSflDZV2SZA",
        "outputId": "439e6f6b-da38-4879-cc23-e7ff177fc624"
      },
      "execution_count": 53,
      "outputs": [
        {
          "output_type": "stream",
          "name": "stdout",
          "text": [
            "testing123\n",
            "value1\n",
            "value2\n"
          ]
        }
      ]
    },
    {
      "cell_type": "code",
      "source": [
        "for item in d1.items():\n",
        "    print(item)"
      ],
      "metadata": {
        "colab": {
          "base_uri": "https://localhost:8080/"
        },
        "id": "JcXtIHHH3sXo",
        "outputId": "ea59362f-04b5-4966-95fa-350e98b41ca8"
      },
      "execution_count": 54,
      "outputs": [
        {
          "output_type": "stream",
          "name": "stdout",
          "text": [
            "('k1', 'value1')\n",
            "('k2', 'value2')\n",
            "('k3', 'testing123')\n"
          ]
        }
      ]
    },
    {
      "cell_type": "code",
      "source": [
        "print(cars)"
      ],
      "metadata": {
        "colab": {
          "base_uri": "https://localhost:8080/"
        },
        "id": "uyWRP0AH4aKI",
        "outputId": "91d60b5e-24eb-4f31-cb42-3b47348688e0"
      },
      "execution_count": 55,
      "outputs": [
        {
          "output_type": "stream",
          "name": "stdout",
          "text": [
            "{'toyota': 'green', 'audi': ['blue', 2400, 31.6], 'hyundai': [12, 3, 'wert']}\n"
          ]
        }
      ]
    },
    {
      "cell_type": "code",
      "source": [
        "cars['toyota'] = {'color': 'blue', 'weight':5400, 'wheelbase':196}\n",
        "cars['ford'] = {'color': 'red', 'weight':9400, 'wheelbase':123}"
      ],
      "metadata": {
        "id": "eT3Gxw3H4rWJ"
      },
      "execution_count": 56,
      "outputs": []
    },
    {
      "cell_type": "code",
      "source": [
        "print(cars)"
      ],
      "metadata": {
        "colab": {
          "base_uri": "https://localhost:8080/"
        },
        "id": "lhsBr7y044pp",
        "outputId": "65c7b37a-2efc-4f78-f714-801f17b63ef9"
      },
      "execution_count": 57,
      "outputs": [
        {
          "output_type": "stream",
          "name": "stdout",
          "text": [
            "{'toyota': {'color': 'blue', 'weight': 5400, 'wheelbase': 196}, 'audi': ['blue', 2400, 31.6], 'hyundai': [12, 3, 'wert'], 'ford': {'color': 'red', 'weight': 9400, 'wheelbase': 123}}\n"
          ]
        }
      ]
    },
    {
      "cell_type": "code",
      "source": [
        "print(cars['ford'])\n",
        "print(cars['ford']['color'])"
      ],
      "metadata": {
        "colab": {
          "base_uri": "https://localhost:8080/"
        },
        "id": "uZufVTIs5Gyi",
        "outputId": "6b4b3621-67c9-43cc-8e2d-4028c50fbfe1"
      },
      "execution_count": 58,
      "outputs": [
        {
          "output_type": "stream",
          "name": "stdout",
          "text": [
            "{'color': 'red', 'weight': 9400, 'wheelbase': 123}\n",
            "red\n"
          ]
        }
      ]
    },
    {
      "cell_type": "code",
      "source": [],
      "metadata": {
        "id": "0CXCEgPn5b9i"
      },
      "execution_count": 58,
      "outputs": []
    }
  ]
}