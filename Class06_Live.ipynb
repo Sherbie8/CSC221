{
  "nbformat": 4,
  "nbformat_minor": 0,
  "metadata": {
    "colab": {
      "provenance": [],
      "authorship_tag": "ABX9TyMNcchaQLGOCFMfT9mkGlfP",
      "include_colab_link": true
    },
    "kernelspec": {
      "name": "python3",
      "display_name": "Python 3"
    },
    "language_info": {
      "name": "python"
    }
  },
  "cells": [
    {
      "cell_type": "markdown",
      "metadata": {
        "id": "view-in-github",
        "colab_type": "text"
      },
      "source": [
        "<a href=\"https://colab.research.google.com/github/nleck001/CSC221/blob/main/Class06_Live.ipynb\" target=\"_parent\"><img src=\"https://colab.research.google.com/assets/colab-badge.svg\" alt=\"Open In Colab\"/></a>"
      ]
    },
    {
      "cell_type": "code",
      "source": [
        "# Class 6 as in class 9/14/2023"
      ],
      "metadata": {
        "id": "80_inTomA-1X"
      },
      "execution_count": 1,
      "outputs": []
    },
    {
      "cell_type": "code",
      "execution_count": 2,
      "metadata": {
        "colab": {
          "base_uri": "https://localhost:8080/"
        },
        "id": "A62dnN379rbT",
        "outputId": "fb6fdeae-98b0-42a2-fa38-805490109903"
      },
      "outputs": [
        {
          "output_type": "stream",
          "name": "stdout",
          "text": [
            "<class 'list'> ['abc', 'def', 'zzy', 'WB', 'a']\n",
            "a\n",
            "WB\n",
            "zzy\n",
            "def\n",
            "abc\n",
            "['abc', 'def', 'zzy', 'WB', 'a']\n"
          ]
        }
      ],
      "source": [
        "a = ['abc', 'def', 'zzy', 'W' 'B', 'a']\n",
        "print(type(a), a)\n",
        "\n",
        "for i in reversed(a):\n",
        "    print(i)\n",
        "print(a)"
      ]
    },
    {
      "cell_type": "code",
      "source": [
        "a.sort()\n",
        "#a.reverse()\n",
        "print(a)"
      ],
      "metadata": {
        "colab": {
          "base_uri": "https://localhost:8080/"
        },
        "id": "PTQRIPZp-NaU",
        "outputId": "2503b21e-6dcd-4060-8a30-9118b508d9e9"
      },
      "execution_count": 3,
      "outputs": [
        {
          "output_type": "stream",
          "name": "stdout",
          "text": [
            "['WB', 'a', 'abc', 'def', 'zzy']\n"
          ]
        }
      ]
    },
    {
      "cell_type": "code",
      "source": [
        "b = [name.lower() for name in a]\n",
        "print(b)"
      ],
      "metadata": {
        "colab": {
          "base_uri": "https://localhost:8080/"
        },
        "id": "3o9f9Bkn-56t",
        "outputId": "986e08e7-270e-46dc-e2a9-0d2cdc52ea8f"
      },
      "execution_count": 4,
      "outputs": [
        {
          "output_type": "stream",
          "name": "stdout",
          "text": [
            "['wb', 'a', 'abc', 'def', 'zzy']\n"
          ]
        }
      ]
    },
    {
      "cell_type": "code",
      "source": [
        "b.sort()\n",
        "print(b)"
      ],
      "metadata": {
        "colab": {
          "base_uri": "https://localhost:8080/"
        },
        "id": "KH2i1csQBJox",
        "outputId": "d1d253e1-a1c7-497a-803d-1fdeec0b59d8"
      },
      "execution_count": 5,
      "outputs": [
        {
          "output_type": "stream",
          "name": "stdout",
          "text": [
            "['a', 'abc', 'def', 'wb', 'zzy']\n"
          ]
        }
      ]
    },
    {
      "cell_type": "code",
      "source": [
        "# ch 5 All About the if statement\n",
        "# The pattern:\n",
        "# 1 \"if condition:\"\"\n",
        "# 0 or more \"elif condition:\"\"\n",
        "# 0 or 1 \"else:\"\n",
        "\n",
        "cars = ['BMW', 'ford', 'toyota', 'chevy']\n",
        "print(cars)"
      ],
      "metadata": {
        "colab": {
          "base_uri": "https://localhost:8080/"
        },
        "id": "RFzO9dGBBQJo",
        "outputId": "61332a44-03eb-4a7c-f672-629bc102ef11"
      },
      "execution_count": 6,
      "outputs": [
        {
          "output_type": "stream",
          "name": "stdout",
          "text": [
            "['BMW', 'ford', 'toyota', 'chevy']\n"
          ]
        }
      ]
    },
    {
      "cell_type": "code",
      "source": [
        "for car in cars:\n",
        "    print(car)\n",
        "    if car >= 'BMW': print(\"It's a BEEMER or better!\")\n",
        "    elif car == 'ford':\n",
        "        print(\"It's a FORD!\")\n",
        "        print(\"And I LOVE Fords!\")\n",
        "    elif car == 'chevy': print(\"It's a CHEVY!\")\n",
        "    else: print('Not anything I know!!?? :(')\n",
        "\n",
        "print('Always!')\n"
      ],
      "metadata": {
        "colab": {
          "base_uri": "https://localhost:8080/"
        },
        "id": "DMR8LfjkDGAD",
        "outputId": "20d826aa-8688-4b4e-b407-ea2fc7eb52e9"
      },
      "execution_count": 7,
      "outputs": [
        {
          "output_type": "stream",
          "name": "stdout",
          "text": [
            "BMW\n",
            "It's a BEEMER or better!\n",
            "ford\n",
            "It's a BEEMER or better!\n",
            "toyota\n",
            "It's a BEEMER or better!\n",
            "chevy\n",
            "It's a BEEMER or better!\n",
            "Always!\n"
          ]
        }
      ]
    },
    {
      "cell_type": "code",
      "source": [
        "a = 5\n",
        "print(a < 3)\n",
        "print(a <= 3)\n",
        "print(a > 3)\n",
        "print(a >= 3)\n",
        "print(a != 3)\n",
        "print(a == 3)\n"
      ],
      "metadata": {
        "colab": {
          "base_uri": "https://localhost:8080/"
        },
        "id": "qQQTOsUWDOjU",
        "outputId": "b09cd498-e434-4829-f285-a415d2c7a70e"
      },
      "execution_count": 8,
      "outputs": [
        {
          "output_type": "stream",
          "name": "stdout",
          "text": [
            "False\n",
            "False\n",
            "True\n",
            "True\n",
            "True\n",
            "False\n"
          ]
        }
      ]
    },
    {
      "cell_type": "code",
      "source": [
        "a = 7\n",
        "\n",
        "print(a > 3 and a < 12)\n",
        "print(3 < a < 12)"
      ],
      "metadata": {
        "colab": {
          "base_uri": "https://localhost:8080/"
        },
        "id": "lZINSKMuGa44",
        "outputId": "6c0743d9-6c5c-4a0b-cd5b-a0dbb53de3d9"
      },
      "execution_count": 9,
      "outputs": [
        {
          "output_type": "stream",
          "name": "stdout",
          "text": [
            "True\n",
            "True\n"
          ]
        }
      ]
    },
    {
      "cell_type": "code",
      "source": [
        "qq = [1, 2, 3,] + [3, 'abc', 4]\n",
        "print(qq)"
      ],
      "metadata": {
        "colab": {
          "base_uri": "https://localhost:8080/"
        },
        "id": "7ogoyomiGvER",
        "outputId": "00b274d8-3415-4f56-d2b4-cc1dbfb9ceeb"
      },
      "execution_count": 10,
      "outputs": [
        {
          "output_type": "stream",
          "name": "stdout",
          "text": [
            "[1, 2, 3, 3, 'abc', 4]\n"
          ]
        }
      ]
    },
    {
      "cell_type": "code",
      "source": [
        "qq = [1, 2, 3,] + [3, 'abc', 4] +[1, 2, 3, [13,'fred']]\n",
        "print(len(qq))\n",
        "print(qq)"
      ],
      "metadata": {
        "colab": {
          "base_uri": "https://localhost:8080/"
        },
        "id": "KM8rElSGHO6p",
        "outputId": "4d611dbc-a929-46c5-ac23-8641d70fc008"
      },
      "execution_count": 11,
      "outputs": [
        {
          "output_type": "stream",
          "name": "stdout",
          "text": [
            "10\n",
            "[1, 2, 3, 3, 'abc', 4, 1, 2, 3, [13, 'fred']]\n"
          ]
        }
      ]
    },
    {
      "cell_type": "code",
      "source": [
        "print(qq[-1])"
      ],
      "metadata": {
        "colab": {
          "base_uri": "https://localhost:8080/"
        },
        "id": "Ad-N5AH7Hg5J",
        "outputId": "5d72960c-cc7d-48c5-cdee-1d4c386abaed"
      },
      "execution_count": 12,
      "outputs": [
        {
          "output_type": "stream",
          "name": "stdout",
          "text": [
            "[13, 'fred']\n"
          ]
        }
      ]
    },
    {
      "cell_type": "code",
      "source": [
        "# Truth Table Demo\n",
        "\n",
        "#f1 = p and (q or r)\n",
        "\n",
        "print('p\\tq\\tr\\tf1')\n",
        "\n",
        "for p in [True, False]:\n",
        "    for q in [True, False]:\n",
        "        for r in [True, False]:\n",
        "            f1 = p and (q or r)\n",
        "            print(f'{p}\\t{q}\\t{r}\\t{f1}')"
      ],
      "metadata": {
        "colab": {
          "base_uri": "https://localhost:8080/"
        },
        "id": "ifzpm5yKHuIp",
        "outputId": "076e44e8-2bf4-418c-db39-cd256e281404"
      },
      "execution_count": 13,
      "outputs": [
        {
          "output_type": "stream",
          "name": "stdout",
          "text": [
            "p\tq\tr\tf1\n",
            "True\tTrue\tTrue\tTrue\n",
            "True\tTrue\tFalse\tTrue\n",
            "True\tFalse\tTrue\tTrue\n",
            "True\tFalse\tFalse\tFalse\n",
            "False\tTrue\tTrue\tFalse\n",
            "False\tTrue\tFalse\tFalse\n",
            "False\tFalse\tTrue\tFalse\n",
            "False\tFalse\tFalse\tFalse\n"
          ]
        }
      ]
    },
    {
      "cell_type": "code",
      "source": [],
      "metadata": {
        "id": "YRJ5w4yjIJ3K"
      },
      "execution_count": 13,
      "outputs": []
    }
  ]
}