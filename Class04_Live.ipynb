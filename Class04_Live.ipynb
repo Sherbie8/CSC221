{
  "nbformat": 4,
  "nbformat_minor": 0,
  "metadata": {
    "colab": {
      "provenance": [],
      "authorship_tag": "ABX9TyP1Russuqtb+97xx7onGN80",
      "include_colab_link": true
    },
    "kernelspec": {
      "name": "python3",
      "display_name": "Python 3"
    },
    "language_info": {
      "name": "python"
    }
  },
  "cells": [
    {
      "cell_type": "markdown",
      "metadata": {
        "id": "view-in-github",
        "colab_type": "text"
      },
      "source": [
        "<a href=\"https://colab.research.google.com/github/nleck001/CSC221/blob/main/Class04_Live.ipynb\" target=\"_parent\"><img src=\"https://colab.research.google.com/assets/colab-badge.svg\" alt=\"Open In Colab\"/></a>"
      ]
    },
    {
      "cell_type": "markdown",
      "source": [
        "# CSC221 Fall 2023\n",
        "## CSC217 Class 4\n",
        "- As done live in class 9/7/2023\n",
        "- Crash Chapter 3\n",
        " \\\n",
        " \\\n",
        "\n",
        "### Markdown Demos!\n",
        "#### Heading 2\n",
        "- Class 4\n",
        "- Ned Lecky this is **bold**\n",
        "\n",
        "All about markdown https://www.markdownguide.org/"
      ],
      "metadata": {
        "id": "FcIj1lAp-dKZ"
      }
    },
    {
      "cell_type": "code",
      "execution_count": null,
      "metadata": {
        "id": "xnVg38LF9SJu"
      },
      "outputs": [],
      "source": [
        "a = [3, 5, 'acb', 13.2]\n"
      ]
    },
    {
      "cell_type": "code",
      "source": [
        "print(a)"
      ],
      "metadata": {
        "colab": {
          "base_uri": "https://localhost:8080/"
        },
        "id": "Vxq1xQkI_pWj",
        "outputId": "ec2068ec-dbfd-47c8-e8fa-fc5547ad57eb"
      },
      "execution_count": null,
      "outputs": [
        {
          "output_type": "stream",
          "name": "stdout",
          "text": [
            "[3, 5, 'acb', 13.2]\n"
          ]
        }
      ]
    },
    {
      "cell_type": "code",
      "source": [
        "type(a)"
      ],
      "metadata": {
        "colab": {
          "base_uri": "https://localhost:8080/"
        },
        "id": "PRMYZQ5m_t1L",
        "outputId": "87448791-21e0-4190-9b96-f268872bcd70"
      },
      "execution_count": null,
      "outputs": [
        {
          "output_type": "execute_result",
          "data": {
            "text/plain": [
              "list"
            ]
          },
          "metadata": {},
          "execution_count": 3
        }
      ]
    },
    {
      "cell_type": "code",
      "source": [
        "print(a[1])\n",
        "print(a[4])"
      ],
      "metadata": {
        "colab": {
          "base_uri": "https://localhost:8080/",
          "height": 210
        },
        "id": "Cc8yn1jB_xfK",
        "outputId": "e65424a7-5cad-4a99-9f82-43a273957e8b"
      },
      "execution_count": null,
      "outputs": [
        {
          "output_type": "stream",
          "name": "stdout",
          "text": [
            "5\n"
          ]
        },
        {
          "output_type": "error",
          "ename": "IndexError",
          "evalue": "ignored",
          "traceback": [
            "\u001b[0;31m---------------------------------------------------------------------------\u001b[0m",
            "\u001b[0;31mIndexError\u001b[0m                                Traceback (most recent call last)",
            "\u001b[0;32m<ipython-input-6-6a8cd1d03cca>\u001b[0m in \u001b[0;36m<cell line: 2>\u001b[0;34m()\u001b[0m\n\u001b[1;32m      1\u001b[0m \u001b[0mprint\u001b[0m\u001b[0;34m(\u001b[0m\u001b[0ma\u001b[0m\u001b[0;34m[\u001b[0m\u001b[0;36m1\u001b[0m\u001b[0;34m]\u001b[0m\u001b[0;34m)\u001b[0m\u001b[0;34m\u001b[0m\u001b[0;34m\u001b[0m\u001b[0m\n\u001b[0;32m----> 2\u001b[0;31m \u001b[0mprint\u001b[0m\u001b[0;34m(\u001b[0m\u001b[0ma\u001b[0m\u001b[0;34m[\u001b[0m\u001b[0;36m4\u001b[0m\u001b[0;34m]\u001b[0m\u001b[0;34m)\u001b[0m\u001b[0;34m\u001b[0m\u001b[0;34m\u001b[0m\u001b[0m\n\u001b[0m",
            "\u001b[0;31mIndexError\u001b[0m: list index out of range"
          ]
        }
      ]
    },
    {
      "cell_type": "code",
      "source": [
        "len(a)"
      ],
      "metadata": {
        "colab": {
          "base_uri": "https://localhost:8080/"
        },
        "id": "vPZnxXYA_63T",
        "outputId": "f14ce126-a193-4312-8294-ed916740f684"
      },
      "execution_count": null,
      "outputs": [
        {
          "output_type": "execute_result",
          "data": {
            "text/plain": [
              "4"
            ]
          },
          "metadata": {},
          "execution_count": 7
        }
      ]
    },
    {
      "cell_type": "code",
      "source": [
        "print(a[-1])"
      ],
      "metadata": {
        "colab": {
          "base_uri": "https://localhost:8080/"
        },
        "id": "NOLoWlNSAGNj",
        "outputId": "076e71d2-f14c-4566-e3e0-c22ec77ef729"
      },
      "execution_count": null,
      "outputs": [
        {
          "output_type": "stream",
          "name": "stdout",
          "text": [
            "13.2\n"
          ]
        }
      ]
    },
    {
      "cell_type": "code",
      "source": [
        "b = list(range(0,100))\n",
        "print(b)"
      ],
      "metadata": {
        "colab": {
          "base_uri": "https://localhost:8080/"
        },
        "id": "j3DZLyGHAJ0b",
        "outputId": "ba185f84-c76f-4396-cf99-917e0dcbe8b3"
      },
      "execution_count": null,
      "outputs": [
        {
          "output_type": "stream",
          "name": "stdout",
          "text": [
            "[0, 1, 2, 3, 4, 5, 6, 7, 8, 9, 10, 11, 12, 13, 14, 15, 16, 17, 18, 19, 20, 21, 22, 23, 24, 25, 26, 27, 28, 29, 30, 31, 32, 33, 34, 35, 36, 37, 38, 39, 40, 41, 42, 43, 44, 45, 46, 47, 48, 49, 50, 51, 52, 53, 54, 55, 56, 57, 58, 59, 60, 61, 62, 63, 64, 65, 66, 67, 68, 69, 70, 71, 72, 73, 74, 75, 76, 77, 78, 79, 80, 81, 82, 83, 84, 85, 86, 87, 88, 89, 90, 91, 92, 93, 94, 95, 96, 97, 98, 99]\n"
          ]
        }
      ]
    },
    {
      "cell_type": "code",
      "source": [
        "print(len(b))\n",
        "print(b[3])\n",
        "print(b[-1])\n",
        "print(b[20:25])"
      ],
      "metadata": {
        "colab": {
          "base_uri": "https://localhost:8080/"
        },
        "id": "YVWEbjInAYVu",
        "outputId": "b9035464-874f-4bb4-e319-fba9f20f6ea8"
      },
      "execution_count": null,
      "outputs": [
        {
          "output_type": "stream",
          "name": "stdout",
          "text": [
            "100\n",
            "3\n",
            "99\n",
            "[20, 21, 22, 23, 24]\n"
          ]
        }
      ]
    },
    {
      "cell_type": "code",
      "source": [
        "r1 = range(13,400,3)\n",
        "print(type(r1))"
      ],
      "metadata": {
        "colab": {
          "base_uri": "https://localhost:8080/"
        },
        "id": "3XJB2V_RAm1X",
        "outputId": "f8a3e9e3-bb3f-4acb-af0d-6e211b730b16"
      },
      "execution_count": null,
      "outputs": [
        {
          "output_type": "stream",
          "name": "stdout",
          "text": [
            "<class 'range'>\n"
          ]
        }
      ]
    },
    {
      "cell_type": "code",
      "source": [
        "print(r1)"
      ],
      "metadata": {
        "colab": {
          "base_uri": "https://localhost:8080/"
        },
        "id": "w3VkGCiZBkkM",
        "outputId": "6cf091be-38df-40ce-ef5f-3617733fc0cd"
      },
      "execution_count": null,
      "outputs": [
        {
          "output_type": "stream",
          "name": "stdout",
          "text": [
            "range(13, 400, 3)\n"
          ]
        }
      ]
    },
    {
      "cell_type": "code",
      "source": [
        "list1=list(r1)\n",
        "print(list1)"
      ],
      "metadata": {
        "colab": {
          "base_uri": "https://localhost:8080/"
        },
        "id": "_q1UX5pyBuc9",
        "outputId": "7ee5d655-e964-4d29-9b6f-18b03490667e"
      },
      "execution_count": null,
      "outputs": [
        {
          "output_type": "stream",
          "name": "stdout",
          "text": [
            "[13, 16, 19, 22, 25, 28, 31, 34, 37, 40, 43, 46, 49, 52, 55, 58, 61, 64, 67, 70, 73, 76, 79, 82, 85, 88, 91, 94, 97, 100, 103, 106, 109, 112, 115, 118, 121, 124, 127, 130, 133, 136, 139, 142, 145, 148, 151, 154, 157, 160, 163, 166, 169, 172, 175, 178, 181, 184, 187, 190, 193, 196, 199, 202, 205, 208, 211, 214, 217, 220, 223, 226, 229, 232, 235, 238, 241, 244, 247, 250, 253, 256, 259, 262, 265, 268, 271, 274, 277, 280, 283, 286, 289, 292, 295, 298, 301, 304, 307, 310, 313, 316, 319, 322, 325, 328, 331, 334, 337, 340, 343, 346, 349, 352, 355, 358, 361, 364, 367, 370, 373, 376, 379, 382, 385, 388, 391, 394, 397]\n"
          ]
        }
      ]
    },
    {
      "cell_type": "code",
      "source": [
        "sq1 = [x**2 for x in range(11)]\n",
        "print(sq1)"
      ],
      "metadata": {
        "colab": {
          "base_uri": "https://localhost:8080/"
        },
        "id": "6WWN91_eB0k9",
        "outputId": "693f40e8-0b41-4c1c-eeb0-25974d480f12"
      },
      "execution_count": null,
      "outputs": [
        {
          "output_type": "stream",
          "name": "stdout",
          "text": [
            "[0, 1, 4, 9, 16, 25, 36, 49, 64, 81, 100]\n"
          ]
        }
      ]
    },
    {
      "cell_type": "code",
      "source": [
        "sq1 = [x**2 for x in range(11) if x != 5]\n",
        "print(sq1)"
      ],
      "metadata": {
        "colab": {
          "base_uri": "https://localhost:8080/"
        },
        "id": "L-GOfjwECRQu",
        "outputId": "0719b4a7-3c16-40e8-eb60-cb59aff25f10"
      },
      "execution_count": null,
      "outputs": [
        {
          "output_type": "stream",
          "name": "stdout",
          "text": [
            "[0, 1, 4, 9, 16, 36, 49, 64, 81, 100]\n"
          ]
        }
      ]
    },
    {
      "cell_type": "code",
      "source": [
        "sq2 = []\n",
        "for x in range(11):\n",
        "    #print(x)\n",
        "    sq2.append(x**2)\n",
        "\n",
        "print(sq2)"
      ],
      "metadata": {
        "colab": {
          "base_uri": "https://localhost:8080/"
        },
        "id": "6MAhUVRCC3rf",
        "outputId": "43e4ad90-2283-4812-a2c4-f4edaf2942df"
      },
      "execution_count": null,
      "outputs": [
        {
          "output_type": "stream",
          "name": "stdout",
          "text": [
            "[0, 1, 4, 9, 16, 25, 36, 49, 64, 81, 100]\n"
          ]
        }
      ]
    },
    {
      "cell_type": "code",
      "source": [
        "sq3 = []\n",
        "for x in range(11):\n",
        "    if(x != 5):\n",
        "        sq3.append(x**2)\n",
        "\n",
        "print(sq3)"
      ],
      "metadata": {
        "colab": {
          "base_uri": "https://localhost:8080/"
        },
        "id": "jLzv3AVYDRMn",
        "outputId": "ea44de02-fd11-4129-8525-3f9f74f32bac"
      },
      "execution_count": null,
      "outputs": [
        {
          "output_type": "stream",
          "name": "stdout",
          "text": [
            "[0, 1, 4, 9, 16, 36, 49, 64, 81, 100]\n"
          ]
        }
      ]
    },
    {
      "cell_type": "code",
      "source": [
        "import random\n",
        "\n",
        "l1 = []\n",
        "for i in range(100):\n",
        "    l1.append(random.random())\n",
        "\n",
        "print(l1)"
      ],
      "metadata": {
        "colab": {
          "base_uri": "https://localhost:8080/"
        },
        "id": "qUDCpomjD3zn",
        "outputId": "0389483b-a782-413c-c7e1-19b882b40ae2"
      },
      "execution_count": null,
      "outputs": [
        {
          "output_type": "stream",
          "name": "stdout",
          "text": [
            "[0.38648785648108097, 0.3990720134497687, 0.8509852153105307, 0.02831967562761284, 0.4450347399290846, 0.2727726269776576, 0.18624097877123313, 0.13215033571553947, 0.6676004105108726, 0.26898325524313704, 0.9653028075517466, 0.6254013637411059, 0.5195488285601989, 0.8751662627059767, 0.5748066779792227, 0.3150115615110206, 0.2946077723260011, 0.8567468920700747, 0.8117343935680574, 0.9683476891306771, 0.6211471040180329, 0.6560468640103906, 0.9736904633317713, 0.8157717908239724, 0.035287605957402435, 0.635230785876274, 0.7452728816210202, 0.1284980452539004, 0.24080666046322774, 0.27084581448597445, 0.592022504514525, 0.1500985256190629, 0.8572554663982679, 0.6937681794093653, 0.02917504867469045, 0.1476653613417609, 0.15116305629195959, 0.6446714070340875, 0.9153110549116175, 0.20654798239313965, 0.8538943382051192, 0.3599665297043352, 0.672113040635391, 0.14130739558497984, 0.6194803069519897, 0.28000651958200196, 0.8376849130554807, 0.9388381387197792, 0.05257546506037336, 0.6201060885083063, 0.16625039416184495, 0.9682347503080377, 0.5563594757210678, 0.7227557768521564, 0.9693926043803274, 0.2741444970168234, 0.5777492941904309, 0.36827095350696426, 0.26316433321537114, 0.258995188060531, 0.5100734690610046, 0.5016975162641814, 0.9357272671956424, 0.39818526020881007, 0.6878340954643358, 0.34427485580889317, 0.42862794841275265, 0.866965756577819, 0.5350256765878232, 0.3480907489277474, 0.6482490848442805, 0.22953100981500374, 0.4882655895488801, 0.764122156658868, 0.8156268224598207, 0.05096010648937355, 0.1894948228569403, 0.008703962299653867, 0.5128386454783376, 0.4855425529963143, 0.9660806545910522, 0.4985027584568067, 0.22357329029187212, 0.1671172560690155, 0.6951594291703762, 0.13891242150744298, 0.7496999469670238, 0.17759132760153218, 0.33941383870717723, 0.04837654144230452, 0.43875827652022314, 0.5548433242572881, 0.11497922980087971, 0.20170657293109895, 0.2703343183407323, 0.195327482892115, 0.20263516697218065, 0.11990298635761953, 0.8498980466545231, 0.6748275176058671]\n"
          ]
        }
      ]
    },
    {
      "cell_type": "code",
      "source": [
        "l1.sort()\n",
        "print(l1)"
      ],
      "metadata": {
        "colab": {
          "base_uri": "https://localhost:8080/"
        },
        "id": "cFtsXdt6EujJ",
        "outputId": "8193aa51-1125-4205-dbc0-cee331012b5a"
      },
      "execution_count": null,
      "outputs": [
        {
          "output_type": "stream",
          "name": "stdout",
          "text": [
            "[0.008703962299653867, 0.02831967562761284, 0.02917504867469045, 0.035287605957402435, 0.04837654144230452, 0.05096010648937355, 0.05257546506037336, 0.11497922980087971, 0.11990298635761953, 0.1284980452539004, 0.13215033571553947, 0.13891242150744298, 0.14130739558497984, 0.1476653613417609, 0.1500985256190629, 0.15116305629195959, 0.16625039416184495, 0.1671172560690155, 0.17759132760153218, 0.18624097877123313, 0.1894948228569403, 0.195327482892115, 0.20170657293109895, 0.20263516697218065, 0.20654798239313965, 0.22357329029187212, 0.22953100981500374, 0.24080666046322774, 0.258995188060531, 0.26316433321537114, 0.26898325524313704, 0.2703343183407323, 0.27084581448597445, 0.2727726269776576, 0.2741444970168234, 0.28000651958200196, 0.2946077723260011, 0.3150115615110206, 0.33941383870717723, 0.34427485580889317, 0.3480907489277474, 0.3599665297043352, 0.36827095350696426, 0.38648785648108097, 0.39818526020881007, 0.3990720134497687, 0.42862794841275265, 0.43875827652022314, 0.4450347399290846, 0.4855425529963143, 0.4882655895488801, 0.4985027584568067, 0.5016975162641814, 0.5100734690610046, 0.5128386454783376, 0.5195488285601989, 0.5350256765878232, 0.5548433242572881, 0.5563594757210678, 0.5748066779792227, 0.5777492941904309, 0.592022504514525, 0.6194803069519897, 0.6201060885083063, 0.6211471040180329, 0.6254013637411059, 0.635230785876274, 0.6446714070340875, 0.6482490848442805, 0.6560468640103906, 0.6676004105108726, 0.672113040635391, 0.6748275176058671, 0.6878340954643358, 0.6937681794093653, 0.6951594291703762, 0.7227557768521564, 0.7452728816210202, 0.7496999469670238, 0.764122156658868, 0.8117343935680574, 0.8156268224598207, 0.8157717908239724, 0.8376849130554807, 0.8498980466545231, 0.8509852153105307, 0.8538943382051192, 0.8567468920700747, 0.8572554663982679, 0.866965756577819, 0.8751662627059767, 0.9153110549116175, 0.9357272671956424, 0.9388381387197792, 0.9653028075517466, 0.9660806545910522, 0.9682347503080377, 0.9683476891306771, 0.9693926043803274, 0.9736904633317713]\n"
          ]
        }
      ]
    },
    {
      "cell_type": "code",
      "source": [],
      "metadata": {
        "id": "GPyDDtQrE3ka"
      },
      "execution_count": null,
      "outputs": []
    }
  ]
}