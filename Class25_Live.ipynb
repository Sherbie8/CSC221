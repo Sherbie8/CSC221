{
  "nbformat": 4,
  "nbformat_minor": 0,
  "metadata": {
    "colab": {
      "provenance": [],
      "authorship_tag": "ABX9TyMw2wfUSJ3aZdp5gRS+6Ta8",
      "include_colab_link": true
    },
    "kernelspec": {
      "name": "python3",
      "display_name": "Python 3"
    },
    "language_info": {
      "name": "python"
    }
  },
  "cells": [
    {
      "cell_type": "markdown",
      "metadata": {
        "id": "view-in-github",
        "colab_type": "text"
      },
      "source": [
        "<a href=\"https://colab.research.google.com/github/nleck001/CSC221/blob/main/Class25_Live.ipynb\" target=\"_parent\"><img src=\"https://colab.research.google.com/assets/colab-badge.svg\" alt=\"Open In Colab\"/></a>"
      ]
    },
    {
      "cell_type": "code",
      "execution_count": null,
      "metadata": {
        "colab": {
          "base_uri": "https://localhost:8080/"
        },
        "id": "jzjq5DAyUsdn",
        "outputId": "0bde095f-bf7c-4622-f03f-0f87c221d15d"
      },
      "outputs": [
        {
          "output_type": "stream",
          "name": "stdout",
          "text": [
            "idunno\n",
            "20\n"
          ]
        }
      ],
      "source": [
        "# Decorators\n",
        "\n",
        "def f1(a, b, c=0, special=\"idunno\"):\n",
        "    print(special)\n",
        "    return a + b + c\n",
        "\n",
        "a = f1(3, 8, 9)\n",
        "print(a)\n",
        "\n",
        "\n"
      ]
    },
    {
      "cell_type": "code",
      "source": [
        "# Repeat f1 no matter what params it want\n",
        "def f1d(*args, **kwargs):\n",
        "    return f1(*args, **kwargs)\n",
        "\n",
        "print(f1d(3, 7, 5))\n",
        "print(f1d(3, 7, 5, special='ned'))"
      ],
      "metadata": {
        "colab": {
          "base_uri": "https://localhost:8080/"
        },
        "id": "raDghQcWeLCT",
        "outputId": "76a2dbf3-8aa7-4c62-f555-824bbad283e5"
      },
      "execution_count": null,
      "outputs": [
        {
          "output_type": "stream",
          "name": "stdout",
          "text": [
            "idunno\n",
            "15\n",
            "ned\n",
            "15\n"
          ]
        }
      ]
    },
    {
      "cell_type": "code",
      "source": [
        "from types import FunctionType\n",
        "def trace(func):\n",
        "    def wrapper(*args, **kwargs):\n",
        "        print(f'Calling {func} ({args}, {kwargs})')\n",
        "        return func(*args, **kwargs)\n",
        "    return wrapper\n",
        "\n",
        "f1t = trace(f1)\n",
        "\n",
        "a = f1t(3, 5, 7)\n",
        "print(a)\n"
      ],
      "metadata": {
        "colab": {
          "base_uri": "https://localhost:8080/"
        },
        "id": "f47IBO6kdzh5",
        "outputId": "d3ff5525-670d-4c2e-cc5d-2fe7c6bbded1"
      },
      "execution_count": null,
      "outputs": [
        {
          "output_type": "stream",
          "name": "stdout",
          "text": [
            "Calling <function f1 at 0x7c04eb5d57e0> ((3, 5, 7), {})\n",
            "idunno\n",
            "15\n"
          ]
        }
      ]
    },
    {
      "cell_type": "code",
      "source": [
        "f1 = trace(f1)\n",
        "\n"
      ],
      "metadata": {
        "id": "2frhT5CKgB-0"
      },
      "execution_count": null,
      "outputs": []
    },
    {
      "cell_type": "code",
      "source": [
        "print(f1(3, 5, 7))"
      ],
      "metadata": {
        "colab": {
          "base_uri": "https://localhost:8080/"
        },
        "id": "Oz7EP3y3g3YF",
        "outputId": "385d43eb-3b6f-42a6-9fec-68a052803acf"
      },
      "execution_count": null,
      "outputs": [
        {
          "output_type": "stream",
          "name": "stdout",
          "text": [
            "Calling <function f1 at 0x7c04eb5d57e0> ((3, 5, 7), {})\n",
            "idunno\n",
            "15\n"
          ]
        }
      ]
    },
    {
      "cell_type": "code",
      "source": [
        "def f3(a, b):\n",
        "    return a * b\n",
        "\n",
        "f3 = trace(f3)\n",
        "print(f3(4, 7))"
      ],
      "metadata": {
        "colab": {
          "base_uri": "https://localhost:8080/"
        },
        "id": "CvWlhLsPhIMt",
        "outputId": "2308a18d-21bf-45e3-e0ac-a93a7eb9806f"
      },
      "execution_count": null,
      "outputs": [
        {
          "output_type": "stream",
          "name": "stdout",
          "text": [
            "Calling <function f3 at 0x7c04eb664dc0> ((4, 7), {})\n",
            "28\n"
          ]
        }
      ]
    },
    {
      "cell_type": "code",
      "source": [
        "@trace\n",
        "def f3(a, b):\n",
        "    return a * b\n",
        "\n",
        "print(f3(4, 7))"
      ],
      "metadata": {
        "colab": {
          "base_uri": "https://localhost:8080/"
        },
        "id": "9fdv7YW8hVLI",
        "outputId": "c0f6f201-ce73-4f83-d4b6-9a0622722331"
      },
      "execution_count": null,
      "outputs": [
        {
          "output_type": "stream",
          "name": "stdout",
          "text": [
            "Calling <function f3 at 0x7c04eb664af0> ((4, 7), {})\n",
            "28\n"
          ]
        }
      ]
    },
    {
      "cell_type": "code",
      "source": [
        "# Map Filter Reduce\n",
        "a = [x*x for x in [13,21,52,7]]\n",
        "print(a)"
      ],
      "metadata": {
        "colab": {
          "base_uri": "https://localhost:8080/"
        },
        "id": "evtc5uPDiJMm",
        "outputId": "f78a8163-eae9-4c16-c280-c6801040ad58"
      },
      "execution_count": null,
      "outputs": [
        {
          "output_type": "stream",
          "name": "stdout",
          "text": [
            "[169, 441, 2704, 49]\n"
          ]
        }
      ]
    },
    {
      "cell_type": "code",
      "source": [
        "def special(a, b):\n",
        "    return a + b + 3\n",
        "\n",
        "a = [special(x, x) for x in [13,21,52,7]]\n",
        "print(a)\n",
        "\n"
      ],
      "metadata": {
        "colab": {
          "base_uri": "https://localhost:8080/"
        },
        "id": "HrSiS9Q1juWx",
        "outputId": "bfd85a08-0715-4e1b-b186-f99f3da64f0c"
      },
      "execution_count": null,
      "outputs": [
        {
          "output_type": "stream",
          "name": "stdout",
          "text": [
            "[29, 45, 107, 17]\n"
          ]
        }
      ]
    },
    {
      "cell_type": "code",
      "source": [
        "@trace\n",
        "def special(a, b):\n",
        "    return a + b + 3\n",
        "\n",
        "a = [special(x, x) for x in [13,21,52,7]]\n",
        "print(a)\n"
      ],
      "metadata": {
        "colab": {
          "base_uri": "https://localhost:8080/"
        },
        "id": "XFWKcrlrkFAJ",
        "outputId": "de963f3b-fa66-4e89-a4f0-e80e811c1c60"
      },
      "execution_count": null,
      "outputs": [
        {
          "output_type": "stream",
          "name": "stdout",
          "text": [
            "[29, 45, 107, 17]\n"
          ]
        }
      ]
    },
    {
      "cell_type": "code",
      "source": [
        "@trace\n",
        "def special(a, b):\n",
        "    return a + b + 3\n",
        "\n",
        "a = [special(x, x) for x in [13,21,52,7] if x < 50]\n",
        "print(a)\n"
      ],
      "metadata": {
        "colab": {
          "base_uri": "https://localhost:8080/"
        },
        "id": "nz395A1xkNW5",
        "outputId": "0cfef400-14bb-469e-c27f-ffadde5caaaa"
      },
      "execution_count": null,
      "outputs": [
        {
          "output_type": "stream",
          "name": "stdout",
          "text": [
            "Calling <function special at 0x7c04eb664d30> ((13, 13), {})\n",
            "Calling <function special at 0x7c04eb664d30> ((21, 21), {})\n",
            "Calling <function special at 0x7c04eb664d30> ((7, 7), {})\n",
            "[29, 45, 17]\n"
          ]
        }
      ]
    },
    {
      "cell_type": "code",
      "source": [
        "a = [13, 21, 5, 7]\n",
        "\n",
        "print(sum(a))"
      ],
      "metadata": {
        "colab": {
          "base_uri": "https://localhost:8080/"
        },
        "id": "FkNe6J0JkoMB",
        "outputId": "f1ccfc13-82dc-41e0-fc55-0c8c2861f41d"
      },
      "execution_count": null,
      "outputs": [
        {
          "output_type": "stream",
          "name": "stdout",
          "text": [
            "46\n"
          ]
        }
      ]
    },
    {
      "cell_type": "code",
      "source": [
        "from functools import reduce\n",
        "@trace\n",
        "def reducer(a, b):\n",
        "    print(f\"I'm happily reducing {a} and {b}\")\n",
        "    return (a + b) * 2\n",
        "\n",
        "a = [ 12, 14, 56, 77, 81]\n",
        "x = reduce(reducer, a)\n",
        "print(x)"
      ],
      "metadata": {
        "colab": {
          "base_uri": "https://localhost:8080/"
        },
        "id": "IDnJzBSFlKzi",
        "outputId": "233725e5-27c3-44b0-899a-6ab3983474bf"
      },
      "execution_count": null,
      "outputs": [
        {
          "output_type": "stream",
          "name": "stdout",
          "text": [
            "Calling <function reducer at 0x7c04eb666c20> ((12, 14), {})\n",
            "I'm happily reducing 12 and 14\n",
            "Calling <function reducer at 0x7c04eb666c20> ((52, 56), {})\n",
            "I'm happily reducing 52 and 56\n",
            "Calling <function reducer at 0x7c04eb666c20> ((216, 77), {})\n",
            "I'm happily reducing 216 and 77\n",
            "Calling <function reducer at 0x7c04eb666c20> ((586, 81), {})\n",
            "I'm happily reducing 586 and 81\n",
            "1334\n"
          ]
        }
      ]
    },
    {
      "cell_type": "code",
      "source": [],
      "metadata": {
        "id": "VbtwMrBSlvnz"
      },
      "execution_count": null,
      "outputs": []
    }
  ]
}