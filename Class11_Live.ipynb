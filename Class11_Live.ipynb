{
  "nbformat": 4,
  "nbformat_minor": 0,
  "metadata": {
    "colab": {
      "provenance": [],
      "authorship_tag": "ABX9TyMrmap56aTaZBdlG17vXjb7",
      "include_colab_link": true
    },
    "kernelspec": {
      "name": "python3",
      "display_name": "Python 3"
    },
    "language_info": {
      "name": "python"
    }
  },
  "cells": [
    {
      "cell_type": "markdown",
      "metadata": {
        "id": "view-in-github",
        "colab_type": "text"
      },
      "source": [
        "<a href=\"https://colab.research.google.com/github/nleck001/CSC221/blob/main/Class11_Live.ipynb\" target=\"_parent\"><img src=\"https://colab.research.google.com/assets/colab-badge.svg\" alt=\"Open In Colab\"/></a>"
      ]
    },
    {
      "cell_type": "code",
      "source": [
        "# Class 11 Liva as performed in class 10/3/2023"
      ],
      "metadata": {
        "id": "NbOIWeNR-eWg"
      },
      "execution_count": 1,
      "outputs": []
    },
    {
      "cell_type": "code",
      "execution_count": 2,
      "metadata": {
        "id": "BSNlCGv7t_bL"
      },
      "outputs": [],
      "source": [
        "class EquPol:\n",
        "    ''' This is the EquPol class for demoing polygons'''\n",
        "    def __init__(self, name, num_sides):\n",
        "        self.name = name\n",
        "        self.num_sides = num_sides\n",
        "        print(f\"__init__ here with {name} and {num_sides}\")\n",
        "\n",
        "    def __str__(self):\n",
        "        '''I'm just here to make print pretty.'''\n",
        "        return f\"I am an EquPol with name {self.name} and {self.num_sides} sides\\n\"\n",
        "\n",
        "    def statistics(self):\n",
        "        \"\"\"This function isn't a dunder and is just something I added to the class.\"\"\"\n",
        "        print(f\"num_sides is {self.num_sides} num_sides * 2 = {self.num_sides * 2}\")\n"
      ]
    },
    {
      "cell_type": "code",
      "source": [
        "e1 = EquPol('square', 4)\n",
        "e2 = EquPol('triangle', 3)\n",
        "e3 = EquPol('triangle', 3)\n",
        "e4 = EquPol('square', 4)\n",
        "e5 = EquPol('square', 4)\n",
        "e6 = EquPol('square', 4)\n",
        "\n",
        "help(EquPol)\n",
        "\n",
        "print(e1,e2,e3,e4,e5,e6)\n"
      ],
      "metadata": {
        "colab": {
          "base_uri": "https://localhost:8080/"
        },
        "id": "5tYGQ5VWx93U",
        "outputId": "ddbd0d1b-9a1a-4827-8214-bda2da19b8ab"
      },
      "execution_count": 3,
      "outputs": [
        {
          "output_type": "stream",
          "name": "stdout",
          "text": [
            "__init__ here with square and 4\n",
            "__init__ here with triangle and 3\n",
            "__init__ here with triangle and 3\n",
            "__init__ here with square and 4\n",
            "__init__ here with square and 4\n",
            "__init__ here with square and 4\n",
            "Help on class EquPol in module __main__:\n",
            "\n",
            "class EquPol(builtins.object)\n",
            " |  EquPol(name, num_sides)\n",
            " |  \n",
            " |  This is the EquPol class for demoing polygons\n",
            " |  \n",
            " |  Methods defined here:\n",
            " |  \n",
            " |  __init__(self, name, num_sides)\n",
            " |      Initialize self.  See help(type(self)) for accurate signature.\n",
            " |  \n",
            " |  __str__(self)\n",
            " |      I'm just here to make print pretty.\n",
            " |  \n",
            " |  statistics(self)\n",
            " |      This function isn't a dunder and is just something I added to the class.\n",
            " |  \n",
            " |  ----------------------------------------------------------------------\n",
            " |  Data descriptors defined here:\n",
            " |  \n",
            " |  __dict__\n",
            " |      dictionary for instance variables (if defined)\n",
            " |  \n",
            " |  __weakref__\n",
            " |      list of weak references to the object (if defined)\n",
            "\n",
            "I am an EquPol with name square and 4 sides\n",
            " I am an EquPol with name triangle and 3 sides\n",
            " I am an EquPol with name triangle and 3 sides\n",
            " I am an EquPol with name square and 4 sides\n",
            " I am an EquPol with name square and 4 sides\n",
            " I am an EquPol with name square and 4 sides\n",
            "\n"
          ]
        }
      ]
    },
    {
      "cell_type": "code",
      "source": [
        "class Square(EquPol):\n",
        "    def __init__(self):\n",
        "        super().__init__(\"Square\", 4)\n",
        "    def who_are_you(self):\n",
        "        print(f'I am {self.name}')\n"
      ],
      "metadata": {
        "id": "pMo_5xmByI4h"
      },
      "execution_count": 4,
      "outputs": []
    },
    {
      "cell_type": "code",
      "source": [
        "s1 = Square()\n",
        "\n",
        "print(s1)\n",
        "s1.who_are_you()"
      ],
      "metadata": {
        "colab": {
          "base_uri": "https://localhost:8080/"
        },
        "id": "OpIOcXXg2ncI",
        "outputId": "5eb7da42-d1e6-4f32-dfed-8247e0d3beeb"
      },
      "execution_count": 5,
      "outputs": [
        {
          "output_type": "stream",
          "name": "stdout",
          "text": [
            "__init__ here with Square and 4\n",
            "I am an EquPol with name Square and 4 sides\n",
            "\n",
            "I am Square\n"
          ]
        }
      ]
    },
    {
      "cell_type": "code",
      "source": [
        "class Triangle(EquPol):\n",
        "    def __init__(self):\n",
        "        super().__init__(\"Triangle\", 3)\n",
        "    def who_are_you(self):\n",
        "        print(f'I am {self.name}')\n",
        "class Hexagon(EquPol):\n",
        "    def __init__(self):\n",
        "        super().__init__(\"Hexagon\", 6)\n",
        "    def who_are_you(self):\n",
        "        print(f'I am {self.name}')\n"
      ],
      "metadata": {
        "id": "n6RONOsC2rQE"
      },
      "execution_count": 6,
      "outputs": []
    },
    {
      "cell_type": "code",
      "source": [
        "\n",
        "s1 = Square()\n",
        "s2 = Square()\n",
        "s3 = Square()\n",
        "t1 = Triangle()\n",
        "t2 = Triangle()\n",
        "h1 = Hexagon()\n",
        "h2 = Hexagon()\n",
        "\n",
        "shape_list = [s1, s2, s3, t1, t2, h1, h2]\n",
        "\n",
        "for s in shape_list:\n",
        "    print(s)"
      ],
      "metadata": {
        "colab": {
          "base_uri": "https://localhost:8080/"
        },
        "id": "Mvqkzevk4B4k",
        "outputId": "0dbea5e3-30c7-4c21-8056-5d5bc12932ea"
      },
      "execution_count": 7,
      "outputs": [
        {
          "output_type": "stream",
          "name": "stdout",
          "text": [
            "__init__ here with Square and 4\n",
            "__init__ here with Square and 4\n",
            "__init__ here with Square and 4\n",
            "__init__ here with Triangle and 3\n",
            "__init__ here with Triangle and 3\n",
            "__init__ here with Hexagon and 6\n",
            "__init__ here with Hexagon and 6\n",
            "I am an EquPol with name Square and 4 sides\n",
            "\n",
            "I am an EquPol with name Square and 4 sides\n",
            "\n",
            "I am an EquPol with name Square and 4 sides\n",
            "\n",
            "I am an EquPol with name Triangle and 3 sides\n",
            "\n",
            "I am an EquPol with name Triangle and 3 sides\n",
            "\n",
            "I am an EquPol with name Hexagon and 6 sides\n",
            "\n",
            "I am an EquPol with name Hexagon and 6 sides\n",
            "\n"
          ]
        }
      ]
    }
  ]
}