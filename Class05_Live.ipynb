{
  "nbformat": 4,
  "nbformat_minor": 0,
  "metadata": {
    "colab": {
      "provenance": [],
      "authorship_tag": "ABX9TyM99DsoJYDMNe3vWO1mS/D/",
      "include_colab_link": true
    },
    "kernelspec": {
      "name": "python3",
      "display_name": "Python 3"
    },
    "language_info": {
      "name": "python"
    }
  },
  "cells": [
    {
      "cell_type": "markdown",
      "metadata": {
        "id": "view-in-github",
        "colab_type": "text"
      },
      "source": [
        "<a href=\"https://colab.research.google.com/github/nleck001/CSC221/blob/main/Class05_Live.ipynb\" target=\"_parent\"><img src=\"https://colab.research.google.com/assets/colab-badge.svg\" alt=\"Open In Colab\"/></a>"
      ]
    },
    {
      "cell_type": "code",
      "execution_count": null,
      "metadata": {
        "id": "Pt1F95cQkMyO"
      },
      "outputs": [],
      "source": [
        "# Class04 as in class!"
      ]
    },
    {
      "cell_type": "code",
      "source": [
        "# Just a few off the top of my head!\n",
        "# Statements (Asking for something to happen)\n",
        "a = 3\n",
        "b = 6\n",
        "def func(a):\n",
        "    pass\n",
        "class classname:\n",
        "    pass\n",
        "'''\n",
        "if while for\n",
        "'''\n",
        "\n",
        "# Expressions (returns a value)\n",
        "a + 5\n",
        "a == 5\n",
        "a and True\n",
        "\n",
        "# Keywords (mean something special in a statement or an expression)\n",
        "'''\n",
        "= def for if else elif and or not is class import while pass True False break continue try except finally\n",
        "'''\n",
        "pass\n"
      ],
      "metadata": {
        "id": "tWurCsSjkWGD"
      },
      "execution_count": 6,
      "outputs": []
    },
    {
      "cell_type": "code",
      "source": [
        "x = input('Enter the number')\n",
        "\n",
        "print(type(x))\n",
        "try:\n",
        "    x_int = int(x)\n",
        "except:\n",
        "    print(f'{x} is not an integer!')\n",
        "    x_int = 0\n",
        "\n",
        "print(type(x_int))\n",
        "print(x_int)\n"
      ],
      "metadata": {
        "colab": {
          "base_uri": "https://localhost:8080/"
        },
        "id": "T7XpAoZan8qQ",
        "outputId": "8da11bdf-b9e9-46e6-9090-6d1857554e9f"
      },
      "execution_count": 7,
      "outputs": [
        {
          "output_type": "stream",
          "name": "stdout",
          "text": [
            "Enter the numberfred\n",
            "<class 'str'>\n",
            "fred is not an integer!\n",
            "<class 'int'>\n",
            "0\n"
          ]
        }
      ]
    },
    {
      "cell_type": "code",
      "source": [
        "b = 6\n",
        "\n",
        "print(b == 7)\n",
        "print(b < 7)"
      ],
      "metadata": {
        "colab": {
          "base_uri": "https://localhost:8080/"
        },
        "id": "reXVUyFIo7yw",
        "outputId": "d8509819-60dc-4f9e-931e-61907896b6b5"
      },
      "execution_count": 8,
      "outputs": [
        {
          "output_type": "stream",
          "name": "stdout",
          "text": [
            "False\n",
            "True\n"
          ]
        }
      ]
    },
    {
      "cell_type": "code",
      "source": [
        "# Regarding Booleans\n",
        "abc = True\n",
        "print(type(abc))\n",
        "\n",
        "#print(True == 1)\n",
        "#print(False == 0)\n",
        "\n",
        "b = [1, 2, 3]\n",
        "if b==3: #-4: #0: #False:\n",
        "    print('444')\n",
        "elif b==5:\n",
        "    print('555')\n",
        "else:\n",
        "    print('???')\n"
      ],
      "metadata": {
        "colab": {
          "base_uri": "https://localhost:8080/"
        },
        "id": "2Gw_R2WCp3my",
        "outputId": "348c5e63-6dac-4125-c941-701fb2b6e2c3"
      },
      "execution_count": 9,
      "outputs": [
        {
          "output_type": "stream",
          "name": "stdout",
          "text": [
            "<class 'bool'>\n",
            "???\n"
          ]
        }
      ]
    },
    {
      "cell_type": "code",
      "source": [
        "# I need a random number\n",
        "# How??\n",
        "\n",
        "import random\n",
        "\n",
        "#print(type(random))\n",
        "#dir(random)\n",
        "#help('random')\n",
        "\n",
        "#random.seed(42)\n",
        "y = random.randint(1,100)\n",
        "print(y)\n",
        "y = random.randint(1,100)\n",
        "print(y)"
      ],
      "metadata": {
        "colab": {
          "base_uri": "https://localhost:8080/"
        },
        "id": "b-XBPWWermvs",
        "outputId": "cf15c76e-ab7a-48ff-cfb4-878314033354"
      },
      "execution_count": 10,
      "outputs": [
        {
          "output_type": "stream",
          "name": "stdout",
          "text": [
            "45\n",
            "64\n"
          ]
        }
      ]
    },
    {
      "cell_type": "code",
      "source": [
        "# List comprehensions\n",
        "rands1 =[]\n",
        "for i in range(20):\n",
        "    #print(i, end = ' ')\n",
        "    rands1.append(random.randint(1,100))\n",
        "\n",
        "print(rands1)"
      ],
      "metadata": {
        "colab": {
          "base_uri": "https://localhost:8080/"
        },
        "id": "wTATTMdFuTLQ",
        "outputId": "83193d1b-1437-445a-a240-7560eeab07c1"
      },
      "execution_count": 11,
      "outputs": [
        {
          "output_type": "stream",
          "name": "stdout",
          "text": [
            "[72, 10, 84, 88, 68, 56, 23, 8, 6, 48, 97, 5, 31, 12, 50, 97, 3, 86, 88, 60]\n"
          ]
        }
      ]
    },
    {
      "cell_type": "code",
      "source": [
        "rands2 = [x for x in range(10)]\n",
        "print(rands2)\n",
        "\n",
        "rands3 = [random.randint(1,100) for x in range(10)]\n",
        "print(rands3)"
      ],
      "metadata": {
        "colab": {
          "base_uri": "https://localhost:8080/"
        },
        "id": "SX01HlzZwPCc",
        "outputId": "a936afc1-72c4-4c34-9ca2-cb45ab7cba44"
      },
      "execution_count": 12,
      "outputs": [
        {
          "output_type": "stream",
          "name": "stdout",
          "text": [
            "[0, 1, 2, 3, 4, 5, 6, 7, 8, 9]\n",
            "[11, 52, 56, 76, 91, 27, 44, 66, 41, 91]\n"
          ]
        }
      ]
    },
    {
      "cell_type": "code",
      "source": [
        "ned123 = [[x, x*2, x**2] for x in range(10000)]\n",
        "print(ned123[12])"
      ],
      "metadata": {
        "colab": {
          "base_uri": "https://localhost:8080/"
        },
        "id": "XgHS5hTZw5el",
        "outputId": "000f19cf-a398-40db-dc7b-bfe391dd3724"
      },
      "execution_count": 13,
      "outputs": [
        {
          "output_type": "stream",
          "name": "stdout",
          "text": [
            "[12, 24, 144]\n"
          ]
        }
      ]
    },
    {
      "cell_type": "code",
      "source": [
        "# Slicing\n",
        "print(ned123[0])\n",
        "print(ned123[7:11])\n",
        "print(ned123[21:50:3])\n",
        "\n",
        "print(ned123[-20:-10:2])\n",
        "\n",
        "print(ned123[-5:])\n",
        "print(ned123[:7])"
      ],
      "metadata": {
        "colab": {
          "base_uri": "https://localhost:8080/"
        },
        "id": "zE1pdF7yxqxW",
        "outputId": "70156bf3-cade-4f6a-ee3c-8683b891db66"
      },
      "execution_count": 14,
      "outputs": [
        {
          "output_type": "stream",
          "name": "stdout",
          "text": [
            "[0, 0, 0]\n",
            "[[7, 14, 49], [8, 16, 64], [9, 18, 81], [10, 20, 100]]\n",
            "[[21, 42, 441], [24, 48, 576], [27, 54, 729], [30, 60, 900], [33, 66, 1089], [36, 72, 1296], [39, 78, 1521], [42, 84, 1764], [45, 90, 2025], [48, 96, 2304]]\n",
            "[[9980, 19960, 99600400], [9982, 19964, 99640324], [9984, 19968, 99680256], [9986, 19972, 99720196], [9988, 19976, 99760144]]\n",
            "[[9995, 19990, 99900025], [9996, 19992, 99920016], [9997, 19994, 99940009], [9998, 19996, 99960004], [9999, 19998, 99980001]]\n",
            "[[0, 0, 0], [1, 2, 1], [2, 4, 4], [3, 6, 9], [4, 8, 16], [5, 10, 25], [6, 12, 36]]\n"
          ]
        }
      ]
    },
    {
      "cell_type": "code",
      "source": [
        "# Copying Confusing!\n",
        "a = [4, 5, 6, 8]\n",
        "b = a[:]\n",
        "\n",
        "print(a)\n",
        "print(b)\n",
        "\n",
        "a[2] = 999\n",
        "print(a)\n",
        "print(b)\n",
        "\n"
      ],
      "metadata": {
        "colab": {
          "base_uri": "https://localhost:8080/"
        },
        "id": "uulQ3EvRyNiu",
        "outputId": "e2546613-c661-4060-b5aa-9b97cd683de9"
      },
      "execution_count": 15,
      "outputs": [
        {
          "output_type": "stream",
          "name": "stdout",
          "text": [
            "[4, 5, 6, 8]\n",
            "[4, 5, 6, 8]\n",
            "[4, 5, 999, 8]\n",
            "[4, 5, 6, 8]\n"
          ]
        }
      ]
    },
    {
      "cell_type": "code",
      "source": [],
      "metadata": {
        "id": "S9WAU3240HWa"
      },
      "execution_count": null,
      "outputs": []
    }
  ]
}