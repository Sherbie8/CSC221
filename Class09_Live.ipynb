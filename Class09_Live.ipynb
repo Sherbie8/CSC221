{
  "nbformat": 4,
  "nbformat_minor": 0,
  "metadata": {
    "colab": {
      "provenance": [],
      "authorship_tag": "ABX9TyPD86OBTXppk1YxkBfhjEMu",
      "include_colab_link": true
    },
    "kernelspec": {
      "name": "python3",
      "display_name": "Python 3"
    },
    "language_info": {
      "name": "python"
    }
  },
  "cells": [
    {
      "cell_type": "markdown",
      "metadata": {
        "id": "view-in-github",
        "colab_type": "text"
      },
      "source": [
        "<a href=\"https://colab.research.google.com/github/nleck001/CSC221/blob/main/Class09_Live.ipynb\" target=\"_parent\"><img src=\"https://colab.research.google.com/assets/colab-badge.svg\" alt=\"Open In Colab\"/></a>"
      ]
    },
    {
      "cell_type": "code",
      "source": [
        "# Class 9 2/26/2023\n",
        "# What we did in class live!"
      ],
      "metadata": {
        "id": "iVADpnpnaNgZ"
      },
      "execution_count": null,
      "outputs": []
    },
    {
      "cell_type": "code",
      "execution_count": null,
      "metadata": {
        "colab": {
          "base_uri": "https://localhost:8080/",
          "height": 349
        },
        "id": "czfGX1lUv6xl",
        "outputId": "cb665c03-91ad-4a99-bf63-cefe8e420670"
      },
      "outputs": [
        {
          "output_type": "stream",
          "name": "stdout",
          "text": [
            "Oh, you typed -1\n",
            "Oh, you typed 0\n",
            "Oh, you typed 8\n",
            "1, 2, 3, 4, 5, 6, 7, 8\n",
            "Oh, you typed 20\n",
            "1, 2, 3, 4, 5, 6, 7, 8, 9, 10, 11, 12, 13, 14, 15, 16, 17, 18, 19, 20\n"
          ]
        },
        {
          "output_type": "error",
          "ename": "TypeError",
          "evalue": "ignored",
          "traceback": [
            "\u001b[0;31m---------------------------------------------------------------------------\u001b[0m",
            "\u001b[0;31mTypeError\u001b[0m                                 Traceback (most recent call last)",
            "\u001b[0;32m<ipython-input-9-b4a9277ae04f>\u001b[0m in \u001b[0;36m<cell line: 16>\u001b[0;34m()\u001b[0m\n\u001b[1;32m     14\u001b[0m \u001b[0mdo_the_thing\u001b[0m\u001b[0;34m(\u001b[0m\u001b[0;36m8\u001b[0m\u001b[0;34m)\u001b[0m\u001b[0;34m\u001b[0m\u001b[0;34m\u001b[0m\u001b[0m\n\u001b[1;32m     15\u001b[0m \u001b[0mdo_the_thing\u001b[0m\u001b[0;34m(\u001b[0m\u001b[0;34m)\u001b[0m\u001b[0;34m\u001b[0m\u001b[0;34m\u001b[0m\u001b[0m\n\u001b[0;32m---> 16\u001b[0;31m \u001b[0mdo_the_thing\u001b[0m\u001b[0;34m(\u001b[0m\u001b[0;36m3\u001b[0m\u001b[0;34m,\u001b[0m\u001b[0;36m6\u001b[0m\u001b[0;34m)\u001b[0m\u001b[0;34m\u001b[0m\u001b[0;34m\u001b[0m\u001b[0m\n\u001b[0m\u001b[1;32m     17\u001b[0m \u001b[0mhelp\u001b[0m\u001b[0;34m(\u001b[0m\u001b[0mdo_the_thing\u001b[0m\u001b[0;34m)\u001b[0m\u001b[0;34m\u001b[0m\u001b[0;34m\u001b[0m\u001b[0m\n\u001b[1;32m     18\u001b[0m \u001b[0;34m\u001b[0m\u001b[0m\n",
            "\u001b[0;31mTypeError\u001b[0m: do_the_thing() takes from 0 to 1 positional arguments but 2 were given"
          ]
        }
      ],
      "source": [
        "def do_the_thing(n=20):\n",
        "    '''\n",
        "    Prints all ints from 1 to n.\n",
        "      The function will print ints from 1 to n\n",
        "    '''\n",
        "    print(f'Oh, you typed {n}')\n",
        "    for i in range(n):\n",
        "        printend = ', '\n",
        "        if i == n - 1: printend = '\\n'\n",
        "        print(i+1, end=printend)\n",
        "\n",
        "do_the_thing(-1)\n",
        "do_the_thing(0)\n",
        "do_the_thing(8)\n",
        "do_the_thing()\n",
        "do_the_thing(3,6)\n",
        "help(do_the_thing)\n",
        "\n",
        "#dir(do_the_thing)"
      ]
    },
    {
      "cell_type": "code",
      "source": [
        "# Use of continue\n",
        "keep_going = True\n",
        "while keep_going:\n",
        "    n_str = input('Please give me a integer (999 to exit): ')\n",
        "\n",
        "    try:\n",
        "        n = int(n_str)\n",
        "\n",
        "        if n == 999:\n",
        "            keep_going = False\n",
        "        elif n > 100:\n",
        "            print('Too big!')\n",
        "        else:\n",
        "            do_the_thing(n)\n",
        "    except:\n",
        "        print(f\"That's no int! Why did you type {n_str}?\")\n",
        "\n",
        "print('Thank you for playing!')"
      ],
      "metadata": {
        "colab": {
          "base_uri": "https://localhost:8080/"
        },
        "id": "7vdHrCGHwhml",
        "outputId": "85eb4c37-6945-490a-8a23-b9e53f724342"
      },
      "execution_count": null,
      "outputs": [
        {
          "output_type": "stream",
          "name": "stdout",
          "text": [
            "Please give me a integer (999 to exit): 13\n",
            "Oh, you typed 13\n",
            "1, 2, 3, 4, 5, 6, 7, 8, 9, 10, 11, 12, 13\n",
            "Please give me a integer (999 to exit): 2\n",
            "Oh, you typed 2\n",
            "1, 2\n",
            "Please give me a integer (999 to exit): 123\n",
            "Too big!\n",
            "Please give me a integer (999 to exit): 57\n",
            "Oh, you typed 57\n",
            "1, 2, 3, 4, 5, 6, 7, 8, 9, 10, 11, 12, 13, 14, 15, 16, 17, 18, 19, 20, 21, 22, 23, 24, 25, 26, 27, 28, 29, 30, 31, 32, 33, 34, 35, 36, 37, 38, 39, 40, 41, 42, 43, 44, 45, 46, 47, 48, 49, 50, 51, 52, 53, 54, 55, 56, 57\n",
            "Please give me a integer (999 to exit): 999\n",
            "Thank you for playing!\n"
          ]
        }
      ]
    },
    {
      "cell_type": "code",
      "source": [
        "# List Comprehensions\n",
        "# Make a list of the cubes of all numbers 0 to 25\n",
        "nums = []\n",
        "for x in range(26):\n",
        "    nums.append(x**3)\n",
        "\n",
        "print(nums)"
      ],
      "metadata": {
        "colab": {
          "base_uri": "https://localhost:8080/"
        },
        "id": "1ZYgarkEybY5",
        "outputId": "7d6269f8-c870-45f4-dd5f-a46e5479a71b"
      },
      "execution_count": null,
      "outputs": [
        {
          "output_type": "stream",
          "name": "stdout",
          "text": [
            "[0, 1, 8, 27, 64, 125, 216, 343, 512, 729, 1000, 1331, 1728, 2197, 2744, 3375, 4096, 4913, 5832, 6859, 8000, 9261, 10648, 12167, 13824, 15625]\n"
          ]
        }
      ]
    },
    {
      "cell_type": "code",
      "source": [
        "# Make a list of the cubes of all numbers 0 to 25 that are multiples of 7\n",
        "nums = []\n",
        "for x in range(26):\n",
        "    if x % 7 == 0:\n",
        "        nums.append(x**3)\n",
        "\n",
        "print(nums)"
      ],
      "metadata": {
        "colab": {
          "base_uri": "https://localhost:8080/"
        },
        "id": "u776uzqf3F8F",
        "outputId": "fe183e2d-084d-4639-eff5-da098d3d8320"
      },
      "execution_count": null,
      "outputs": [
        {
          "output_type": "stream",
          "name": "stdout",
          "text": [
            "[0, 343, 2744, 9261]\n"
          ]
        }
      ]
    },
    {
      "cell_type": "code",
      "source": [
        "nums = [x**3 for x in range(26)]\n",
        "print(nums)"
      ],
      "metadata": {
        "colab": {
          "base_uri": "https://localhost:8080/"
        },
        "id": "MxkmWcY23c6l",
        "outputId": "c4955d34-bb8d-4250-ee34-9cf57ce6b7f7"
      },
      "execution_count": null,
      "outputs": [
        {
          "output_type": "stream",
          "name": "stdout",
          "text": [
            "[0, 1, 8, 27, 64, 125, 216, 343, 512, 729, 1000, 1331, 1728, 2197, 2744, 3375, 4096, 4913, 5832, 6859, 8000, 9261, 10648, 12167, 13824, 15625]\n"
          ]
        }
      ]
    },
    {
      "cell_type": "code",
      "source": [
        "nums = [x**3 for x in range(26) if x % 7 == 0]\n",
        "print(nums)"
      ],
      "metadata": {
        "colab": {
          "base_uri": "https://localhost:8080/"
        },
        "id": "yaAK2e1Z3qMS",
        "outputId": "c00b70c4-0566-4ded-bd06-70a54ec17e1c"
      },
      "execution_count": null,
      "outputs": [
        {
          "output_type": "stream",
          "name": "stdout",
          "text": [
            "[0, 343, 2744, 9261]\n"
          ]
        }
      ]
    },
    {
      "cell_type": "code",
      "source": [
        "# How do i\\I deal with putting in long strings\n",
        "def func(x):\n",
        "    longstr = '''lkjasdf asdlkjh asdlkjh asdkljh sad\n",
        "kljasdfkljh asdklj sdkljh sadlkjh sadkljh asdlkjh sadflkjhasdf asdlkjh dahkljasd hk\n",
        "khgasdgsdakjgsadfjkgsdaf jsg sdag sdagj sdagkjsda sdaj sdagjk ksdaj '''\n",
        "    print(longstr)\n",
        "\n",
        "func(123)"
      ],
      "metadata": {
        "colab": {
          "base_uri": "https://localhost:8080/"
        },
        "id": "zuypIkt_3zut",
        "outputId": "6d7c7773-34ee-42d5-bac6-5d1e1f99b914"
      },
      "execution_count": null,
      "outputs": [
        {
          "output_type": "stream",
          "name": "stdout",
          "text": [
            "lkjasdf asdlkjh asdlkjh asdkljh sad\n",
            "kljasdfkljh asdklj sdkljh sadlkjh sadkljh asdlkjh sadflkjhasdf asdlkjh dahkljasd hk\n",
            "khgasdgsdakjgsadfjkgsdaf jsg sdag sdagj sdagkjsda sdaj sdagjk ksdaj \n"
          ]
        }
      ]
    },
    {
      "cell_type": "code",
      "source": [
        "# How do I deal with putting in long strings\n",
        "def func(x):\n",
        "    longstr = 'lkjasdf asdlkjh asdlkjh asdkljh sad\\n'\n",
        "    longstr += 'kljasdfkljh asdklj sdkljh sadlkjh sadkljh asdlkjh sadflkjhasdf asdlkjh dahkljasd hk\\n'\n",
        "    longstr += 'khgasdgsdakjgsadfjkgsdaf jsg sdag sdagj sdagkjsda sdaj sdagjk ksdaj'\n",
        "    print(longstr)\n",
        "\n",
        "func(123)"
      ],
      "metadata": {
        "colab": {
          "base_uri": "https://localhost:8080/"
        },
        "id": "QB72GwWD4fhn",
        "outputId": "20190846-3048-497c-efc8-b99d4125cfd0"
      },
      "execution_count": null,
      "outputs": [
        {
          "output_type": "stream",
          "name": "stdout",
          "text": [
            "lkjasdf asdlkjh asdlkjh asdkljh sad\n",
            "kljasdfkljh asdklj sdkljh sadlkjh sadkljh asdlkjh sadflkjhasdf asdlkjh dahkljasd hk\n",
            "khgasdgsdakjgsadfjkgsdaf jsg sdag sdagj sdagkjsda sdaj sdagjk ksdaj\n"
          ]
        }
      ]
    },
    {
      "cell_type": "code",
      "source": [
        "# Argument!\n",
        "def f(a, b):\n",
        "    print(f' {a=} {b=}')\n",
        "\n",
        "f(1,12)\n"
      ],
      "metadata": {
        "colab": {
          "base_uri": "https://localhost:8080/"
        },
        "id": "8KKYfIlS5CDu",
        "outputId": "83d6a400-d649-4d91-cc70-5154710af016"
      },
      "execution_count": null,
      "outputs": [
        {
          "output_type": "stream",
          "name": "stdout",
          "text": [
            " a=1 b=12\n"
          ]
        }
      ]
    },
    {
      "cell_type": "code",
      "source": [
        "# Named\n",
        "f(b=13, a=6)"
      ],
      "metadata": {
        "colab": {
          "base_uri": "https://localhost:8080/"
        },
        "id": "LivL8Rxz5yUo",
        "outputId": "8eb85450-0d02-456f-e628-26ce4d76d199"
      },
      "execution_count": null,
      "outputs": [
        {
          "output_type": "stream",
          "name": "stdout",
          "text": [
            " a=6 b=13\n"
          ]
        }
      ]
    },
    {
      "cell_type": "code",
      "source": [
        "# Default argument!\n",
        "def f(a, b=4):\n",
        "    print(f' {a=} {b=}')\n",
        "\n",
        "f(1,12)\n",
        "f(6)\n",
        "f(a=123)\n",
        "\n",
        "x = f(5, 7)\n",
        "print(x)\n"
      ],
      "metadata": {
        "colab": {
          "base_uri": "https://localhost:8080/"
        },
        "id": "AbjT80z_585A",
        "outputId": "e1ffbab5-a75a-4a65-badb-6ceb591fac74"
      },
      "execution_count": null,
      "outputs": [
        {
          "output_type": "stream",
          "name": "stdout",
          "text": [
            " a=1 b=12\n",
            " a=6 b=4\n",
            " a=123 b=4\n",
            " a=5 b=7\n",
            "None\n"
          ]
        }
      ]
    },
    {
      "cell_type": "code",
      "source": [
        "# Default argument with return\n",
        "def f(a, b=4):\n",
        "    print(f' {a=} {b=}')\n",
        "    return a + b\n",
        "\n",
        "f(1,12)\n",
        "f(6)\n",
        "f(a=123)\n",
        "\n",
        "x = f(5, 7)\n",
        "print(x)\n"
      ],
      "metadata": {
        "colab": {
          "base_uri": "https://localhost:8080/"
        },
        "id": "f-p1uP8i6K4Q",
        "outputId": "13d6c075-161d-411a-9188-958aa94c37ed"
      },
      "execution_count": null,
      "outputs": [
        {
          "output_type": "stream",
          "name": "stdout",
          "text": [
            " a=1 b=12\n",
            " a=6 b=4\n",
            " a=123 b=4\n",
            " a=5 b=7\n",
            "12\n"
          ]
        }
      ]
    },
    {
      "cell_type": "code",
      "source": [
        "# Default argument with multiple return\n",
        "def f(a, b=4):\n",
        "    print(f' {a=} {b=}')\n",
        "    return a, b, a + b, a * b\n",
        "\n",
        "f(1,12)\n",
        "f(6)\n",
        "f(a=123)\n",
        "\n",
        "x = f(5, 7)\n",
        "print(type(x))\n",
        "print(x)\n",
        "\n",
        "a1, a2, *a4 = f(31, 17)\n",
        "print(a1)\n",
        "print(a2)\n",
        "print(a3)\n",
        "print(a4)\n"
      ],
      "metadata": {
        "colab": {
          "base_uri": "https://localhost:8080/"
        },
        "id": "xXEy6KLp620h",
        "outputId": "4c8e552d-c4e1-4649-807b-a05d4904bcc7"
      },
      "execution_count": null,
      "outputs": [
        {
          "output_type": "stream",
          "name": "stdout",
          "text": [
            " a=1 b=12\n",
            " a=6 b=4\n",
            " a=123 b=4\n",
            " a=5 b=7\n",
            "<class 'tuple'>\n",
            "(5, 7, 12, 35)\n",
            " a=31 b=17\n",
            "31\n",
            "17\n",
            "48\n",
            "[48, 527]\n"
          ]
        }
      ]
    },
    {
      "cell_type": "code",
      "source": [
        "# Variable Arguments\n",
        "def f2(a, b, *args, **kwargs):\n",
        "    print(f'{a=} {b=} {args=} {kwargs=}')\n",
        "\n",
        "\n",
        "f2(1, 2)\n",
        "f2(1, 2, 123, 'ned')\n",
        "f2(1, 2, 123, 'ned',special1=100,special2='qwerty')"
      ],
      "metadata": {
        "colab": {
          "base_uri": "https://localhost:8080/"
        },
        "id": "8dGnjL6m7P7K",
        "outputId": "a7fdca8b-bf49-463b-ba46-c28593c438e8"
      },
      "execution_count": null,
      "outputs": [
        {
          "output_type": "stream",
          "name": "stdout",
          "text": [
            "a=1 b=2 args=() kwargs={}\n",
            "a=1 b=2 args=(123, 'ned') kwargs={}\n",
            "a=1 b=2 args=(123, 'ned') kwargs={'special1': 100, 'special2': 'qwerty'}\n"
          ]
        }
      ]
    },
    {
      "cell_type": "code",
      "source": [],
      "metadata": {
        "id": "7qyDNRmS8YHr"
      },
      "execution_count": null,
      "outputs": []
    }
  ]
}