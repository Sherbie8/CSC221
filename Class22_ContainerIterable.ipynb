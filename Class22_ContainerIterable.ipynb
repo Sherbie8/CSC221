{
  "nbformat": 4,
  "nbformat_minor": 0,
  "metadata": {
    "colab": {
      "provenance": [],
      "authorship_tag": "ABX9TyMBIakRbKMp08osbuqaeimV",
      "include_colab_link": true
    },
    "kernelspec": {
      "name": "python3",
      "display_name": "Python 3"
    },
    "language_info": {
      "name": "python"
    }
  },
  "cells": [
    {
      "cell_type": "markdown",
      "metadata": {
        "id": "view-in-github",
        "colab_type": "text"
      },
      "source": [
        "<a href=\"https://colab.research.google.com/github/nleck001/CSC221/blob/main/Class22_ContainerIterable.ipynb\" target=\"_parent\"><img src=\"https://colab.research.google.com/assets/colab-badge.svg\" alt=\"Open In Colab\"/></a>"
      ]
    },
    {
      "cell_type": "code",
      "execution_count": null,
      "metadata": {
        "colab": {
          "base_uri": "https://localhost:8080/"
        },
        "id": "uF4qHx7QySSo",
        "outputId": "38d94861-6af2-4ccb-e161-9b4ba3d48072"
      },
      "outputs": [
        {
          "output_type": "stream",
          "name": "stdout",
          "text": [
            "key='temp'\n",
            "90\n"
          ]
        }
      ],
      "source": [
        "# Use of Container protocol\n",
        "\n",
        "# Can't use dict because I want to do some computation... a 'living' dictionary\n",
        "class Machine:\n",
        "    def __getitem__(self, key):\n",
        "        print(f'{key=}')\n",
        "        return 90\n",
        "\n",
        "m1 = Machine()\n",
        "\n",
        "print(m1['temp'])\n"
      ]
    },
    {
      "cell_type": "code",
      "source": [
        "from datetime import datetime\n",
        "\n",
        "# A little more\n",
        "class Machine:\n",
        "    def __getitem__(self, key):\n",
        "        if key=='time':\n",
        "            return datetime.now()\n",
        "        elif key == 'temp':\n",
        "            # talk to website, get temp...\n",
        "            temp = 48\n",
        "\n",
        "            return temp\n",
        "        else:\n",
        "            return f'Machine parameter \\'{key}\\' is unknown'\n",
        "\n",
        "m1 = Machine()\n",
        "\n",
        "print(m1['time'])\n",
        "print(m1['temp'])\n",
        "print(m1['humidity'])\n",
        "print(len(m1))\n"
      ],
      "metadata": {
        "colab": {
          "base_uri": "https://localhost:8080/",
          "height": 263
        },
        "id": "7Z0Nm7Qhyy0Y",
        "outputId": "bbf278ba-a994-4187-ad1d-4d4b8e834b35"
      },
      "execution_count": null,
      "outputs": [
        {
          "output_type": "stream",
          "name": "stdout",
          "text": [
            "2023-11-14 14:19:53.725783\n",
            "48\n",
            "Machine parameter 'humidity' is unknown\n"
          ]
        },
        {
          "output_type": "error",
          "ename": "TypeError",
          "evalue": "ignored",
          "traceback": [
            "\u001b[0;31m---------------------------------------------------------------------------\u001b[0m",
            "\u001b[0;31mTypeError\u001b[0m                                 Traceback (most recent call last)",
            "\u001b[0;32m<ipython-input-23-e8983fe14658>\u001b[0m in \u001b[0;36m<cell line: 21>\u001b[0;34m()\u001b[0m\n\u001b[1;32m     19\u001b[0m \u001b[0mprint\u001b[0m\u001b[0;34m(\u001b[0m\u001b[0mm1\u001b[0m\u001b[0;34m[\u001b[0m\u001b[0;34m'temp'\u001b[0m\u001b[0;34m]\u001b[0m\u001b[0;34m)\u001b[0m\u001b[0;34m\u001b[0m\u001b[0;34m\u001b[0m\u001b[0m\n\u001b[1;32m     20\u001b[0m \u001b[0mprint\u001b[0m\u001b[0;34m(\u001b[0m\u001b[0mm1\u001b[0m\u001b[0;34m[\u001b[0m\u001b[0;34m'humidity'\u001b[0m\u001b[0;34m]\u001b[0m\u001b[0;34m)\u001b[0m\u001b[0;34m\u001b[0m\u001b[0;34m\u001b[0m\u001b[0m\n\u001b[0;32m---> 21\u001b[0;31m \u001b[0mprint\u001b[0m\u001b[0;34m(\u001b[0m\u001b[0mlen\u001b[0m\u001b[0;34m(\u001b[0m\u001b[0mm1\u001b[0m\u001b[0;34m)\u001b[0m\u001b[0;34m)\u001b[0m\u001b[0;34m\u001b[0m\u001b[0;34m\u001b[0m\u001b[0m\n\u001b[0m",
            "\u001b[0;31mTypeError\u001b[0m: object of type 'Machine' has no len()"
          ]
        }
      ]
    },
    {
      "cell_type": "code",
      "source": [
        "# Get len and numric indexing working\n",
        "from datetime import datetime\n",
        "\n",
        "class Machine:\n",
        "    def __len__(self):\n",
        "        return 2\n",
        "    def __getitem__(self, key):\n",
        "        if key == 'time' or key == 0:\n",
        "            return datetime.now()\n",
        "        elif key == 'temp' or key == 1:\n",
        "            # talk to website, get temp...\n",
        "            temp = 48\n",
        "\n",
        "            return temp\n",
        "        else:\n",
        "            return f'Machine parameter \\'{key}\\' is unknown'\n",
        "\n",
        "m1 = Machine()\n",
        "\n",
        "print(m1['time'])\n",
        "print(m1['temp'])\n",
        "print(m1['humidity'])\n",
        "print(len(m1))\n",
        "print(m1[0])\n",
        "print(m1[1])\n",
        "# Won't work... needs iteration protocol\n",
        "#for value in m1:\n",
        "#    print(value)\n"
      ],
      "metadata": {
        "colab": {
          "base_uri": "https://localhost:8080/"
        },
        "id": "N_XljcUrzkJX",
        "outputId": "956290a0-7189-4123-a73b-5d892f69cf53"
      },
      "execution_count": null,
      "outputs": [
        {
          "output_type": "stream",
          "name": "stdout",
          "text": [
            "2023-11-14 14:20:02.979316\n",
            "48\n",
            "Machine parameter 'humidity' is unknown\n",
            "2\n",
            "2023-11-14 14:20:02.981029\n",
            "48\n"
          ]
        }
      ]
    },
    {
      "cell_type": "code",
      "source": [
        "# Make it iterable!\n",
        "# Get len and numeric indexing working\n",
        "from datetime import datetime\n",
        "\n",
        "class Machine:\n",
        "    PARAMETER_COUNT = 2\n",
        "    def __len__(self):\n",
        "        return Machine.PARAMETER_COUNT\n",
        "    def __getitem__(self, key):\n",
        "        if key == 'time' or key == 0:\n",
        "            return datetime.now()\n",
        "        elif key == 'temp' or key == 1:\n",
        "            # talk to website, get temp...\n",
        "            temp = 48\n",
        "\n",
        "            return temp\n",
        "        else:\n",
        "            return f'Machine parameter \\'{key}\\' is unknown'\n",
        "    def __iter__(self):\n",
        "        index = 0\n",
        "        while index < Machine.PARAMETER_COUNT:\n",
        "            yield self[index]\n",
        "            index += 1\n",
        "\n",
        "m1 = Machine()\n",
        "\n",
        "print(m1['time'])\n",
        "print(m1['temp'])\n",
        "print(m1['humidity'])\n",
        "print(len(m1))\n",
        "print(m1[0])\n",
        "print(m1[1])\n",
        "\n",
        "for value in m1:\n",
        "    print(value)"
      ],
      "metadata": {
        "colab": {
          "base_uri": "https://localhost:8080/"
        },
        "id": "vwa4O2pD0Y0O",
        "outputId": "cf6ff467-3708-446a-a85f-8888f3487c2c"
      },
      "execution_count": null,
      "outputs": [
        {
          "output_type": "stream",
          "name": "stdout",
          "text": [
            "2023-11-14 14:20:03.131716\n",
            "48\n",
            "Machine parameter 'humidity' is unknown\n",
            "2\n",
            "2023-11-14 14:20:03.132231\n",
            "48\n",
            "2023-11-14 14:20:03.132494\n",
            "48\n"
          ]
        }
      ]
    },
    {
      "cell_type": "code",
      "source": [],
      "metadata": {
        "id": "Cejf26tH2V78"
      },
      "execution_count": null,
      "outputs": []
    }
  ]
}