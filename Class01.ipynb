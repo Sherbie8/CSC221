{
  "nbformat": 4,
  "nbformat_minor": 0,
  "metadata": {
    "colab": {
      "provenance": [],
      "include_colab_link": true
    },
    "kernelspec": {
      "name": "python3",
      "display_name": "Python 3"
    },
    "language_info": {
      "name": "python"
    }
  },
  "cells": [
    {
      "cell_type": "markdown",
      "metadata": {
        "id": "view-in-github",
        "colab_type": "text"
      },
      "source": [
        "<a href=\"https://colab.research.google.com/github/nleck001/csc221/blob/main/Class01.ipynb\" target=\"_parent\"><img src=\"https://colab.research.google.com/assets/colab-badge.svg\" alt=\"Open In Colab\"/></a>"
      ]
    },
    {
      "cell_type": "markdown",
      "source": [
        "# CSC221 Fall 2023\n",
        "- Class01.ipynb\n",
        "- Ned Lecky"
      ],
      "metadata": {
        "id": "bqVp4MWfJQDy"
      }
    },
    {
      "cell_type": "code",
      "execution_count": null,
      "metadata": {
        "id": "MQRm_a6ElzGC"
      },
      "outputs": [],
      "source": [
        "a = 123"
      ]
    },
    {
      "cell_type": "code",
      "source": [],
      "metadata": {
        "id": "PX5SquXUl1tD"
      },
      "execution_count": null,
      "outputs": []
    }
  ]
}