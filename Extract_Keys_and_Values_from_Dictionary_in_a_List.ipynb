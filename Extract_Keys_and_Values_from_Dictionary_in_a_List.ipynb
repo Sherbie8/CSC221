{
  "nbformat": 4,
  "nbformat_minor": 0,
  "metadata": {
    "colab": {
      "provenance": [],
      "authorship_tag": "ABX9TyMY31Q9CP9ocUznujf+SHgY",
      "include_colab_link": true
    },
    "kernelspec": {
      "name": "python3",
      "display_name": "Python 3"
    },
    "language_info": {
      "name": "python"
    }
  },
  "cells": [
    {
      "cell_type": "markdown",
      "metadata": {
        "id": "view-in-github",
        "colab_type": "text"
      },
      "source": [
        "<a href=\"https://colab.research.google.com/github/nleck001/CSC221/blob/main/Extract_Keys_and_Values_from_Dictionary_in_a_List.ipynb\" target=\"_parent\"><img src=\"https://colab.research.google.com/assets/colab-badge.svg\" alt=\"Open In Colab\"/></a>"
      ]
    },
    {
      "cell_type": "code",
      "execution_count": 2,
      "metadata": {
        "colab": {
          "base_uri": "https://localhost:8080/"
        },
        "id": "mV2kNucGaHpf",
        "outputId": "ebe5b2fc-48ef-4bc2-bbe6-ae7a449a5214"
      },
      "outputs": [
        {
          "output_type": "stream",
          "name": "stdout",
          "text": [
            "{'k1': 'stuff1', 'k3': 'stuff3', 'k99': 'stuff99'}\n"
          ]
        }
      ],
      "source": [
        "my_dict = {'k1':'stuff1', 'k3':'stuff3', 'k99':'stuff99'}\n",
        "print(my_dict)"
      ]
    },
    {
      "cell_type": "code",
      "source": [
        "for key in my_dict:\n",
        "    print(key)\n",
        "for key in my_dict.keys(): # Redundant\n",
        "    print(key)\n",
        "for value in my_dict.values():\n",
        "    print(value)"
      ],
      "metadata": {
        "colab": {
          "base_uri": "https://localhost:8080/"
        },
        "id": "r1ZXNHtBadGv",
        "outputId": "0a4f528c-c8c5-4ecc-a750-298587e2c049"
      },
      "execution_count": 5,
      "outputs": [
        {
          "output_type": "stream",
          "name": "stdout",
          "text": [
            "k1\n",
            "k3\n",
            "k99\n",
            "k1\n",
            "k3\n",
            "k99\n",
            "stuff1\n",
            "stuff3\n",
            "stuff99\n"
          ]
        }
      ]
    },
    {
      "cell_type": "code",
      "source": [
        "my_list = [13, 27, my_dict, 'ned']\n",
        "print(my_list)\n",
        "\n",
        "for key in my_list[2]:\n",
        "    print(key)\n",
        "for value in my_list[2].values():\n",
        "    print(value)"
      ],
      "metadata": {
        "colab": {
          "base_uri": "https://localhost:8080/"
        },
        "id": "iJ-iFkmAavSQ",
        "outputId": "2d836cd4-2221-451a-fa6b-8ca11aa545ec"
      },
      "execution_count": 8,
      "outputs": [
        {
          "output_type": "stream",
          "name": "stdout",
          "text": [
            "[13, 27, {'k1': 'stuff1', 'k3': 'stuff3', 'k99': 'stuff99'}, 'ned']\n",
            "k1\n",
            "k3\n",
            "k99\n",
            "stuff1\n",
            "stuff3\n",
            "stuff99\n"
          ]
        }
      ]
    },
    {
      "cell_type": "code",
      "source": [],
      "metadata": {
        "id": "mAu-zHQCa5-_"
      },
      "execution_count": null,
      "outputs": []
    }
  ]
}