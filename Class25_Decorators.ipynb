{
  "nbformat": 4,
  "nbformat_minor": 0,
  "metadata": {
    "colab": {
      "provenance": [],
      "authorship_tag": "ABX9TyPa6w9/c2SGVItH2YOhliin",
      "include_colab_link": true
    },
    "kernelspec": {
      "name": "python3",
      "display_name": "Python 3"
    },
    "language_info": {
      "name": "python"
    }
  },
  "cells": [
    {
      "cell_type": "markdown",
      "metadata": {
        "id": "view-in-github",
        "colab_type": "text"
      },
      "source": [
        "<a href=\"https://colab.research.google.com/github/nleck001/CSC221/blob/main/Class25_Decorators.ipynb\" target=\"_parent\"><img src=\"https://colab.research.google.com/assets/colab-badge.svg\" alt=\"Open In Colab\"/></a>"
      ]
    },
    {
      "cell_type": "code",
      "execution_count": null,
      "metadata": {
        "colab": {
          "base_uri": "https://localhost:8080/"
        },
        "id": "jWt57WHW27Nn",
        "outputId": "8aa7144a-0079-41fe-fc6e-6690c988cc35"
      },
      "outputs": [
        {
          "output_type": "stream",
          "name": "stdout",
          "text": [
            "8\n"
          ]
        }
      ],
      "source": [
        "def f1(a, b):\n",
        "    return a + b\n",
        "\n",
        "print(f1(3, 5))"
      ]
    },
    {
      "cell_type": "code",
      "source": [
        "def trace(func):\n",
        "    def call(*args, **kwargs):\n",
        "        print(f'Calling {func}({args}, {kwargs})')\n",
        "        return func(*args, **kwargs)\n",
        "    return call\n",
        "\n",
        "# Make a tracing version of f1\n",
        "f1t = trace(f1)\n",
        "\n",
        "print(f1t(3, 5))"
      ],
      "metadata": {
        "colab": {
          "base_uri": "https://localhost:8080/"
        },
        "id": "M4FgDvQn3Dn4",
        "outputId": "c009119c-0ab1-4427-8b43-52471cef21f5"
      },
      "execution_count": null,
      "outputs": [
        {
          "output_type": "stream",
          "name": "stdout",
          "text": [
            "Calling <function f1 at 0x7e86d1bf1cf0>((3, 5), {})\n",
            "8\n"
          ]
        }
      ]
    },
    {
      "cell_type": "code",
      "source": [
        "# Replace f1\n",
        "f1 = trace(f1)\n",
        "\n",
        "print(f1(5, 7))"
      ],
      "metadata": {
        "colab": {
          "base_uri": "https://localhost:8080/"
        },
        "id": "1xCAJivn3ujk",
        "outputId": "52424d23-9454-44ab-f3e3-1f7b25bade07"
      },
      "execution_count": null,
      "outputs": [
        {
          "output_type": "stream",
          "name": "stdout",
          "text": [
            "Calling <function f1 at 0x7e86d1bf1cf0>((5, 7), {})\n",
            "12\n"
          ]
        }
      ]
    },
    {
      "cell_type": "code",
      "source": [
        "# Replace f1 again??\n",
        "f1 = trace(f1)\n",
        "\n",
        "print(f1(5, 7))"
      ],
      "metadata": {
        "colab": {
          "base_uri": "https://localhost:8080/"
        },
        "id": "nLpmutC-394c",
        "outputId": "3dcea961-75b1-439c-d23f-2c8a861fa45d"
      },
      "execution_count": null,
      "outputs": [
        {
          "output_type": "stream",
          "name": "stdout",
          "text": [
            "Calling <function trace.<locals>.call at 0x7e86b9458820>((5, 7), {})\n",
            "Calling <function f1 at 0x7e86d1bf1cf0>((5, 7), {})\n",
            "12\n"
          ]
        }
      ]
    },
    {
      "cell_type": "code",
      "source": [
        "# Replace f1 again again??\n",
        "f1 = trace(f1)\n",
        "\n",
        "print(f1(5, 7))\n"
      ],
      "metadata": {
        "colab": {
          "base_uri": "https://localhost:8080/"
        },
        "id": "3Wiol_O64B0s",
        "outputId": "33b85f35-fbdf-44c1-bff3-d252d2618c90"
      },
      "execution_count": null,
      "outputs": [
        {
          "output_type": "stream",
          "name": "stdout",
          "text": [
            "Calling <function trace.<locals>.call at 0x7e86b9459000>((5, 7), {})\n",
            "Calling <function trace.<locals>.call at 0x7e86b9458820>((5, 7), {})\n",
            "Calling <function f1 at 0x7e86d1bf1cf0>((5, 7), {})\n",
            "12\n"
          ]
        }
      ]
    },
    {
      "cell_type": "code",
      "source": [
        "# Automagically\n",
        "\n",
        "@trace\n",
        "def f2(a, b):\n",
        "    return a * b\n",
        "\n",
        "print(f2(6, 7))"
      ],
      "metadata": {
        "colab": {
          "base_uri": "https://localhost:8080/"
        },
        "id": "cCH3dNOw4Gnt",
        "outputId": "b1331058-4d48-43ad-ae67-445d39f1cd87"
      },
      "execution_count": null,
      "outputs": [
        {
          "output_type": "stream",
          "name": "stdout",
          "text": [
            "Calling <function f2 at 0x7e869f8eff40>((6, 7), {})\n",
            "42\n"
          ]
        }
      ]
    },
    {
      "cell_type": "code",
      "source": [
        "@trace\n",
        "def sumall(a, b, *s):\n",
        "    total = a + b + sum(s)\n",
        "    return total\n",
        "\n",
        "print(sumall(3, 7))\n",
        "print(sumall(3, 13, 12))\n",
        "print(sumall(8, 3, 4, 5, 12))\n"
      ],
      "metadata": {
        "colab": {
          "base_uri": "https://localhost:8080/"
        },
        "id": "ZUIMJzqH4RXl",
        "outputId": "e65a96fa-9ef0-4867-ecd0-7121c1793e3d"
      },
      "execution_count": null,
      "outputs": [
        {
          "output_type": "stream",
          "name": "stdout",
          "text": [
            "Calling <function sumall at 0x7e869f914550>((3, 7), {})\n",
            "10\n",
            "Calling <function sumall at 0x7e869f914550>((3, 13, 12), {})\n",
            "28\n",
            "Calling <function sumall at 0x7e869f914550>((8, 3, 4, 5, 12), {})\n",
            "32\n"
          ]
        }
      ]
    },
    {
      "cell_type": "code",
      "source": [],
      "metadata": {
        "id": "eT40xOoc4ofY"
      },
      "execution_count": null,
      "outputs": []
    }
  ]
}