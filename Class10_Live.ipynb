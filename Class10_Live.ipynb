{
  "nbformat": 4,
  "nbformat_minor": 0,
  "metadata": {
    "colab": {
      "provenance": [],
      "authorship_tag": "ABX9TyOIuVq1kzgXtVjNW3V7TiPa",
      "include_colab_link": true
    },
    "kernelspec": {
      "name": "python3",
      "display_name": "Python 3"
    },
    "language_info": {
      "name": "python"
    }
  },
  "cells": [
    {
      "cell_type": "markdown",
      "metadata": {
        "id": "view-in-github",
        "colab_type": "text"
      },
      "source": [
        "<a href=\"https://colab.research.google.com/github/nleck001/CSC221/blob/main/Class10_Live.ipynb\" target=\"_parent\"><img src=\"https://colab.research.google.com/assets/colab-badge.svg\" alt=\"Open In Colab\"/></a>"
      ]
    },
    {
      "cell_type": "code",
      "execution_count": null,
      "metadata": {
        "id": "whuuvhtu-rmC"
      },
      "outputs": [],
      "source": [
        "# Class 10 Live 9/28/2013\n",
        "\n",
        "# Function varargs, II\n",
        "# import\n",
        "\n"
      ]
    },
    {
      "cell_type": "code",
      "source": [
        "def my_print(*args, verbose=False, countem=False):\n",
        "    if verbose:\n",
        "        print(f'print({args})')\n",
        "\n",
        "    count = 0\n",
        "    for arg in args:\n",
        "        count += 1\n",
        "        print(arg)\n",
        "\n",
        "    if countem:\n",
        "        print(f'count was {count} and {len(args)} was expected')\n",
        "\n",
        "a = [3, 4, 5]\n",
        "my_print(3,5,a,'ned')\n",
        "my_print(3,5.8,a,'ned',verbose=True, countem=True)"
      ],
      "metadata": {
        "colab": {
          "base_uri": "https://localhost:8080/"
        },
        "id": "of2b6xCrAxnN",
        "outputId": "100062b1-4cd9-4155-f968-70ab5c1b3a14"
      },
      "execution_count": null,
      "outputs": [
        {
          "output_type": "stream",
          "name": "stdout",
          "text": [
            "3\n",
            "5\n",
            "[3, 4, 5]\n",
            "ned\n",
            "print((3, 5.8, [3, 4, 5], 'ned'))\n",
            "3\n",
            "5.8\n",
            "[3, 4, 5]\n",
            "ned\n",
            "count was 4 and 4 was expected\n"
          ]
        }
      ]
    },
    {
      "cell_type": "code",
      "source": [
        "%%file my_print2.py\n",
        "def my_print2(*args, verbose=False,countem=False):\n",
        "    if verbose:\n",
        "        print(f'pppppppprint({args})')\n",
        "\n",
        "    count = 0\n",
        "    for arg in args:\n",
        "        count += 1\n",
        "        print(arg)\n",
        "\n",
        "    if countem:\n",
        "        print(f'count was {count} and {len(args)} was expected')\n",
        "\n",
        "a = [3, 4, 5]\n",
        "my_print2(3,5,a,'ned')\n",
        "my_print2(3,5.8,a,'ned',verbose=True, countem=True)"
      ],
      "metadata": {
        "colab": {
          "base_uri": "https://localhost:8080/"
        },
        "id": "n_gB_7ybBQWL",
        "outputId": "32cf0fb0-1c38-4433-dbf4-edcbd6b5e14c"
      },
      "execution_count": null,
      "outputs": [
        {
          "output_type": "stream",
          "name": "stdout",
          "text": [
            "Overwriting my_print2.py\n"
          ]
        }
      ]
    },
    {
      "cell_type": "code",
      "source": [
        "%%file ned.csv\n",
        "name, shoe size\n",
        "ned, 10\n",
        "jeff, 13\n",
        "anna, 7"
      ],
      "metadata": {
        "colab": {
          "base_uri": "https://localhost:8080/"
        },
        "id": "Ae9b-ps0Dslq",
        "outputId": "767e33ad-14ab-4ccd-d292-37c1e4f28a8c"
      },
      "execution_count": null,
      "outputs": [
        {
          "output_type": "stream",
          "name": "stdout",
          "text": [
            "Overwriting ned.csv\n"
          ]
        }
      ]
    },
    {
      "cell_type": "code",
      "source": [
        "import my_print2 as mp1\n",
        "\n"
      ],
      "metadata": {
        "id": "P-A1iXTfEG9J"
      },
      "execution_count": null,
      "outputs": []
    },
    {
      "cell_type": "code",
      "source": [
        "mp1.my_print2(1,2,3,verbose=True)"
      ],
      "metadata": {
        "colab": {
          "base_uri": "https://localhost:8080/"
        },
        "id": "7TAFbvhNEf3B",
        "outputId": "ec594cf7-b299-4b1e-fae3-6526b86c474a"
      },
      "execution_count": null,
      "outputs": [
        {
          "output_type": "stream",
          "name": "stdout",
          "text": [
            "pppppppprint((1, 2, 3))\n",
            "1\n",
            "2\n",
            "3\n"
          ]
        }
      ]
    },
    {
      "cell_type": "code",
      "source": [
        "print(type(my_print2))"
      ],
      "metadata": {
        "colab": {
          "base_uri": "https://localhost:8080/"
        },
        "id": "KZbhpzmPEr0Q",
        "outputId": "edec2a0d-e7ec-4663-df70-95fe502843bc"
      },
      "execution_count": null,
      "outputs": [
        {
          "output_type": "stream",
          "name": "stdout",
          "text": [
            "<class 'module'>\n"
          ]
        }
      ]
    },
    {
      "cell_type": "code",
      "source": [
        "dir(my_print2)"
      ],
      "metadata": {
        "colab": {
          "base_uri": "https://localhost:8080/"
        },
        "id": "tG9jKmGzF39q",
        "outputId": "a25fb050-dbdc-4f88-ec00-2e03bb20bac3"
      },
      "execution_count": null,
      "outputs": [
        {
          "output_type": "execute_result",
          "data": {
            "text/plain": [
              "['__builtins__',\n",
              " '__cached__',\n",
              " '__doc__',\n",
              " '__file__',\n",
              " '__loader__',\n",
              " '__name__',\n",
              " '__package__',\n",
              " '__spec__',\n",
              " 'a',\n",
              " 'my_print2']"
            ]
          },
          "metadata": {},
          "execution_count": 8
        }
      ]
    },
    {
      "cell_type": "code",
      "source": [
        "print(my_print2.a)"
      ],
      "metadata": {
        "colab": {
          "base_uri": "https://localhost:8080/"
        },
        "id": "HK-ab9RaGLP6",
        "outputId": "d3e5896f-8842-492b-b490-4d4f05135620"
      },
      "execution_count": null,
      "outputs": [
        {
          "output_type": "stream",
          "name": "stdout",
          "text": [
            "[3, 4, 5]\n"
          ]
        }
      ]
    },
    {
      "cell_type": "code",
      "source": [],
      "metadata": {
        "id": "ewRb1nAzGdZT"
      },
      "execution_count": null,
      "outputs": []
    }
  ]
}