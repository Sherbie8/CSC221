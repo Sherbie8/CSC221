{
  "cells": [
    {
      "cell_type": "markdown",
      "metadata": {
        "id": "view-in-github",
        "colab_type": "text"
      },
      "source": [
        "<a href=\"https://colab.research.google.com/github/nleck001/CSC221/blob/main/Class25_Map%2CFilter%2CReduce.ipynb\" target=\"_parent\"><img src=\"https://colab.research.google.com/assets/colab-badge.svg\" alt=\"Open In Colab\"/></a>"
      ]
    },
    {
      "cell_type": "code",
      "execution_count": null,
      "metadata": {
        "colab": {
          "base_uri": "https://localhost:8080/"
        },
        "id": "xk8kT7w-5Ffg",
        "outputId": "2e255a4d-7a74-4c6f-8f3b-abea9882f384"
      },
      "outputs": [
        {
          "name": "stdout",
          "output_type": "stream",
          "text": [
            "[0, 1, 4, 9, 16, 25, 36, 49, 64, 81, 100, 121, 144, 169, 196, 225, 256, 289, 324, 361, 400, 441, 484, 529, 576, 625, 676, 729, 784, 841, 900, 961, 1024, 1089, 1156, 1225, 1296, 1369, 1444, 1521]\n"
          ]
        }
      ],
      "source": [
        "# What is called mapping in other languages\n",
        "x = [x * x for x in range(40)]\n",
        "\n",
        "print(x)"
      ]
    },
    {
      "cell_type": "code",
      "execution_count": null,
      "metadata": {
        "colab": {
          "base_uri": "https://localhost:8080/"
        },
        "id": "yCf1yuUA6B5L",
        "outputId": "81423acc-5ae7-47be-be6b-233529c95876"
      },
      "outputs": [
        {
          "name": "stdout",
          "output_type": "stream",
          "text": [
            "[65, 125, 185, 245, 305, 365, 425, 485, 545, 605, 665, 725, 785, 845, 905, 965, 1025]\n"
          ]
        }
      ],
      "source": [
        "def myfunc(x):\n",
        "    return (x + 13) * 5\n",
        "\n",
        "# Adding filter\n",
        "x = [myfunc(x) for x in range(200) if x % 12 == 0]\n",
        "print(x)"
      ]
    },
    {
      "cell_type": "code",
      "execution_count": null,
      "metadata": {
        "colab": {
          "base_uri": "https://localhost:8080/"
        },
        "id": "Zx4MZziL6PKv",
        "outputId": "d1be0cf5-211e-424c-c034-c0af11d6f829"
      },
      "outputs": [
        {
          "name": "stdout",
          "output_type": "stream",
          "text": [
            "<generator object <genexpr> at 0x7934aa562f10>\n"
          ]
        }
      ],
      "source": [
        "# As a generator\n",
        "x_gen = (myfunc(x) for x in range(200) if x % 13 == 0)\n",
        "print(x_gen)"
      ]
    },
    {
      "cell_type": "code",
      "execution_count": null,
      "metadata": {
        "colab": {
          "base_uri": "https://localhost:8080/"
        },
        "id": "oGIt62wS6u2i",
        "outputId": "5858c625-c569-4d44-b2ca-ac218c130cd4"
      },
      "outputs": [
        {
          "name": "stdout",
          "output_type": "stream",
          "text": [
            "65\n",
            "130\n",
            "195\n",
            "260\n",
            "325\n",
            "390\n",
            "455\n",
            "520\n",
            "585\n",
            "650\n",
            "715\n",
            "780\n",
            "845\n",
            "910\n",
            "975\n",
            "1040\n"
          ]
        }
      ],
      "source": [
        "for x in x_gen:\n",
        "    print(x)"
      ]
    },
    {
      "cell_type": "code",
      "execution_count": null,
      "metadata": {
        "id": "Yc83Q_Ka64Jc"
      },
      "outputs": [],
      "source": [
        "# Why nothing now?\n",
        "for x in x_gen:\n",
        "    print(x)"
      ]
    },
    {
      "cell_type": "code",
      "execution_count": null,
      "metadata": {
        "colab": {
          "base_uri": "https://localhost:8080/"
        },
        "id": "s3VLNK7p6-1U",
        "outputId": "af6aa8b7-cd16-4f6e-b392-3b798040f72d"
      },
      "outputs": [
        {
          "name": "stdout",
          "output_type": "stream",
          "text": [
            "275\n"
          ]
        }
      ],
      "source": [
        "# Reduce\n",
        "\n",
        "a = [13, 27, 8, 9, 18, 200]\n",
        "\n",
        "print(sum(a))"
      ]
    },
    {
      "cell_type": "code",
      "execution_count": null,
      "metadata": {
        "colab": {
          "base_uri": "https://localhost:8080/"
        },
        "id": "Qazv630V7TTl",
        "outputId": "a33c0530-1a83-4f26-d61f-1dfc89cfb128"
      },
      "outputs": [
        {
          "name": "stdout",
          "output_type": "stream",
          "text": [
            "275\n"
          ]
        }
      ],
      "source": [
        "from functools import reduce\n",
        "print(reduce(lambda x, y: x + y, a))"
      ]
    },
    {
      "cell_type": "code",
      "execution_count": null,
      "metadata": {
        "colab": {
          "base_uri": "https://localhost:8080/"
        },
        "id": "WFXT1vez7fj_",
        "outputId": "ec97e76b-a87b-441d-bf99-d8fcf1aba3e4"
      },
      "outputs": [
        {
          "name": "stdout",
          "output_type": "stream",
          "text": [
            "<map object at 0x7934aa542f20>\n",
            "169\n",
            "729\n",
            "64\n",
            "81\n",
            "324\n",
            "40000\n"
          ]
        }
      ],
      "source": [
        "a_map = map(lambda x: x * x, a)\n",
        "print(a_map)\n",
        "for x in a_map:\n",
        "    print(x)"
      ]
    },
    {
      "cell_type": "code",
      "execution_count": null,
      "metadata": {
        "colab": {
          "base_uri": "https://localhost:8080/"
        },
        "id": "KusmNvCj73LB",
        "outputId": "0257efd6-e7d9-4418-c01d-a3917a804430"
      },
      "outputs": [
        {
          "name": "stdout",
          "output_type": "stream",
          "text": [
            "<filter object at 0x7934aa5436d0>\n",
            "13\n",
            "27\n",
            "8\n",
            "9\n",
            "18\n"
          ]
        }
      ],
      "source": [
        "a_filter = filter(lambda x: x < 40, a)\n",
        "print(a_filter)\n",
        "for x in a_filter:\n",
        "    print(x)"
      ]
    },
    {
      "cell_type": "code",
      "execution_count": null,
      "metadata": {
        "colab": {
          "base_uri": "https://localhost:8080/"
        },
        "id": "0FlczEfK8dTT",
        "outputId": "443251eb-c172-4fa8-9bd1-4e8ba7fd7f5a"
      },
      "outputs": [
        {
          "name": "stdout",
          "output_type": "stream",
          "text": [
            "What would you like me to do? (Type 'quit' to quit)13-8\n",
            "5\n",
            "What would you like me to do? (Type 'quit' to quit)[x*x for x in range(100)]\n",
            "[0, 1, 4, 9, 16, 25, 36, 49, 64, 81, 100, 121, 144, 169, 196, 225, 256, 289, 324, 361, 400, 441, 484, 529, 576, 625, 676, 729, 784, 841, 900, 961, 1024, 1089, 1156, 1225, 1296, 1369, 1444, 1521, 1600, 1681, 1764, 1849, 1936, 2025, 2116, 2209, 2304, 2401, 2500, 2601, 2704, 2809, 2916, 3025, 3136, 3249, 3364, 3481, 3600, 3721, 3844, 3969, 4096, 4225, 4356, 4489, 4624, 4761, 4900, 5041, 5184, 5329, 5476, 5625, 5776, 5929, 6084, 6241, 6400, 6561, 6724, 6889, 7056, 7225, 7396, 7569, 7744, 7921, 8100, 8281, 8464, 8649, 8836, 9025, 9216, 9409, 9604, 9801]\n",
            "What would you like me to do? (Type 'quit' to quit)quit\n"
          ]
        }
      ],
      "source": [
        "# exec for an easier calculator!!\n",
        "\n",
        "while True:\n",
        "    command = input(\"What would you like me to do? (Type 'quit' to quit)\")\n",
        "    if command == 'quit':\n",
        "        break\n",
        "\n",
        "    to_exec = f'print({command})'\n",
        "\n",
        "    try:\n",
        "        exec(to_exec)\n",
        "    except:\n",
        "        print('That failed.')"
      ]
    },
    {
      "cell_type": "code",
      "execution_count": null,
      "metadata": {
        "id": "ud7dEQ8b_RNe"
      },
      "outputs": [],
      "source": []
    }
  ],
  "metadata": {
    "colab": {
      "provenance": [],
      "authorship_tag": "ABX9TyPdlcaWHYmVe3awm4IfuBaH",
      "include_colab_link": true
    },
    "kernelspec": {
      "display_name": "Python 3",
      "name": "python3"
    },
    "language_info": {
      "name": "python"
    }
  },
  "nbformat": 4,
  "nbformat_minor": 0
}