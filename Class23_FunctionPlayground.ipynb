{
  "nbformat": 4,
  "nbformat_minor": 0,
  "metadata": {
    "colab": {
      "provenance": [],
      "authorship_tag": "ABX9TyMmhpEE64xfBwWN/T5DkFXZ",
      "include_colab_link": true
    },
    "kernelspec": {
      "name": "python3",
      "display_name": "Python 3"
    },
    "language_info": {
      "name": "python"
    }
  },
  "cells": [
    {
      "cell_type": "markdown",
      "metadata": {
        "id": "view-in-github",
        "colab_type": "text"
      },
      "source": [
        "<a href=\"https://colab.research.google.com/github/nleck001/CSC221/blob/main/Class23_FunctionPlayground.ipynb\" target=\"_parent\"><img src=\"https://colab.research.google.com/assets/colab-badge.svg\" alt=\"Open In Colab\"/></a>"
      ]
    },
    {
      "cell_type": "code",
      "execution_count": null,
      "metadata": {
        "colab": {
          "base_uri": "https://localhost:8080/"
        },
        "id": "RgCFILNpsyRg",
        "outputId": "804d3990-42ad-4098-f49e-e8feebdede12"
      },
      "outputs": [
        {
          "output_type": "stream",
          "name": "stdout",
          "text": [
            "Debug: fbase(a=5, b=6, debug=True)\n",
            "1:  11\n",
            "2:  11\n",
            "Debug: fbase(a=6, b=5, debug=True)\n",
            "3:  11\n"
          ]
        }
      ],
      "source": [
        "# Class23 Function Playground\n",
        "\n",
        "def fbase(a, b, debug=False):\n",
        "    if debug: print(f'Debug: fbase({a=}, {b=}, {debug=})')\n",
        "\n",
        "    return a + b\n",
        "\n",
        "print('1: ', fbase(5, 6, True))\n",
        "print('2: ', fbase(5, 6))\n",
        "print('3: ', fbase(b=5, a=6, debug=True))\n"
      ]
    },
    {
      "cell_type": "code",
      "source": [
        "def fmid(a, b, **kwargs):\n",
        "    if 'debug' in kwargs:\n",
        "        print(f\"fmid sees debug as {kwargs['debug']}!\")\n",
        "    return fbase(a+3, b+3, kwargs)\n",
        "\n",
        "print('1: ', fmid(5, 6))\n",
        "print('2: ', fmid(5, 6, debug=True))\n"
      ],
      "metadata": {
        "colab": {
          "base_uri": "https://localhost:8080/"
        },
        "id": "0PCowbJ1tMzu",
        "outputId": "79debfc3-1dcd-4a77-daa6-0f18e9acef64"
      },
      "execution_count": null,
      "outputs": [
        {
          "output_type": "stream",
          "name": "stdout",
          "text": [
            "1:  17\n",
            "fmid sees debug as True!\n",
            "Debug: fbase(a=8, b=9, debug={'debug': True})\n",
            "2:  17\n"
          ]
        }
      ]
    },
    {
      "cell_type": "code",
      "source": [
        "def ftop(a, b, **kwargs):\n",
        "    return fmid(a+5, b+7, **kwargs)\n",
        "\n",
        "print('1: ', ftop(5, 6))\n",
        "print('2: ', ftop(5, 6, debug=True, wombat='yupper'))\n"
      ],
      "metadata": {
        "colab": {
          "base_uri": "https://localhost:8080/"
        },
        "id": "FraaDwext3a_",
        "outputId": "65407de9-4cbf-48cb-8089-d4cb81b9cae8"
      },
      "execution_count": null,
      "outputs": [
        {
          "output_type": "stream",
          "name": "stdout",
          "text": [
            "1:  29\n",
            "fmid sees debug as True!\n",
            "Debug: fbase(a=13, b=16, debug={'debug': True, 'wombat': 'yupper'})\n",
            "2:  29\n"
          ]
        }
      ]
    },
    {
      "cell_type": "code",
      "source": [
        "import random\n",
        "a = [random.randint(1,100) for i in range(10)]\n",
        "print(a)"
      ],
      "metadata": {
        "colab": {
          "base_uri": "https://localhost:8080/"
        },
        "id": "OA8oMlFIuXVU",
        "outputId": "e59590a0-ea73-4899-ed0c-182834945d30"
      },
      "execution_count": null,
      "outputs": [
        {
          "output_type": "stream",
          "name": "stdout",
          "text": [
            "[96, 38, 80, 85, 47, 93, 63, 39, 12, 29]\n"
          ]
        }
      ]
    },
    {
      "cell_type": "code",
      "source": [
        "print(sum(a))\n",
        "print(sorted(a))\n",
        "print(a)"
      ],
      "metadata": {
        "colab": {
          "base_uri": "https://localhost:8080/"
        },
        "id": "bRHgS00RwVye",
        "outputId": "eba24127-9541-4d1a-ee73-695d2c9b7ff6"
      },
      "execution_count": null,
      "outputs": [
        {
          "output_type": "stream",
          "name": "stdout",
          "text": [
            "582\n",
            "[12, 29, 38, 39, 47, 63, 80, 85, 93, 96]\n",
            "[96, 38, 80, 85, 47, 93, 63, 39, 12, 29]\n"
          ]
        }
      ]
    },
    {
      "cell_type": "code",
      "source": [
        "f = sum\n",
        "print(f(a))\n",
        "f = sorted\n",
        "print(f(a))"
      ],
      "metadata": {
        "colab": {
          "base_uri": "https://localhost:8080/"
        },
        "id": "c2cMQ48bw0UZ",
        "outputId": "494e58ee-e372-40df-916a-415745ad219c"
      },
      "execution_count": null,
      "outputs": [
        {
          "output_type": "stream",
          "name": "stdout",
          "text": [
            "582\n",
            "[12, 29, 38, 39, 47, 63, 80, 85, 93, 96]\n"
          ]
        }
      ]
    },
    {
      "cell_type": "code",
      "source": [
        "def adding(a: int, b: int) -> int:\n",
        "    return a + b\n",
        "\n",
        "print(adding(13,5))\n",
        "print(adding('ned', 'fred'))\n",
        "\n"
      ],
      "metadata": {
        "colab": {
          "base_uri": "https://localhost:8080/"
        },
        "id": "BHYvU6xNw_NK",
        "outputId": "c33256da-6145-4201-b969-94d2f6ac0266"
      },
      "execution_count": null,
      "outputs": [
        {
          "output_type": "stream",
          "name": "stdout",
          "text": [
            "18\n",
            "nedfred\n"
          ]
        }
      ]
    },
    {
      "cell_type": "code",
      "source": [
        "a=3\n",
        "b=4\n"
      ],
      "metadata": {
        "id": "AauxhGXCxg1M"
      },
      "execution_count": null,
      "outputs": []
    },
    {
      "cell_type": "code",
      "source": [
        "# problem 1\n",
        "# sdiugsafdjgasd"
      ],
      "metadata": {
        "id": "y4XT7__30TnD"
      },
      "execution_count": null,
      "outputs": []
    }
  ]
}