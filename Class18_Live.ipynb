{
  "nbformat": 4,
  "nbformat_minor": 0,
  "metadata": {
    "colab": {
      "provenance": [],
      "authorship_tag": "ABX9TyNrQ3qNnT3xnohSReyiKDQ2",
      "include_colab_link": true
    },
    "kernelspec": {
      "name": "python3",
      "display_name": "Python 3"
    },
    "language_info": {
      "name": "python"
    }
  },
  "cells": [
    {
      "cell_type": "markdown",
      "metadata": {
        "id": "view-in-github",
        "colab_type": "text"
      },
      "source": [
        "<a href=\"https://colab.research.google.com/github/nleck001/CSC221/blob/main/Class18_Live.ipynb\" target=\"_parent\"><img src=\"https://colab.research.google.com/assets/colab-badge.svg\" alt=\"Open In Colab\"/></a>"
      ]
    },
    {
      "cell_type": "code",
      "execution_count": null,
      "metadata": {
        "colab": {
          "base_uri": "https://localhost:8080/"
        },
        "id": "04DAI__n52Hg",
        "outputId": "9034c033-901e-44cc-a4e9-6aeaf78d9e42"
      },
      "outputs": [
        {
          "output_type": "stream",
          "name": "stdout",
          "text": [
            "13\n"
          ]
        }
      ],
      "source": [
        "# Class 18 Live\n",
        "# 10/31/2023\n",
        "# Working through Ch. 2 Distilled\n",
        "\n",
        "a = 0b1101\n",
        "print(a)"
      ]
    },
    {
      "cell_type": "code",
      "source": [
        "b = 0x128\n",
        "print(b)"
      ],
      "metadata": {
        "colab": {
          "base_uri": "https://localhost:8080/"
        },
        "id": "SuOdFh7z_AFH",
        "outputId": "efcfceee-8985-48c9-ab61-4eca62fac1f3"
      },
      "execution_count": null,
      "outputs": [
        {
          "output_type": "stream",
          "name": "stdout",
          "text": [
            "296\n"
          ]
        }
      ]
    },
    {
      "cell_type": "code",
      "source": [
        "print(hex(b))"
      ],
      "metadata": {
        "colab": {
          "base_uri": "https://localhost:8080/"
        },
        "id": "R8FKr0_t_Lg1",
        "outputId": "7b802a2f-6447-4dec-bd89-99df53b90b94"
      },
      "execution_count": null,
      "outputs": [
        {
          "output_type": "stream",
          "name": "stdout",
          "text": [
            "0x128\n"
          ]
        }
      ]
    },
    {
      "cell_type": "code",
      "source": [
        "print(bin(b))"
      ],
      "metadata": {
        "colab": {
          "base_uri": "https://localhost:8080/"
        },
        "id": "T09-yzCt_Z2K",
        "outputId": "b04eb0a3-e7fe-41cb-9441-49a505cda8f6"
      },
      "execution_count": null,
      "outputs": [
        {
          "output_type": "stream",
          "name": "stdout",
          "text": [
            "0b100101000\n"
          ]
        }
      ]
    },
    {
      "cell_type": "code",
      "source": [
        "x = 314e-2\n",
        "print(x)"
      ],
      "metadata": {
        "colab": {
          "base_uri": "https://localhost:8080/"
        },
        "id": "6pNNERZD_eG9",
        "outputId": "51fedc53-82b3-4bb6-c370-04be26e6ad24"
      },
      "execution_count": null,
      "outputs": [
        {
          "output_type": "stream",
          "name": "stdout",
          "text": [
            "3.14\n"
          ]
        }
      ]
    },
    {
      "cell_type": "code",
      "source": [
        "num = 12.34567\n",
        "\n",
        "print(f'{num:0.3f}')"
      ],
      "metadata": {
        "colab": {
          "base_uri": "https://localhost:8080/"
        },
        "id": "BX-Qf0_SAAgH",
        "outputId": "e5c6335a-6918-4114-e746-f09a44a6719b"
      },
      "execution_count": null,
      "outputs": [
        {
          "output_type": "stream",
          "name": "stdout",
          "text": [
            "12.346\n"
          ]
        }
      ]
    },
    {
      "cell_type": "code",
      "source": [
        "xy = 123_45_9999\n",
        "print(xy)"
      ],
      "metadata": {
        "colab": {
          "base_uri": "https://localhost:8080/"
        },
        "id": "lqcgfAE3AKa3",
        "outputId": "b49f4d3a-28b5-4f43-c033-663ce217791c"
      },
      "execution_count": null,
      "outputs": [
        {
          "output_type": "stream",
          "name": "stdout",
          "text": [
            "123459999\n"
          ]
        }
      ]
    },
    {
      "cell_type": "code",
      "source": [
        "import math\n",
        "abc = 3 + 4 + math.sqrt(6 + 7)"
      ],
      "metadata": {
        "id": "xcaU87WDA3Vr"
      },
      "execution_count": null,
      "outputs": []
    },
    {
      "cell_type": "code",
      "source": [
        "print(abc)\n"
      ],
      "metadata": {
        "colab": {
          "base_uri": "https://localhost:8080/"
        },
        "id": "7bZXj_pZCgUd",
        "outputId": "189edd6e-9bfc-446f-8ccd-3d8d08bc234c"
      },
      "execution_count": null,
      "outputs": [
        {
          "output_type": "stream",
          "name": "stdout",
          "text": [
            "10.60555127546399\n"
          ]
        }
      ]
    },
    {
      "cell_type": "code",
      "source": [
        "type(abc)"
      ],
      "metadata": {
        "colab": {
          "base_uri": "https://localhost:8080/"
        },
        "id": "aUKGeR90Cik0",
        "outputId": "8c877d29-3e47-4014-c970-d82c1e0906b6"
      },
      "execution_count": null,
      "outputs": [
        {
          "output_type": "execute_result",
          "data": {
            "text/plain": [
              "float"
            ]
          },
          "metadata": {},
          "execution_count": 21
        }
      ]
    },
    {
      "cell_type": "code",
      "source": [
        "a = 3 + 5\n",
        "print(a)"
      ],
      "metadata": {
        "colab": {
          "base_uri": "https://localhost:8080/"
        },
        "id": "PAEfR1RPCr4N",
        "outputId": "48c3d035-b931-4de3-eb65-8c5bc37f6839"
      },
      "execution_count": null,
      "outputs": [
        {
          "output_type": "stream",
          "name": "stdout",
          "text": [
            "8\n"
          ]
        }
      ]
    },
    {
      "cell_type": "code",
      "source": [
        "b = a = 3 + 5\n"
      ],
      "metadata": {
        "id": "yd1RcqflDPh0"
      },
      "execution_count": null,
      "outputs": []
    },
    {
      "cell_type": "code",
      "source": [
        "print(b)\n"
      ],
      "metadata": {
        "colab": {
          "base_uri": "https://localhost:8080/"
        },
        "id": "Eu_lkhtjDRe0",
        "outputId": "6590710d-fdb5-4b2a-f7f1-9633e5cdaa54"
      },
      "execution_count": null,
      "outputs": [
        {
          "output_type": "stream",
          "name": "stdout",
          "text": [
            "8\n"
          ]
        }
      ]
    },
    {
      "cell_type": "code",
      "source": [
        "print(a)"
      ],
      "metadata": {
        "colab": {
          "base_uri": "https://localhost:8080/"
        },
        "id": "1QDH2s2fDTaE",
        "outputId": "70d55fd3-02ec-4ae9-d298-71bedf857f0d"
      },
      "execution_count": null,
      "outputs": [
        {
          "output_type": "stream",
          "name": "stdout",
          "text": [
            "8\n"
          ]
        }
      ]
    },
    {
      "cell_type": "code",
      "source": [
        "if (a := 5 + (jj := 6)) == 11:\n",
        "    print(f'yup a = {a}')\n",
        "\n",
        "print(jj)"
      ],
      "metadata": {
        "colab": {
          "base_uri": "https://localhost:8080/"
        },
        "id": "yWemqCopDU75",
        "outputId": "770f2fbb-1956-47d3-9530-42aaaa756f44"
      },
      "execution_count": null,
      "outputs": [
        {
          "output_type": "stream",
          "name": "stdout",
          "text": [
            "yup a = 11\n",
            "6\n"
          ]
        }
      ]
    },
    {
      "cell_type": "code",
      "source": [
        "b1 = 0b11100110\n",
        "print(bin(b1))\n",
        "\n",
        "# Just bit 3 is on\n",
        "mask = 0b0001000\n",
        "\n",
        "b1 = b1 | mask\n",
        "print(bin(b1))"
      ],
      "metadata": {
        "colab": {
          "base_uri": "https://localhost:8080/"
        },
        "id": "q0mErh4XDtIA",
        "outputId": "6b74f63e-a6bd-4b89-d9a7-7f45a3023cf9"
      },
      "execution_count": null,
      "outputs": [
        {
          "output_type": "stream",
          "name": "stdout",
          "text": [
            "0b11100110\n",
            "0b11101110\n"
          ]
        }
      ]
    },
    {
      "cell_type": "code",
      "source": [
        "class ShowMe:\n",
        "    def __init__(self, value):\n",
        "        self.value = value\n",
        "    def __repr__(self):\n",
        "        return '__repr__ says ' + str(self.value)\n",
        "    def __add__(self, other):\n",
        "        print(\"Wpoah! You're adding a Showme!\")\n",
        "        return ShowMe(self.value * other.value)\n",
        "\n",
        "s1 = ShowMe(6)\n",
        "s2 = ShowMe(12)\n",
        "\n",
        "print(s1)\n",
        "print(s2)\n",
        "\n",
        "s3 = s1 + s2\n",
        "print(s3)"
      ],
      "metadata": {
        "colab": {
          "base_uri": "https://localhost:8080/"
        },
        "id": "Cg_yZAGGEkRJ",
        "outputId": "e79d3781-0a94-4eb4-f0ce-571bdef990c4"
      },
      "execution_count": null,
      "outputs": [
        {
          "output_type": "stream",
          "name": "stdout",
          "text": [
            "__repr__ says 6\n",
            "__repr__ says 12\n",
            "Wpoah! You're adding a Showme!\n",
            "__repr__ says 72\n"
          ]
        }
      ]
    },
    {
      "cell_type": "code",
      "source": [
        "a = [1, 2, 3]\n",
        "b = [1, 2, 3]\n",
        "print(a == b)\n",
        "print(a is b)"
      ],
      "metadata": {
        "colab": {
          "base_uri": "https://localhost:8080/"
        },
        "id": "mQOylhouF9fv",
        "outputId": "6c60d475-69d1-453a-ea3b-ab4de0836002"
      },
      "execution_count": null,
      "outputs": [
        {
          "output_type": "stream",
          "name": "stdout",
          "text": [
            "True\n",
            "False\n"
          ]
        }
      ]
    },
    {
      "cell_type": "code",
      "source": [
        "a[1] = 99\n",
        "print(a)\n",
        "print(b)"
      ],
      "metadata": {
        "colab": {
          "base_uri": "https://localhost:8080/"
        },
        "id": "6u8UQb_8H-8-",
        "outputId": "b464c1ee-3f2a-41a3-dfb1-5730a718e2d0"
      },
      "execution_count": null,
      "outputs": [
        {
          "output_type": "stream",
          "name": "stdout",
          "text": [
            "[1, 99, 3]\n",
            "[1, 2, 3]\n"
          ]
        }
      ]
    },
    {
      "cell_type": "code",
      "source": [
        "a = [1, 2, 3]\n",
        "b = a[:]\n",
        "print(a == b)\n",
        "print(a is b)"
      ],
      "metadata": {
        "colab": {
          "base_uri": "https://localhost:8080/"
        },
        "id": "DPcQee0WIMVY",
        "outputId": "0f2280a6-cbda-4564-fc66-6d56462faf77"
      },
      "execution_count": null,
      "outputs": [
        {
          "output_type": "stream",
          "name": "stdout",
          "text": [
            "True\n",
            "False\n"
          ]
        }
      ]
    },
    {
      "cell_type": "code",
      "source": [
        "a[1] = 99\n",
        "print(a)\n",
        "print(b)"
      ],
      "metadata": {
        "colab": {
          "base_uri": "https://localhost:8080/"
        },
        "id": "LywAYTy0ITYR",
        "outputId": "d19c6191-d7a1-4068-e9ed-fe110feb67e5"
      },
      "execution_count": null,
      "outputs": [
        {
          "output_type": "stream",
          "name": "stdout",
          "text": [
            "[1, 99, 3]\n",
            "[1, 2, 3]\n"
          ]
        }
      ]
    },
    {
      "cell_type": "code",
      "source": [
        "def mytry(x):\n",
        "    print(f'mytry({x})')\n",
        "    return x\n",
        "\n",
        "if mytry(12) == 12 and mytry(13) == 13:\n",
        "    print('yup')\n",
        "\n",
        "\n"
      ],
      "metadata": {
        "colab": {
          "base_uri": "https://localhost:8080/"
        },
        "id": "WHFvFuCoIbSM",
        "outputId": "54269bc0-f952-4b41-c294-bc2ab648c030"
      },
      "execution_count": null,
      "outputs": [
        {
          "output_type": "stream",
          "name": "stdout",
          "text": [
            "mytry(12)\n",
            "mytry(13)\n",
            "yup\n"
          ]
        }
      ]
    },
    {
      "cell_type": "code",
      "source": [
        "mylist = [1, 2, 'ned', 'fred', 3, 4]\n",
        "\n",
        "a, *b, d, e = mylist\n",
        "\n",
        "print(a, b, d, e)"
      ],
      "metadata": {
        "colab": {
          "base_uri": "https://localhost:8080/"
        },
        "id": "Obnw3dh7JZ9L",
        "outputId": "97104601-c5f2-4d3a-9482-fd6b9ab9cd9c"
      },
      "execution_count": null,
      "outputs": [
        {
          "output_type": "stream",
          "name": "stdout",
          "text": [
            "1 [2, 'ned', 'fred'] 3 4\n"
          ]
        }
      ]
    },
    {
      "cell_type": "code",
      "source": [
        "set1 = {13, 21, 8, 13, 8, 8, 8, 102, 'fred', 'chainsaw'}\n",
        "print(set1)"
      ],
      "metadata": {
        "colab": {
          "base_uri": "https://localhost:8080/"
        },
        "id": "WggeBgAgKjPg",
        "outputId": "dd482520-5f81-4fd1-b1c9-b034d0a6e692"
      },
      "execution_count": null,
      "outputs": [
        {
          "output_type": "stream",
          "name": "stdout",
          "text": [
            "{'chainsaw', 102, 21, 8, 13, 'fred'}\n"
          ]
        }
      ]
    },
    {
      "cell_type": "code",
      "source": [
        "s1, *s2, s3 = set1\n",
        "print(s1)\n",
        "print(s2)\n",
        "print(s3)"
      ],
      "metadata": {
        "colab": {
          "base_uri": "https://localhost:8080/"
        },
        "id": "qgGYPJqcLo22",
        "outputId": "6c17baec-1c6f-4d65-aaeb-488965f31b6f"
      },
      "execution_count": null,
      "outputs": [
        {
          "output_type": "stream",
          "name": "stdout",
          "text": [
            "chainsaw\n",
            "[102, 21, 8, 13]\n",
            "fred\n"
          ]
        }
      ]
    },
    {
      "cell_type": "code",
      "source": [
        "f, s, *_, l = set1\n",
        "print(f, s, l)\n",
        "\n",
        "print(_)"
      ],
      "metadata": {
        "colab": {
          "base_uri": "https://localhost:8080/"
        },
        "id": "-dnTHQ6KL3xf",
        "outputId": "a4239c33-79d0-41f6-da2b-724acee7e62d"
      },
      "execution_count": null,
      "outputs": [
        {
          "output_type": "stream",
          "name": "stdout",
          "text": [
            "chainsaw 102 fred\n",
            "[21, 8, 13]\n"
          ]
        }
      ]
    },
    {
      "cell_type": "code",
      "source": [],
      "metadata": {
        "id": "e1MBAs0KMJXO"
      },
      "execution_count": null,
      "outputs": []
    }
  ]
}