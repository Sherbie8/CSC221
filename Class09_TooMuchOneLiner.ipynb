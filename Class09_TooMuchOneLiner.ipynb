{
  "nbformat": 4,
  "nbformat_minor": 0,
  "metadata": {
    "colab": {
      "provenance": [],
      "authorship_tag": "ABX9TyNO/cBkdJVH59wmgeUDIHbf",
      "include_colab_link": true
    },
    "kernelspec": {
      "name": "python3",
      "display_name": "Python 3"
    },
    "language_info": {
      "name": "python"
    }
  },
  "cells": [
    {
      "cell_type": "markdown",
      "metadata": {
        "id": "view-in-github",
        "colab_type": "text"
      },
      "source": [
        "<a href=\"https://colab.research.google.com/github/nleck001/CSC221/blob/main/Class09_TooMuchOneLiner.ipynb\" target=\"_parent\"><img src=\"https://colab.research.google.com/assets/colab-badge.svg\" alt=\"Open In Colab\"/></a>"
      ]
    },
    {
      "cell_type": "code",
      "execution_count": null,
      "metadata": {
        "colab": {
          "base_uri": "https://localhost:8080/"
        },
        "id": "fnUZhNQe3Hib",
        "outputId": "30b79827-6209-410e-97c6-d3d0417baa9f"
      },
      "outputs": [
        {
          "output_type": "stream",
          "name": "stdout",
          "text": [
            "21 13 57 6 -5 222\n",
            "['21', '13', '57', '6', '-5', '222']\n",
            "[21, 13, 57, 6, -5, 222]\n"
          ]
        }
      ],
      "source": [
        "#user_input = input('Type the numbers with spaces in between: ')\n",
        "user_input = '21 13 57 6 -5 222'\n",
        "print(user_input)\n",
        "\n",
        "user_list = user_input.split()\n",
        "print(user_list)\n",
        "\n",
        "for i in range(len(user_list)):\n",
        "    user_list[i] = int(user_list[i])\n",
        "\n",
        "print(user_list)\n",
        "\n",
        "\n",
        "\n"
      ]
    },
    {
      "cell_type": "code",
      "source": [
        "#user_input = input('Type the numbers with spaces in between: ')\n",
        "user_input = '21 13 57 6 -5 222'\n",
        "print(user_input)\n",
        "\n",
        "user_list = user_input.split()\n",
        "print(user_list)\n",
        "\n",
        "user_ints = [int(x) for x in user_list]\n",
        "\n",
        "print(user_ints)\n"
      ],
      "metadata": {
        "colab": {
          "base_uri": "https://localhost:8080/"
        },
        "id": "3b_rcmLA3LbV",
        "outputId": "d6acb77f-26c1-4baf-9a39-796c63eb8d6d"
      },
      "execution_count": null,
      "outputs": [
        {
          "output_type": "stream",
          "name": "stdout",
          "text": [
            "21 13 57 6 -5 222\n",
            "['21', '13', '57', '6', '-5', '222']\n",
            "[21, 13, 57, 6, -5, 222]\n"
          ]
        }
      ]
    },
    {
      "cell_type": "code",
      "source": [
        "user_ints = [int(x) for x in input('Type the numbers with spaces in between: ').split()]\n",
        "print(user_ints)\n"
      ],
      "metadata": {
        "colab": {
          "base_uri": "https://localhost:8080/"
        },
        "id": "ZMskW5Q0462k",
        "outputId": "b41a17a0-5409-4b25-d9db-a2e4e174fd8d"
      },
      "execution_count": null,
      "outputs": [
        {
          "output_type": "stream",
          "name": "stdout",
          "text": [
            "Type the numbers with spaces in between: 400 50 60 123\n",
            "[400, 50, 60, 123]\n"
          ]
        }
      ]
    },
    {
      "cell_type": "code",
      "source": [
        "def input_int_list(prompt = None):\n",
        "    if prompt:\n",
        "        print(f'Entering integer list: {prompt}')\n",
        "\n",
        "    input_complete = False\n",
        "    while not input_complete:\n",
        "        try:\n",
        "            user_ints = [int(x) for x in input('Type the numbers with spaces in between: ').split()]\n",
        "            input_complete = True\n",
        "        except:\n",
        "            print('Illegal input. Try again!')\n",
        "\n",
        "    return user_ints\n",
        "\n",
        "x = input_int_list()\n",
        "print(x)\n",
        "\n",
        "x = input_int_list('Second list')\n",
        "print(x)\n"
      ],
      "metadata": {
        "colab": {
          "base_uri": "https://localhost:8080/"
        },
        "id": "WteBbbuo5GHs",
        "outputId": "5d4b0331-0057-4cef-e125-e4e055da4fb0"
      },
      "execution_count": 1,
      "outputs": [
        {
          "output_type": "stream",
          "name": "stdout",
          "text": [
            "Type the numbers with spaces in between: 12 13 14\n",
            "[12, 13, 14]\n",
            "Entering integer list: Second list\n",
            "Type the numbers with spaces in between: 12 13 rr\n",
            "Illegal input. Try again!\n",
            "Type the numbers with spaces in between: 12 13 rr\n",
            "Illegal input. Try again!\n",
            "Type the numbers with spaces in between: 12\n",
            "[12]\n"
          ]
        }
      ]
    },
    {
      "cell_type": "code",
      "source": [
        "# List Comp\n",
        "x = [3 * x + 5 for x in [12, 13, 8, -9]]\n",
        "print(x)"
      ],
      "metadata": {
        "id": "mt-clmVa6RaP",
        "colab": {
          "base_uri": "https://localhost:8080/"
        },
        "outputId": "c5e5bc49-54c4-4654-c1f8-881e89d6f46c"
      },
      "execution_count": 3,
      "outputs": [
        {
          "output_type": "stream",
          "name": "stdout",
          "text": [
            "[41, 44, 29, -22]\n"
          ]
        }
      ]
    },
    {
      "cell_type": "code",
      "source": [],
      "metadata": {
        "id": "gv4-fhjSVTMs"
      },
      "execution_count": null,
      "outputs": []
    }
  ]
}