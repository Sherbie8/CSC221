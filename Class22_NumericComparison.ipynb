{
  "nbformat": 4,
  "nbformat_minor": 0,
  "metadata": {
    "colab": {
      "provenance": [],
      "authorship_tag": "ABX9TyOk8fpgQNMYGlVyM5wJDMfG",
      "include_colab_link": true
    },
    "kernelspec": {
      "name": "python3",
      "display_name": "Python 3"
    },
    "language_info": {
      "name": "python"
    }
  },
  "cells": [
    {
      "cell_type": "markdown",
      "metadata": {
        "id": "view-in-github",
        "colab_type": "text"
      },
      "source": [
        "<a href=\"https://colab.research.google.com/github/nleck001/CSC221/blob/main/Class22_NumericComparison.ipynb\" target=\"_parent\"><img src=\"https://colab.research.google.com/assets/colab-badge.svg\" alt=\"Open In Colab\"/></a>"
      ]
    },
    {
      "cell_type": "code",
      "execution_count": null,
      "metadata": {
        "colab": {
          "base_uri": "https://localhost:8080/"
        },
        "id": "7H43BC8SiWGv",
        "outputId": "f585efd5-b696-4c51-9cb9-d914c6ee86ef"
      },
      "outputs": [
        {
          "output_type": "stream",
          "name": "stdout",
          "text": [
            "I'm worth $0.05\n"
          ]
        }
      ],
      "source": [
        "class Money:\n",
        "    def __init__(self, value):\n",
        "        self.value = value\n",
        "    def __repr__(self):\n",
        "        return f\"I'm worth ${self.value:0.2f}\"\n",
        "\n",
        "m1 = Money(0.05)\n",
        "print(m1)"
      ]
    },
    {
      "cell_type": "code",
      "source": [
        "m1 = Money(0.25)\n",
        "m2 = Money(.05)\n",
        "m3 = Money(.01)\n",
        "m4 = Money(1.00)\n",
        "wallet = [m1, m2, m3, m4]\n",
        "print(wallet)\n",
        "#wallet.sort()\n",
        "#print(wallet)\n",
        "#print(sum(wallet))"
      ],
      "metadata": {
        "colab": {
          "base_uri": "https://localhost:8080/"
        },
        "id": "mvq_HzCYiqCY",
        "outputId": "30173a50-6e92-4185-968c-84f1dd39702f"
      },
      "execution_count": null,
      "outputs": [
        {
          "output_type": "stream",
          "name": "stdout",
          "text": [
            "[I'm worth $0.25, I'm worth $0.05, I'm worth $0.01, I'm worth $1.00]\n"
          ]
        }
      ]
    },
    {
      "cell_type": "code",
      "source": [
        "class SortableMoney(Money):\n",
        "    def __lt__(self, other):\n",
        "        return self.value < other.value\n",
        "\n",
        "m1 = SortableMoney(0.25)\n",
        "m2 = SortableMoney(.05)\n",
        "m3 = SortableMoney(.01)\n",
        "m4 = SortableMoney(1.00)\n",
        "wallet = [m1, m2, m3, m4]\n",
        "print(wallet)\n",
        "wallet.sort()\n",
        "print(wallet)\n",
        "#print(sum(wallet))"
      ],
      "metadata": {
        "colab": {
          "base_uri": "https://localhost:8080/"
        },
        "id": "-EUFDYtKiznW",
        "outputId": "eefe6636-e4b5-4a76-9c1f-a93dd27f809f"
      },
      "execution_count": null,
      "outputs": [
        {
          "output_type": "stream",
          "name": "stdout",
          "text": [
            "[I'm worth $0.25, I'm worth $0.05, I'm worth $0.01, I'm worth $1.00]\n",
            "[I'm worth $0.01, I'm worth $0.05, I'm worth $0.25, I'm worth $1.00]\n"
          ]
        }
      ]
    },
    {
      "cell_type": "code",
      "source": [
        "class SummableMoney(SortableMoney):\n",
        "    def __add__(self, other):\n",
        "        return self.value + other.value\n",
        "    def __radd__(self, other):\n",
        "        return self.value + other\n",
        "\n",
        "m1 = SummableMoney(0.25)\n",
        "m2 = SummableMoney(.05)\n",
        "print(m1 + m2)\n",
        "m3 = SummableMoney(.01)\n",
        "m4 = SummableMoney(1.00)\n",
        "wallet = [m1, m2, m3, m4]\n",
        "print(wallet)\n",
        "wallet.sort()\n",
        "print(wallet)\n",
        "print(sum(wallet))"
      ],
      "metadata": {
        "colab": {
          "base_uri": "https://localhost:8080/"
        },
        "id": "prWixPfLkQA9",
        "outputId": "13d64949-d73b-4312-eaf6-6b850337b621"
      },
      "execution_count": null,
      "outputs": [
        {
          "output_type": "stream",
          "name": "stdout",
          "text": [
            "0.3\n",
            "[I'm worth $0.25, I'm worth $0.05, I'm worth $0.01, I'm worth $1.00]\n",
            "[I'm worth $0.01, I'm worth $0.05, I'm worth $0.25, I'm worth $1.00]\n",
            "1.31\n"
          ]
        }
      ]
    },
    {
      "cell_type": "code",
      "source": [
        "# Cleaner NewMoney\n",
        "class Money:\n",
        "    def __init__(self, value):\n",
        "        self.value = value\n",
        "    def __repr__(self):\n",
        "        return f\"${self.value:0.2f}\"\n",
        "    def __lt__(self, other):\n",
        "        return self.value < other.value\n",
        "    def __add__(self, other):\n",
        "        print(\"__add__\", self, other)\n",
        "        return self.value + other.value\n",
        "    def __radd__(self, other):\n",
        "        print(\"__radd__\", self, other)\n",
        "        return self.value + other\n"
      ],
      "metadata": {
        "id": "vNclwYLulV0M"
      },
      "execution_count": null,
      "outputs": []
    },
    {
      "cell_type": "code",
      "source": [
        "m1 = Money(0.25)\n",
        "m2 = Money(.05)\n",
        "print(m1 + m2)\n",
        "m3 = Money(.01)\n",
        "m4 = Money(1.00)\n",
        "wallet = [m1, m2, m3, m4]\n",
        "print(wallet)\n",
        "wallet.sort()\n",
        "print(wallet)\n",
        "print(sum(wallet))"
      ],
      "metadata": {
        "colab": {
          "base_uri": "https://localhost:8080/"
        },
        "id": "V68m34lYm9dK",
        "outputId": "5b4c52b3-28ea-4ffd-b24f-5ec0b8602d3e"
      },
      "execution_count": null,
      "outputs": [
        {
          "output_type": "stream",
          "name": "stdout",
          "text": [
            "__add__ $0.25 $0.05\n",
            "0.3\n",
            "[$0.25, $0.05, $0.01, $1.00]\n",
            "[$0.01, $0.05, $0.25, $1.00]\n",
            "__radd__ $0.01 0\n",
            "__radd__ $0.05 0.01\n",
            "__radd__ $0.25 0.060000000000000005\n",
            "__radd__ $1.00 0.31\n",
            "1.31\n"
          ]
        }
      ]
    },
    {
      "cell_type": "code",
      "source": [
        "# Start of Bills and Coins\n",
        "class Coin(Money):\n",
        "    pass\n",
        "class Penny(Coin):\n",
        "    def __init__(self):\n",
        "        super().__init__(0.01)\n",
        "\n",
        "class Bill(Money):\n",
        "    pass\n",
        "class Five(Bill):\n",
        "    def __init__(self):\n",
        "        super().__init__(5)\n",
        "\n",
        "wallet = [Penny(), Five(), Money(0.25)]\n",
        "print(wallet)\n",
        "wallet.sort()\n",
        "print(wallet)\n",
        "print(sum(wallet))\n"
      ],
      "metadata": {
        "colab": {
          "base_uri": "https://localhost:8080/"
        },
        "id": "4GMz9KNFnDwy",
        "outputId": "3ed5c02e-f444-4210-9b70-68e6d6055bd2"
      },
      "execution_count": null,
      "outputs": [
        {
          "output_type": "stream",
          "name": "stdout",
          "text": [
            "[$0.01, $5.00, $0.25]\n",
            "[$0.01, $0.25, $5.00]\n",
            "__radd__ $0.01 0\n",
            "__radd__ $0.25 0.01\n",
            "__radd__ $5.00 0.26\n",
            "5.26\n"
          ]
        }
      ]
    },
    {
      "cell_type": "code",
      "source": [
        "# Debug print Bills and Coins\n",
        "class Money:\n",
        "    def __init__(self, value, debug=False):\n",
        "        self.value = value\n",
        "        self.debug = debug\n",
        "        if debug:\n",
        "            print(f'__init__ {self}')\n",
        "    def __repr__(self):\n",
        "        return f\"${self.value:0.2f}\"\n",
        "    def __lt__(self, other):\n",
        "        return self.value < other.value\n",
        "    def __add__(self, other):\n",
        "        if self.debug: print(\"__add__\", self, other)\n",
        "        return self.value + other.value\n",
        "    def __radd__(self, other):\n",
        "        if self.debug: print(\"__radd__\", self, other)\n",
        "        return self.value + other\n",
        "\n",
        "class Coin(Money):\n",
        "    pass\n",
        "\n",
        "class Penny(Coin):\n",
        "    def __init__(self):\n",
        "        super().__init__(0.01)\n",
        "\n",
        "class Bill(Money):\n",
        "    pass\n",
        "\n",
        "class Five(Bill):\n",
        "    def __init__(self, **kwargs):\n",
        "        super().__init__(5, kwargs)\n",
        "\n",
        "wallet = [Penny(), Five(debug=True), Money(0.25, debug=True)]\n",
        "print(wallet)\n",
        "wallet.sort()\n",
        "print(wallet)\n",
        "print(sum(wallet))"
      ],
      "metadata": {
        "colab": {
          "base_uri": "https://localhost:8080/"
        },
        "id": "A8D0pL-oqVB-",
        "outputId": "eb105218-6f7b-46b8-dd74-c5f49a00adf8"
      },
      "execution_count": null,
      "outputs": [
        {
          "output_type": "stream",
          "name": "stdout",
          "text": [
            "__init__ $5.00\n",
            "__init__ $0.25\n",
            "[$0.01, $5.00, $0.25]\n",
            "[$0.01, $0.25, $5.00]\n",
            "__radd__ $0.25 0.01\n",
            "__radd__ $5.00 0.26\n",
            "5.26\n"
          ]
        }
      ]
    },
    {
      "cell_type": "code",
      "source": [
        "# Bill/Coin ID in repr\n",
        "class Money:\n",
        "    def __init__(self, value, debug=False):\n",
        "        self.value = value\n",
        "        self.debug = debug\n",
        "        if debug:\n",
        "            print(f'__init__ {self}')\n",
        "    def __repr__(self):\n",
        "        return f\"${self.value:0.2f}\"\n",
        "    def __lt__(self, other):\n",
        "        return self.value < other.value\n",
        "    def __add__(self, other):\n",
        "        if self.debug: print(\"__add__\", self, other)\n",
        "        return self.value + other.value\n",
        "    def __radd__(self, other):\n",
        "        if self.debug: print(\"__radd__\", self, other)\n",
        "        return self.value + other\n",
        "\n",
        "class Coin(Money):\n",
        "    def __repr__(self):\n",
        "        return 'C' + super().__repr__()\n",
        "\n",
        "class Penny(Coin):\n",
        "    def __init__(self):\n",
        "        super().__init__(0.01)\n",
        "\n",
        "class Bill(Money):\n",
        "    def __repr__(self):\n",
        "        return 'B' + super().__repr__()\n",
        "\n",
        "class Five(Bill):\n",
        "    def __init__(self, **kwargs):\n",
        "        super().__init__(5, **kwargs)\n",
        "\n",
        "wallet = [Penny(), Five(debug=True), Money(0.25, debug=True)]\n",
        "print(wallet)\n",
        "wallet.sort()\n",
        "print(wallet)\n",
        "print(sum(wallet))\n"
      ],
      "metadata": {
        "colab": {
          "base_uri": "https://localhost:8080/"
        },
        "id": "cu0xfbAXqm__",
        "outputId": "008570fc-5abd-47c4-f5b0-61c61745f08b"
      },
      "execution_count": null,
      "outputs": [
        {
          "output_type": "stream",
          "name": "stdout",
          "text": [
            "__init__ B$5.00\n",
            "__init__ $0.25\n",
            "[C$0.01, B$5.00, $0.25]\n",
            "[C$0.01, $0.25, B$5.00]\n",
            "__radd__ $0.25 0.01\n",
            "__radd__ B$5.00 0.26\n",
            "5.26\n"
          ]
        }
      ]
    },
    {
      "cell_type": "code",
      "source": [
        "# Final\n",
        "class Money:\n",
        "    def __init__(self, value, debug=False):\n",
        "        self.value = value\n",
        "        self.debug = debug\n",
        "        if debug:\n",
        "            print(f'__init__ {self}')\n",
        "    def __repr__(self):\n",
        "        return f\"${self.value:0.2f}\"\n",
        "    def __lt__(self, other):\n",
        "        return self.value < other.value\n",
        "    def __add__(self, other):\n",
        "        if self.debug: print(\"__add__\", self, other)\n",
        "        return self.value + other.value\n",
        "    def __radd__(self, other):\n",
        "        if self.debug: print(\"__radd__\", self, other)\n",
        "        return self.value + other\n",
        "\n",
        "class Coin(Money):\n",
        "    def __repr__(self):\n",
        "        return 'C' + super().__repr__()\n",
        "class Penny(Coin):\n",
        "    def __init__(self, **kwargs):\n",
        "        super().__init__(0.01, kwargs)\n",
        "class Nickel(Coin):\n",
        "    def __init__(self, **kwargs):\n",
        "        super().__init__(0.05, kwargs)\n",
        "class Dime(Coin):\n",
        "    def __init__(self, **kwargs):\n",
        "        super().__init__(0.10, kwargs)\n",
        "class Quarter(Coin):\n",
        "    def __init__(self, **kwargs):\n",
        "        super().__init__(0.25, kwargs)\n",
        "\n",
        "class Bill(Money):\n",
        "    def __repr__(self):\n",
        "        return 'B' + super().__repr__()\n",
        "class One(Bill):\n",
        "    def __init__(self, **kwargs):\n",
        "        super().__init__(1, kwargs)\n",
        "class Five(Bill):\n",
        "    def __init__(self, **kwargs):\n",
        "        super().__init__(5, kwargs)\n",
        "class Ten(Bill):\n",
        "    def __init__(self, **kwargs):\n",
        "        super().__init__(10, kwargs)\n",
        "class Twenty(Bill):\n",
        "    def __init__(self, **kwargs):\n",
        "        super().__init__(20, kwargs)\n",
        "\n",
        "wallet = [Penny(debug=True), Five(debug=True), Quarter(), Twenty(), Dime(), One(debug=True), Ten()]\n",
        "print(wallet)\n",
        "wallet.sort()\n",
        "print(wallet)\n",
        "print(sum(wallet))\n",
        "\n",
        "wallet = [Penny(), Five(), Quarter(), Twenty(), Dime(), One(), Ten()]\n",
        "print(wallet)\n",
        "wallet.sort()\n",
        "print(wallet)\n",
        "print(sum(wallet))\n"
      ],
      "metadata": {
        "colab": {
          "base_uri": "https://localhost:8080/"
        },
        "id": "47dwcwVxtCyt",
        "outputId": "b5c8cb7e-055b-4776-fb52-77119b83e717"
      },
      "execution_count": null,
      "outputs": [
        {
          "output_type": "stream",
          "name": "stdout",
          "text": [
            "__init__ C$0.01\n",
            "__init__ B$5.00\n",
            "__init__ B$1.00\n",
            "[C$0.01, B$5.00, C$0.25, B$20.00, C$0.10, B$1.00, B$10.00]\n",
            "[C$0.01, C$0.10, C$0.25, B$1.00, B$5.00, B$10.00, B$20.00]\n",
            "__radd__ C$0.01 0\n",
            "__radd__ B$1.00 0.36\n",
            "__radd__ B$5.00 1.3599999999999999\n",
            "36.36\n",
            "[C$0.01, B$5.00, C$0.25, B$20.00, C$0.10, B$1.00, B$10.00]\n",
            "[C$0.01, C$0.10, C$0.25, B$1.00, B$5.00, B$10.00, B$20.00]\n",
            "36.36\n"
          ]
        }
      ]
    },
    {
      "cell_type": "code",
      "source": [],
      "metadata": {
        "id": "n7Jv0RwDtt6j"
      },
      "execution_count": null,
      "outputs": []
    }
  ]
}