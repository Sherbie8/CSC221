{
  "nbformat": 4,
  "nbformat_minor": 0,
  "metadata": {
    "colab": {
      "provenance": [],
      "authorship_tag": "ABX9TyNErIQWbugSq1WX3ehEq5dJ",
      "include_colab_link": true
    },
    "kernelspec": {
      "name": "python3",
      "display_name": "Python 3"
    },
    "language_info": {
      "name": "python"
    }
  },
  "cells": [
    {
      "cell_type": "markdown",
      "metadata": {
        "id": "view-in-github",
        "colab_type": "text"
      },
      "source": [
        "<a href=\"https://colab.research.google.com/github/nleck001/CSC221/blob/main/Class12_Live.ipynb\" target=\"_parent\"><img src=\"https://colab.research.google.com/assets/colab-badge.svg\" alt=\"Open In Colab\"/></a>"
      ]
    },
    {
      "cell_type": "code",
      "execution_count": 1,
      "metadata": {
        "id": "gQT32eu-Bp3y"
      },
      "outputs": [],
      "source": [
        "# What are we going to do today?\n",
        "# Variable Scoping. Do you understand all of this?"
      ]
    },
    {
      "cell_type": "code",
      "source": [
        "def add4(x):\n",
        "    return x + 4\n",
        "\n",
        "print(add4(5))\n",
        "print(add4(13))\n",
        "\n",
        "assert add4(5) == 9\n",
        "assert add4(21) == 25"
      ],
      "metadata": {
        "colab": {
          "base_uri": "https://localhost:8080/"
        },
        "id": "P0OowggYFeEk",
        "outputId": "7a66456e-a897-4b8a-f09f-522e4620b223"
      },
      "execution_count": 2,
      "outputs": [
        {
          "output_type": "stream",
          "name": "stdout",
          "text": [
            "9\n",
            "17\n"
          ]
        }
      ]
    },
    {
      "cell_type": "code",
      "source": [
        "# Variable Scoping\n"
      ],
      "metadata": {
        "id": "DPY0fgycFmvi"
      },
      "execution_count": 3,
      "outputs": []
    },
    {
      "cell_type": "code",
      "source": [
        "v1 = 246\n",
        "\n",
        "print(v1)"
      ],
      "metadata": {
        "colab": {
          "base_uri": "https://localhost:8080/"
        },
        "id": "2gem_gIuK0c_",
        "outputId": "723c934c-11a3-4b41-ce24-cedd6b17bed5"
      },
      "execution_count": 4,
      "outputs": [
        {
          "output_type": "stream",
          "name": "stdout",
          "text": [
            "246\n"
          ]
        }
      ]
    },
    {
      "cell_type": "code",
      "source": [
        "dir(v1)"
      ],
      "metadata": {
        "colab": {
          "base_uri": "https://localhost:8080/"
        },
        "id": "sGaUby6oLQ9q",
        "outputId": "a8407652-4552-46ff-ccaf-2986cbb1a71f"
      },
      "execution_count": 5,
      "outputs": [
        {
          "output_type": "execute_result",
          "data": {
            "text/plain": [
              "['__abs__',\n",
              " '__add__',\n",
              " '__and__',\n",
              " '__bool__',\n",
              " '__ceil__',\n",
              " '__class__',\n",
              " '__delattr__',\n",
              " '__dir__',\n",
              " '__divmod__',\n",
              " '__doc__',\n",
              " '__eq__',\n",
              " '__float__',\n",
              " '__floor__',\n",
              " '__floordiv__',\n",
              " '__format__',\n",
              " '__ge__',\n",
              " '__getattribute__',\n",
              " '__getnewargs__',\n",
              " '__gt__',\n",
              " '__hash__',\n",
              " '__index__',\n",
              " '__init__',\n",
              " '__init_subclass__',\n",
              " '__int__',\n",
              " '__invert__',\n",
              " '__le__',\n",
              " '__lshift__',\n",
              " '__lt__',\n",
              " '__mod__',\n",
              " '__mul__',\n",
              " '__ne__',\n",
              " '__neg__',\n",
              " '__new__',\n",
              " '__or__',\n",
              " '__pos__',\n",
              " '__pow__',\n",
              " '__radd__',\n",
              " '__rand__',\n",
              " '__rdivmod__',\n",
              " '__reduce__',\n",
              " '__reduce_ex__',\n",
              " '__repr__',\n",
              " '__rfloordiv__',\n",
              " '__rlshift__',\n",
              " '__rmod__',\n",
              " '__rmul__',\n",
              " '__ror__',\n",
              " '__round__',\n",
              " '__rpow__',\n",
              " '__rrshift__',\n",
              " '__rshift__',\n",
              " '__rsub__',\n",
              " '__rtruediv__',\n",
              " '__rxor__',\n",
              " '__setattr__',\n",
              " '__sizeof__',\n",
              " '__str__',\n",
              " '__sub__',\n",
              " '__subclasshook__',\n",
              " '__truediv__',\n",
              " '__trunc__',\n",
              " '__xor__',\n",
              " 'as_integer_ratio',\n",
              " 'bit_count',\n",
              " 'bit_length',\n",
              " 'conjugate',\n",
              " 'denominator',\n",
              " 'from_bytes',\n",
              " 'imag',\n",
              " 'numerator',\n",
              " 'real',\n",
              " 'to_bytes']"
            ]
          },
          "metadata": {},
          "execution_count": 5
        }
      ]
    },
    {
      "cell_type": "code",
      "source": [
        "v1 = 246\n",
        "\n",
        "def func1(x=2222):\n",
        "    print(x)\n",
        "    return \"Hey\"\n",
        "\n",
        "print(v1)\n",
        "print()\n",
        "print(func1())\n",
        "print()\n",
        "print(func1(12))"
      ],
      "metadata": {
        "colab": {
          "base_uri": "https://localhost:8080/"
        },
        "id": "uKjfeGu-LhZg",
        "outputId": "09624dea-21c6-4f80-bc36-2d0cdc53adc3"
      },
      "execution_count": 6,
      "outputs": [
        {
          "output_type": "stream",
          "name": "stdout",
          "text": [
            "246\n",
            "\n",
            "2222\n",
            "Hey\n",
            "\n",
            "12\n",
            "Hey\n"
          ]
        }
      ]
    },
    {
      "cell_type": "code",
      "source": [
        "v1 = 246\n",
        "x = 1357\n",
        "\n",
        "def func1(x=2222):\n",
        "    v1 = 317\n",
        "    print(f'{x=} {v1=}')\n",
        "    print(locals())\n",
        "    #print(globals())\n",
        "    return \"Hey\"\n",
        "\n",
        "print(v1)\n",
        "print()\n",
        "print(func1())\n",
        "print()\n",
        "print(func1(12))\n",
        "print()\n",
        "print(x)"
      ],
      "metadata": {
        "colab": {
          "base_uri": "https://localhost:8080/"
        },
        "id": "vt-fmgURMf_N",
        "outputId": "4dde9b74-b9eb-45f8-f419-e5c336eba12d"
      },
      "execution_count": 7,
      "outputs": [
        {
          "output_type": "stream",
          "name": "stdout",
          "text": [
            "246\n",
            "\n",
            "x=2222 v1=317\n",
            "{'x': 2222, 'v1': 317}\n",
            "Hey\n",
            "\n",
            "x=12 v1=317\n",
            "{'x': 12, 'v1': 317}\n",
            "Hey\n",
            "\n",
            "1357\n"
          ]
        }
      ]
    },
    {
      "cell_type": "code",
      "source": [
        "MAXIMUM_NUM_OF_CAMERAS = 8\n",
        "\n",
        "def func2(x, y):\n",
        "    global MAXIMUM_NUM_OF_CAMERAS\n",
        "    MAXIMUM_NUM_OF_CAMERAS = 13\n",
        "    print(f'{x=} {y=} {MAXIMUM_NUM_OF_CAMERAS=}')\n",
        "\n",
        "func2(12,13)\n",
        "\n",
        "print(MAXIMUM_NUM_OF_CAMERAS)"
      ],
      "metadata": {
        "colab": {
          "base_uri": "https://localhost:8080/"
        },
        "id": "4q33jrv_NRU1",
        "outputId": "8490ca08-738e-42b5-bb1c-9dc013424c73"
      },
      "execution_count": 8,
      "outputs": [
        {
          "output_type": "stream",
          "name": "stdout",
          "text": [
            "x=12 y=13 MAXIMUM_NUM_OF_CAMERAS=13\n",
            "13\n"
          ]
        }
      ]
    },
    {
      "cell_type": "code",
      "source": [],
      "metadata": {
        "id": "hyd0XOlPPEpt"
      },
      "execution_count": 8,
      "outputs": []
    }
  ]
}