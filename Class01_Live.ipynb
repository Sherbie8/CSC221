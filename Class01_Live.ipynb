{
  "nbformat": 4,
  "nbformat_minor": 0,
  "metadata": {
    "colab": {
      "provenance": [],
      "authorship_tag": "ABX9TyMEytM7+uScAiiSeVMS1urg",
      "include_colab_link": true
    },
    "kernelspec": {
      "name": "python3",
      "display_name": "Python 3"
    },
    "language_info": {
      "name": "python"
    }
  },
  "cells": [
    {
      "cell_type": "markdown",
      "metadata": {
        "id": "view-in-github",
        "colab_type": "text"
      },
      "source": [
        "<a href=\"https://colab.research.google.com/github/nleck001/CSC221/blob/main/Class01_Live.ipynb\" target=\"_parent\"><img src=\"https://colab.research.google.com/assets/colab-badge.svg\" alt=\"Open In Colab\"/></a>"
      ]
    },
    {
      "cell_type": "markdown",
      "source": [
        "## CSC217 Class 1\n",
        "- As done live in class 8/29/2023"
      ],
      "metadata": {
        "id": "MCKY_GwSvswz"
      }
    },
    {
      "cell_type": "code",
      "execution_count": 1,
      "metadata": {
        "id": "kGsjq5T6nWCF"
      },
      "outputs": [],
      "source": [
        "# Intro to Data\n",
        "a = 3"
      ]
    },
    {
      "cell_type": "code",
      "source": [
        "print(a)"
      ],
      "metadata": {
        "colab": {
          "base_uri": "https://localhost:8080/"
        },
        "id": "S8Io8daeoU9E",
        "outputId": "7ae40372-4baf-462d-cac7-61d58f1cd984"
      },
      "execution_count": 2,
      "outputs": [
        {
          "output_type": "stream",
          "name": "stdout",
          "text": [
            "3\n"
          ]
        }
      ]
    },
    {
      "cell_type": "code",
      "source": [
        "def f(x):\n",
        "    return 3 * x + 4\n",
        "\n",
        "print(f(13))"
      ],
      "metadata": {
        "colab": {
          "base_uri": "https://localhost:8080/"
        },
        "id": "QMcC1ps8oe_D",
        "outputId": "0b2474c9-1f79-43b8-fd7f-d12bca5996a5"
      },
      "execution_count": 3,
      "outputs": [
        {
          "output_type": "stream",
          "name": "stdout",
          "text": [
            "43\n"
          ]
        }
      ]
    },
    {
      "cell_type": "code",
      "source": [
        "a = 4\n",
        "print(type(a), a)"
      ],
      "metadata": {
        "colab": {
          "base_uri": "https://localhost:8080/"
        },
        "id": "joWlhvl6oqLb",
        "outputId": "05083d2b-516b-4f99-8aea-e76484fbdb15"
      },
      "execution_count": 4,
      "outputs": [
        {
          "output_type": "stream",
          "name": "stdout",
          "text": [
            "<class 'int'> 4\n"
          ]
        }
      ]
    },
    {
      "cell_type": "code",
      "source": [
        "b = 1.2\n",
        "print(type(b), b)\n"
      ],
      "metadata": {
        "colab": {
          "base_uri": "https://localhost:8080/"
        },
        "id": "jeLhSv8SoxkD",
        "outputId": "15711fc8-7d91-40b0-bcc6-cbb57ceb6567"
      },
      "execution_count": 5,
      "outputs": [
        {
          "output_type": "stream",
          "name": "stdout",
          "text": [
            "<class 'float'> 1.2\n"
          ]
        }
      ]
    },
    {
      "cell_type": "code",
      "source": [
        "a = a + 0.1\n",
        "a = 4\n",
        "print(type(a), a)"
      ],
      "metadata": {
        "colab": {
          "base_uri": "https://localhost:8080/"
        },
        "id": "b9zy3Naso-2E",
        "outputId": "05f9e722-e6e6-4fab-8a0d-af35950f95e7"
      },
      "execution_count": 6,
      "outputs": [
        {
          "output_type": "stream",
          "name": "stdout",
          "text": [
            "<class 'int'> 4\n"
          ]
        }
      ]
    },
    {
      "cell_type": "code",
      "source": [
        "name = \"ned lecky\"\n",
        "print(type(name), name)\n",
        "\n",
        "print(name)"
      ],
      "metadata": {
        "colab": {
          "base_uri": "https://localhost:8080/"
        },
        "id": "vaMBb6x8pTXL",
        "outputId": "015cbc3f-40c8-430e-8b87-3f8641ef9bae"
      },
      "execution_count": 7,
      "outputs": [
        {
          "output_type": "stream",
          "name": "stdout",
          "text": [
            "<class 'str'> ned lecky\n",
            "ned lecky\n"
          ]
        }
      ]
    },
    {
      "cell_type": "code",
      "source": [
        "list1 = [12, 13, 14]\n",
        "print(type(list1), list1)\n"
      ],
      "metadata": {
        "colab": {
          "base_uri": "https://localhost:8080/"
        },
        "id": "gWzBDQZBpleU",
        "outputId": "1d62de96-10c6-454d-8f25-975a19b93c0d"
      },
      "execution_count": 8,
      "outputs": [
        {
          "output_type": "stream",
          "name": "stdout",
          "text": [
            "<class 'list'> [12, 13, 14]\n"
          ]
        }
      ]
    },
    {
      "cell_type": "code",
      "source": [
        "set1 = {12, 21, 34, 12, 12, 34, 8}\n",
        "print(set1)"
      ],
      "metadata": {
        "colab": {
          "base_uri": "https://localhost:8080/"
        },
        "id": "XFKVN1G2qjRO",
        "outputId": "d96d58dd-6520-4427-ba79-58a2abb6ec7d"
      },
      "execution_count": 9,
      "outputs": [
        {
          "output_type": "stream",
          "name": "stdout",
          "text": [
            "{8, 34, 12, 21}\n"
          ]
        }
      ]
    },
    {
      "cell_type": "code",
      "source": [
        "dict = {'ned':61, 'fred':80, 'nancy': 83}"
      ],
      "metadata": {
        "id": "ibjnBmXuqy_B"
      },
      "execution_count": 10,
      "outputs": []
    },
    {
      "cell_type": "code",
      "source": [
        "print(dict['fred'])"
      ],
      "metadata": {
        "colab": {
          "base_uri": "https://localhost:8080/"
        },
        "id": "l3ZNI1MsrGNW",
        "outputId": "c210700b-4e34-4493-8da9-9ec5978e8995"
      },
      "execution_count": 11,
      "outputs": [
        {
          "output_type": "stream",
          "name": "stdout",
          "text": [
            "80\n"
          ]
        }
      ]
    },
    {
      "cell_type": "code",
      "source": [
        "# Intro to Code\n",
        "def f1(x, y, z):\n",
        "    a = x + y\n",
        "    b = x + z\n",
        "    print(a,b)\n",
        "\n",
        "\n",
        "f1(4,5,6)\n"
      ],
      "metadata": {
        "colab": {
          "base_uri": "https://localhost:8080/"
        },
        "id": "mby0UNORrJzu",
        "outputId": "6c1c4a1d-8966-4531-b1af-15560743decd"
      },
      "execution_count": 12,
      "outputs": [
        {
          "output_type": "stream",
          "name": "stdout",
          "text": [
            "9 10\n"
          ]
        }
      ]
    },
    {
      "cell_type": "code",
      "source": [
        "# Let's make our first class so we can make some objects!\n",
        "class nedobject:\n",
        "    def __init__(self):\n",
        "        print('I got made!')\n",
        "\n",
        "\n",
        "\n",
        "a1 = nedobject()"
      ],
      "metadata": {
        "colab": {
          "base_uri": "https://localhost:8080/"
        },
        "id": "1naUvPMkrnpf",
        "outputId": "5e587dbd-3936-434c-8609-d440b49ba41c"
      },
      "execution_count": 13,
      "outputs": [
        {
          "output_type": "stream",
          "name": "stdout",
          "text": [
            "I got made!\n"
          ]
        }
      ]
    },
    {
      "cell_type": "code",
      "source": [
        "a = 3\n",
        "dir(a)"
      ],
      "metadata": {
        "colab": {
          "base_uri": "https://localhost:8080/"
        },
        "id": "1_NZPFPRtUXD",
        "outputId": "b3a69447-0f74-45dd-c190-0b42d4130463"
      },
      "execution_count": 14,
      "outputs": [
        {
          "output_type": "execute_result",
          "data": {
            "text/plain": [
              "['__abs__',\n",
              " '__add__',\n",
              " '__and__',\n",
              " '__bool__',\n",
              " '__ceil__',\n",
              " '__class__',\n",
              " '__delattr__',\n",
              " '__dir__',\n",
              " '__divmod__',\n",
              " '__doc__',\n",
              " '__eq__',\n",
              " '__float__',\n",
              " '__floor__',\n",
              " '__floordiv__',\n",
              " '__format__',\n",
              " '__ge__',\n",
              " '__getattribute__',\n",
              " '__getnewargs__',\n",
              " '__gt__',\n",
              " '__hash__',\n",
              " '__index__',\n",
              " '__init__',\n",
              " '__init_subclass__',\n",
              " '__int__',\n",
              " '__invert__',\n",
              " '__le__',\n",
              " '__lshift__',\n",
              " '__lt__',\n",
              " '__mod__',\n",
              " '__mul__',\n",
              " '__ne__',\n",
              " '__neg__',\n",
              " '__new__',\n",
              " '__or__',\n",
              " '__pos__',\n",
              " '__pow__',\n",
              " '__radd__',\n",
              " '__rand__',\n",
              " '__rdivmod__',\n",
              " '__reduce__',\n",
              " '__reduce_ex__',\n",
              " '__repr__',\n",
              " '__rfloordiv__',\n",
              " '__rlshift__',\n",
              " '__rmod__',\n",
              " '__rmul__',\n",
              " '__ror__',\n",
              " '__round__',\n",
              " '__rpow__',\n",
              " '__rrshift__',\n",
              " '__rshift__',\n",
              " '__rsub__',\n",
              " '__rtruediv__',\n",
              " '__rxor__',\n",
              " '__setattr__',\n",
              " '__sizeof__',\n",
              " '__str__',\n",
              " '__sub__',\n",
              " '__subclasshook__',\n",
              " '__truediv__',\n",
              " '__trunc__',\n",
              " '__xor__',\n",
              " 'as_integer_ratio',\n",
              " 'bit_count',\n",
              " 'bit_length',\n",
              " 'conjugate',\n",
              " 'denominator',\n",
              " 'from_bytes',\n",
              " 'imag',\n",
              " 'numerator',\n",
              " 'real',\n",
              " 'to_bytes']"
            ]
          },
          "metadata": {},
          "execution_count": 14
        }
      ]
    },
    {
      "cell_type": "code",
      "source": [
        "class nedobject2:\n",
        "    def __init__(self, a):\n",
        "        print('I got made!')\n",
        "        self.data = a\n",
        "    def __repr__(self):\n",
        "        return f\"This is __repr__ I'm nedobject2 with data={self.data}\"\n",
        "    def DoIt(self):\n",
        "        print(self.data.upper())\n",
        "\n",
        "a1 = nedobject2(123)  # (Calls __init())\n",
        "a2 = nedobject2('fred')\n",
        "a3 = nedobject2([13, 'asd', 12])\n",
        "a4 = nedobject2({1,2,3,3,3,3,4,5})\n",
        "print(f'{a1!r}') # (Calls __repr__(...) unless __str__ exists()!)\n",
        "print(a2)\n",
        "print(a3)\n",
        "print(a4)\n",
        "# a1.DoIt()  # This will fail. Why?\n",
        "a2.DoIt()"
      ],
      "metadata": {
        "colab": {
          "base_uri": "https://localhost:8080/"
        },
        "id": "eBxy72bvthcK",
        "outputId": "d24f8ff5-7637-46ba-d702-8bab5d9c84f8"
      },
      "execution_count": 15,
      "outputs": [
        {
          "output_type": "stream",
          "name": "stdout",
          "text": [
            "I got made!\n",
            "I got made!\n",
            "I got made!\n",
            "I got made!\n",
            "This is __repr__ I'm nedobject2 with data=123\n",
            "This is __repr__ I'm nedobject2 with data=fred\n",
            "This is __repr__ I'm nedobject2 with data=[13, 'asd', 12]\n",
            "This is __repr__ I'm nedobject2 with data={1, 2, 3, 4, 5}\n",
            "FRED\n"
          ]
        }
      ]
    },
    {
      "cell_type": "code",
      "source": [
        "# Extra... shows difference between __str and __repr__\n",
        "class nedobject2:\n",
        "    def __init__(self, a):\n",
        "        print('I got made!')\n",
        "        self.data = a\n",
        "    def __repr__(self):\n",
        "        return f\"nedobject2({self.data})\"\n",
        "    def __str__(self):\n",
        "        return f\"This is __str__ I'm nedobject2 with data={self.data}\"\n",
        "    def DoIt(self):\n",
        "        print(self.data.upper())\n",
        "\n",
        "\n",
        "\n",
        "a1 = nedobject2(123)  # (Calls __init())\n",
        "a2 = nedobject2('fred')\n",
        "a3 = nedobject2([13, 'asd', 12])\n",
        "a4 = nedobject2({1,2,3,3,3,3,4,5})\n",
        "print(a1) # (Calls __repr__(...) unless __str__ exists()!)\n",
        "print(f'{a1!r}') # Force it to call __repr__!\n",
        "print(a2)\n",
        "print(a3)\n",
        "print(a4)\n",
        "# a1.DoIt()  # This will fail. Why?\n",
        "a2.DoIt()\n",
        "# Last line of the cell gets __repr__ called as if we were in REPL\n",
        "a4"
      ],
      "metadata": {
        "id": "w4sgdH3huOJC",
        "colab": {
          "base_uri": "https://localhost:8080/"
        },
        "outputId": "801c2361-7d5e-4ea5-e859-b62d828f0ed1"
      },
      "execution_count": 16,
      "outputs": [
        {
          "output_type": "stream",
          "name": "stdout",
          "text": [
            "I got made!\n",
            "I got made!\n",
            "I got made!\n",
            "I got made!\n",
            "This is __str__ I'm nedobject2 with data=123\n",
            "nedobject2(123)\n",
            "This is __str__ I'm nedobject2 with data=fred\n",
            "This is __str__ I'm nedobject2 with data=[13, 'asd', 12]\n",
            "This is __str__ I'm nedobject2 with data={1, 2, 3, 4, 5}\n",
            "FRED\n"
          ]
        },
        {
          "output_type": "execute_result",
          "data": {
            "text/plain": [
              "nedobject2({1, 2, 3, 4, 5})"
            ]
          },
          "metadata": {},
          "execution_count": 16
        }
      ]
    },
    {
      "cell_type": "code",
      "source": [],
      "metadata": {
        "id": "Q8KadPwEx5oS"
      },
      "execution_count": 16,
      "outputs": []
    }
  ]
}