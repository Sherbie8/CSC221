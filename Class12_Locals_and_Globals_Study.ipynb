{
  "nbformat": 4,
  "nbformat_minor": 0,
  "metadata": {
    "colab": {
      "provenance": [],
      "authorship_tag": "ABX9TyN5ArP7CrThZXzzQgMe6oCV",
      "include_colab_link": true
    },
    "kernelspec": {
      "name": "python3",
      "display_name": "Python 3"
    },
    "language_info": {
      "name": "python"
    }
  },
  "cells": [
    {
      "cell_type": "markdown",
      "metadata": {
        "id": "view-in-github",
        "colab_type": "text"
      },
      "source": [
        "<a href=\"https://colab.research.google.com/github/nleck001/CSC221/blob/main/Class12_Locals_and_Globals_Study.ipynb\" target=\"_parent\"><img src=\"https://colab.research.google.com/assets/colab-badge.svg\" alt=\"Open In Colab\"/></a>"
      ]
    },
    {
      "cell_type": "code",
      "execution_count": null,
      "metadata": {
        "colab": {
          "base_uri": "https://localhost:8080/"
        },
        "id": "dEFXFgbNU3lP",
        "outputId": "2bf802b6-a0c3-497c-d26f-848b050df4e4"
      },
      "outputs": [
        {
          "output_type": "stream",
          "name": "stdout",
          "text": [
            "30 ned\n",
            "{'x': 30, 'a': 30}\n",
            "123\n"
          ]
        }
      ],
      "source": [
        "a = 123\n",
        "b = 'ned'\n",
        "\n",
        "\n",
        "def func(x):\n",
        "    #global a\n",
        "    a = x\n",
        "    print(a, b)\n",
        "    print(locals())\n",
        "\n",
        "func(30)\n",
        "print(a)\n"
      ]
    },
    {
      "cell_type": "code",
      "source": [],
      "metadata": {
        "id": "9T_pgVdnVBn-"
      },
      "execution_count": null,
      "outputs": []
    }
  ]
}