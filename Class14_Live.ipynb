{
  "nbformat": 4,
  "nbformat_minor": 0,
  "metadata": {
    "colab": {
      "provenance": [],
      "authorship_tag": "ABX9TyOVhd4rUdIGbvwLDWsPaEqi",
      "include_colab_link": true
    },
    "kernelspec": {
      "name": "python3",
      "display_name": "Python 3"
    },
    "language_info": {
      "name": "python"
    }
  },
  "cells": [
    {
      "cell_type": "markdown",
      "metadata": {
        "id": "view-in-github",
        "colab_type": "text"
      },
      "source": [
        "<a href=\"https://colab.research.google.com/github/nleck001/CSC221/blob/main/Class14_Live.ipynb\" target=\"_parent\"><img src=\"https://colab.research.google.com/assets/colab-badge.svg\" alt=\"Open In Colab\"/></a>"
      ]
    },
    {
      "cell_type": "code",
      "execution_count": null,
      "metadata": {
        "colab": {
          "base_uri": "https://localhost:8080/"
        },
        "id": "KrOKieZn5Puo",
        "outputId": "1f0ffcec-39fa-45a8-f647-b97888234123"
      },
      "outputs": [
        {
          "name": "stdout",
          "output_type": "stream",
          "text": [
            "Enter a, b, c (q to quit): 1,2,3\n",
            "calc=1.0\n",
            "Enter a, b, c (q to quit): 1\n",
            "IndexError\n",
            "Enter a, b, c (q to quit): 1,2\n",
            "IndexError\n",
            "Enter a, b, c (q to quit): abc,2,3\n",
            "ValueError\n",
            "Enter a, b, c (q to quit): q\n"
          ]
        }
      ],
      "source": [
        "# Class 14 As Done in Class 10/17/2013\n",
        "def parser():\n",
        "    while True:\n",
        "        inp = input('Enter a, b, c (q to quit): ')\n",
        "        if inp == \"q\":\n",
        "            break;\n",
        "\n",
        "        # User types 12, 21, 47 and I calc ()12 + 21) / 47\n",
        "        args = inp.split(',')\n",
        "\n",
        "        try:\n",
        "            a = int(args[0])\n",
        "            b = int(args[1])\n",
        "            c = int(args[2])\n",
        "            calc = (a + b) / c\n",
        "            print(f\"{calc=}\")\n",
        "        except ZeroDivisionError:\n",
        "            print(\"ZeroDivisionError\")\n",
        "        except IndexError:\n",
        "            print(\"IndexError\")\n",
        "        except ValueError:\n",
        "            print(\"ValueError\")\n",
        "\n",
        "parser()"
      ]
    },
    {
      "cell_type": "code",
      "source": [
        "def parser2():\n",
        "    while True:\n",
        "        inp = input('Enter a (!=99, please), b, c (q to quit): ')\n",
        "        if inp == \"q\":\n",
        "            break;\n",
        "\n",
        "        # User types 12, 21, 47 and I calc ()12 + 21) / 47\n",
        "        args = inp.split(',')\n",
        "\n",
        "        try:\n",
        "            a = int(args[0])\n",
        "            if a == 99:\n",
        "                raise ValueError('Dude, I said no 99!')\n",
        "            b = int(args[1])\n",
        "            c = int(args[2])\n",
        "            calc = (a + b) / c\n",
        "            print(f\"{calc=}\")\n",
        "        except ZeroDivisionError as ex:\n",
        "            print(f'{ex.args}')\n",
        "        except IndexError as ex:\n",
        "            print(f'{ex.args}')\n",
        "        except ValueError as ex:\n",
        "            print(f'{ex.args}')\n",
        "        except:\n",
        "            print(\"Unhandled exception!!\")\n",
        "        else:\n",
        "            print('Everything went great!')\n",
        "        finally:\n",
        "            print('This cleanup always happens')\n",
        "\n",
        "        print('I always want this to print!!!')\n",
        "\n",
        "\n",
        "parser2()"
      ],
      "metadata": {
        "colab": {
          "base_uri": "https://localhost:8080/"
        },
        "id": "3OE2tYkt5s7s",
        "outputId": "68436cff-011b-4f5c-d5e5-c7c12588f6fb"
      },
      "execution_count": null,
      "outputs": [
        {
          "name": "stdout",
          "output_type": "stream",
          "text": [
            "Enter a (!=99, please), b, c (q to quit): 1,2,3\n",
            "calc=1.0\n",
            "Everything went great!\n",
            "This cleanup always happens\n",
            "I always want this to print!!!\n",
            "Enter a (!=99, please), b, c (q to quit): 1,2\n",
            "('list index out of range',)\n",
            "This cleanup always happens\n",
            "I always want this to print!!!\n",
            "Enter a (!=99, please), b, c (q to quit): 1,abc,5\n",
            "(\"invalid literal for int() with base 10: 'abc'\",)\n",
            "This cleanup always happens\n",
            "I always want this to print!!!\n",
            "Enter a (!=99, please), b, c (q to quit): 99,5,12\n",
            "('Dude, I said no 99!',)\n",
            "This cleanup always happens\n",
            "I always want this to print!!!\n",
            "Enter a (!=99, please), b, c (q to quit): q\n"
          ]
        }
      ]
    },
    {
      "cell_type": "code",
      "source": [
        "%%file data.txt\n",
        "123\n",
        "45\n",
        "8"
      ],
      "metadata": {
        "colab": {
          "base_uri": "https://localhost:8080/"
        },
        "id": "UWbzRshPD1IF",
        "outputId": "0eea5f0a-4f1f-42e4-ddc2-cd2e05134f44"
      },
      "execution_count": null,
      "outputs": [
        {
          "output_type": "stream",
          "name": "stdout",
          "text": [
            "Writing data.txt\n"
          ]
        }
      ]
    },
    {
      "cell_type": "code",
      "source": [
        "def file_handler(filename):\n",
        "    print(f'Trying to open {filename}')\n",
        "    try:\n",
        "        f1 = open(filename, \"r\")\n",
        "    except FileNotFoundError as ex:\n",
        "        print(f'{ex.args}')\n",
        "\n",
        "    else:\n",
        "        lines = f1.readlines()\n",
        "        for line in lines:\n",
        "            print(line.strip())\n",
        "\n",
        "\n",
        "file_handler('data.txt')\n",
        "file_handler('dataa.txt')\n"
      ],
      "metadata": {
        "colab": {
          "base_uri": "https://localhost:8080/"
        },
        "id": "RCNJMlZX-YBk",
        "outputId": "a9f000cd-fc08-4584-8cc5-b3996029eb64"
      },
      "execution_count": null,
      "outputs": [
        {
          "output_type": "stream",
          "name": "stdout",
          "text": [
            "Trying to open data.txt\n",
            "123\n",
            "45\n",
            "8\n",
            "Trying to open dataa.txt\n",
            "(2, 'No such file or directory')\n"
          ]
        }
      ]
    },
    {
      "cell_type": "code",
      "source": [
        "import matplotlib.pyplot as plt\n",
        "import numpy as np\n",
        "\n",
        "plt.style.use('_mpl-gallery')\n",
        "\n",
        "# make data:\n",
        "x = 0.5 + np.arange(8)\n",
        "y = [x for x in range(8)]\n",
        "\n",
        "# plot\n",
        "fig, ax = plt.subplots()\n",
        "\n",
        "ax.bar(x, y, width=1, edgecolor=\"white\", linewidth=0.7)\n",
        "\n",
        "ax.set(xlim=(0, 8), xticks=np.arange(1, 8),\n",
        "       ylim=(0, 8), yticks=np.arange(1, 8))\n",
        "\n",
        "plt.show()"
      ],
      "metadata": {
        "colab": {
          "base_uri": "https://localhost:8080/",
          "height": 251
        },
        "id": "V4ToHumaCgIK",
        "outputId": "0199ee64-bff6-4931-e798-862a669df821"
      },
      "execution_count": null,
      "outputs": [
        {
          "output_type": "display_data",
          "data": {
            "text/plain": [
              "<Figure size 200x200 with 1 Axes>"
            ],
            "image/png": "[encoded data removed]"
          },
          "metadata": {}
        }
      ]
    },
    {
      "cell_type": "code",
      "source": [],
      "metadata": {
        "id": "oYv4GBVjDZ-c"
      },
      "execution_count": null,
      "outputs": []
    }
  ]
}