{
  "nbformat": 4,
  "nbformat_minor": 0,
  "metadata": {
    "colab": {
      "provenance": [],
      "include_colab_link": true
    },
    "kernelspec": {
      "name": "python3",
      "display_name": "Python 3"
    },
    "language_info": {
      "name": "python"
    }
  },
  "cells": [
    {
      "cell_type": "markdown",
      "metadata": {
        "id": "view-in-github",
        "colab_type": "text"
      },
      "source": [
        "<a href=\"https://colab.research.google.com/github/Sherbie8/CSC221/blob/main/Assignment21.ipynb\" target=\"_parent\"><img src=\"https://colab.research.google.com/assets/colab-badge.svg\" alt=\"Open In Colab\"/></a>"
      ]
    },
    {
      "cell_type": "markdown",
      "source": [
        "# Assignment 21\n",
        "## CSC 221\n",
        "- PLEASE INSERT YOUR NAME HERE!\n",
        "\n",
        "### Instructions:\n",
        "Fill in each code cell below the question. We are following along in Chapter 4 of Python Distilled."
      ],
      "metadata": {
        "id": "IAOUzGWE1eDx"
      }
    },
    {
      "cell_type": "code",
      "execution_count": 97,
      "metadata": {
        "id": "Gnj3su7i5-lx",
        "colab": {
          "base_uri": "https://localhost:8080/"
        },
        "outputId": "2fd2a700-c968-4b74-aeb8-cdffa5172332"
      },
      "outputs": [
        {
          "output_type": "stream",
          "name": "stdout",
          "text": [
            "8\n",
            "Hello, World!\n",
            "Hello, 123\n"
          ]
        }
      ],
      "source": [
        "# 4.2 Object Identity and Type\n",
        "\n",
        "# Make a function that performs differently depending on the types of its inputs\n",
        "# cat(a, b) below will work if you pass in two numbers or two strings\n",
        "# Use isinstance to detect when you are getting a string and an int and\n",
        "# automatically convert the int to a string and return the string!\n",
        "\n",
        "#def cat(a, b):\n",
        "\n",
        "    #return a + b\n",
        "\n",
        "#print(cat(3, 5))\n",
        "#print(cat(\"Hello, \", \"World!\"))\n",
        "#print(cat(\"Hello, \", 123))  # FAILS: Should return 'Hello, 123'\n",
        "\n",
        "# INSERT YOUR CODE HERE\n",
        "\n",
        "def cat(a,b):\n",
        "\n",
        "  if isinstance(a, (str)):\n",
        "    b = str(b)\n",
        "  elif isinstance(a, (int)):\n",
        "    b = int(b)\n",
        "  else:\n",
        "    return b\n",
        "\n",
        "  if isinstance(b, (str)):\n",
        "    a = str(a)\n",
        "  elif isinstance(b, (int)):\n",
        "    a = int(a)\n",
        "  else:\n",
        "      return a\n",
        "  return a + b\n",
        "\n",
        "print(cat(3,5))\n",
        "print(cat(\"Hello, \", \"World!\"))\n",
        "print(cat(\"Hello, \", 123))\n",
        "\n",
        "##### I think I went about this in a very jumbled and unnecessary way, but the code works.\n",
        "\n",
        "\n",
        "##### - example of isinstance from the texbook\n",
        "#def compare(a, b):\n",
        "  #if isinstance(a, (list, tuple, str)):\n",
        " #   a =\n",
        " # if a is b:\n",
        " #   print('same object')\n",
        " # if a == b:\n",
        " #   print('same value')\n",
        "#  if type(a) is type(b):\n",
        " #   print('same type')\n",
        "\n",
        "#compare('yes', 4)\n",
        "\n",
        "\n"
      ]
    },
    {
      "cell_type": "code",
      "source": [
        "# Explain the output of the following code\n",
        "import sys\n",
        "\n",
        "class EmptyClass:\n",
        "    def __init__(self):\n",
        "        print('init')\n",
        "    def __del__(self):\n",
        "        print('del')\n",
        "\n",
        "def print_refcount(x):\n",
        "    print(sys.getrefcount(x))\n",
        "\n",
        "f1 = EmptyClass()\n",
        "print_refcount(f1)\n",
        "f2 = f1\n",
        "print_refcount(f1)\n",
        "f3 = f1\n",
        "print_refcount(f1)\n",
        "\n",
        "del f1\n",
        "print_refcount(f3)\n",
        "del f2\n",
        "print_refcount(f3)\n",
        "del f3\n",
        "\n",
        "# INSERT YOUR EXPLANATION HERE\n",
        "\n",
        "#- def__init__prints ('init')\n",
        "#- def __delete__ removes all references of ('del')\n",
        "#- f1 is an empty class of reference counts\n",
        "#- the reference counts of each variable ('f1', 'f2', 'f3') are printed\n",
        "#- Since all ref counts trace back to f1, each time a variable is deleted, the refcount decreases by 1\n",
        "#- I am unsure why 'del' is printed at the end, could be because of the __del__ function but Im not 100% sure on the reasoning\n"
      ],
      "metadata": {
        "colab": {
          "base_uri": "https://localhost:8080/"
        },
        "id": "DKFgqiK-jlZg",
        "outputId": "2de26754-4abe-4436-e524-e16dbcd3b428"
      },
      "execution_count": null,
      "outputs": [
        {
          "output_type": "stream",
          "name": "stdout",
          "text": [
            "init\n",
            "4\n",
            "5\n",
            "6\n",
            "5\n",
            "4\n",
            "del\n"
          ]
        }
      ]
    },
    {
      "cell_type": "code",
      "source": [
        "# Section 4.4, Part 1\n",
        "# Explain this output. Why does it seem odd?\n",
        "a = [1, 2, 3]\n",
        "b = a\n",
        "b[1] = 99\n",
        "print(a)\n",
        "print(b)\n",
        "\n",
        "# INSERT YOUR EXPLANATION HERE\n",
        "\n",
        "#- a and b refer to the same object in this example, so a change made to b will be reflected in a.\n",
        "# In this case we told python that b[1] = 99 and b = a, so the output for a was also changed.\n"
      ],
      "metadata": {
        "colab": {
          "base_uri": "https://localhost:8080/"
        },
        "id": "-pBk9F45ke-W",
        "outputId": "a3a8d2b4-9d2c-417b-e0f3-02d5c9c17b3b"
      },
      "execution_count": null,
      "outputs": [
        {
          "output_type": "stream",
          "name": "stdout",
          "text": [
            "[1, 99, 3]\n",
            "[1, 99, 3]\n"
          ]
        }
      ]
    },
    {
      "cell_type": "code",
      "source": [
        "# Section 4.4, Part 2\n",
        "# Explain this output. Why is it from Part 1?\n",
        "a = [1, 2, 3]\n",
        "b = a[:]\n",
        "b[1] = 99\n",
        "print(a)\n",
        "print(b)\n",
        "\n",
        "# INSERT YOUR EXPLANATION HERE\n",
        "\n",
        "#- This is similar to part one however the output is different here. In this case,\n",
        "#  we used a shallow copy to create a new object but it is populated with references\n",
        "# from the original copy. Instead of b = a, we told python that b = a[:] which uses the same\n",
        "# references from 'a' without modifying it.\n"
      ],
      "metadata": {
        "colab": {
          "base_uri": "https://localhost:8080/"
        },
        "id": "PFG-FWuUnmM6",
        "outputId": "11d90918-a829-42c3-9340-d855db974888"
      },
      "execution_count": null,
      "outputs": [
        {
          "output_type": "stream",
          "name": "stdout",
          "text": [
            "[1, 2, 3]\n",
            "[1, 99, 3]\n"
          ]
        }
      ]
    },
    {
      "cell_type": "code",
      "source": [
        "# Section 4.4, Part 3\n",
        "# Explain this output. Why is it from Part 1?\n",
        "a = [1, 2, 3]\n",
        "b = list(a)\n",
        "b[1] = 99\n",
        "print(a)\n",
        "print(b)\n",
        "\n",
        "# INSERT YOUR EXPLANATION HERE\n",
        "\n",
        "# This is the another example of a shallow copy, similar to part 2 but instead of slicing\n",
        "# 'a', b is a list created using the references of a."
      ],
      "metadata": {
        "colab": {
          "base_uri": "https://localhost:8080/"
        },
        "id": "gYLWsIv0n1uR",
        "outputId": "d5c53778-404e-486d-e19f-76896eb639ce"
      },
      "execution_count": null,
      "outputs": [
        {
          "output_type": "stream",
          "name": "stdout",
          "text": [
            "[1, 2, 3]\n",
            "[1, 99, 3]\n"
          ]
        }
      ]
    },
    {
      "cell_type": "code",
      "source": [
        "# Section 4.4, Part 4\n",
        "# Now we understand copy vs. reference. What about shallow vs. deep copy?\n",
        "# Here's a shoolow copy. Why are a and b the same?\n",
        "a = [1, [100, 101], 3]\n",
        "b = list(a)\n",
        "b[1][1] = 900\n",
        "print(a)\n",
        "print(b)\n",
        "\n",
        "# INSERT YOUR EXPLANATION HERE\n",
        "\n",
        "# Here, a and b are seperate list objects but the elements they contain are shared\n",
        "# Therefore, a modification to one of the elements also modifies the other.\n",
        "# I am not 100% sure what [][] means syntactically but I now see that using double brackets will affect 'a' as well,\n",
        "# unlike '[]'."
      ],
      "metadata": {
        "colab": {
          "base_uri": "https://localhost:8080/"
        },
        "id": "8qAscig2oA7D",
        "outputId": "49965223-6d84-4f57-9ada-64fe286401cc"
      },
      "execution_count": null,
      "outputs": [
        {
          "output_type": "stream",
          "name": "stdout",
          "text": [
            "[1, [100, 900], 3]\n",
            "[1, [100, 900], 3]\n"
          ]
        }
      ]
    },
    {
      "cell_type": "code",
      "source": [
        "# Section 4.4, Part 5\n",
        "# Modify the code from the cell above (repeated here) to perform a deepcopy of a\n",
        "# Explain how that is different.\n",
        "\n",
        "import copy\n",
        "\n",
        "a = [1, [100, 101], 3]\n",
        "b = copy.deepcopy(a) # Must be modified to do a deepcopy of a! (See text).\n",
        "b[1][1] = 900\n",
        "print(a)\n",
        "print(b)\n",
        "\n",
        "# INSERT YOUR EXPLANATION HERE\n",
        "\n",
        "# A deep copy creates a new object and recursively copies all objects it contains.\n",
        "# Unlike shallow copies, deep copies are comparatively slower and doesnt reflect changes made to the new object in the original object"
      ],
      "metadata": {
        "colab": {
          "base_uri": "https://localhost:8080/"
        },
        "id": "Mc2xAGC-oU3C",
        "outputId": "32ea55f2-c3fa-41a2-aa40-b64386109017"
      },
      "execution_count": 58,
      "outputs": [
        {
          "output_type": "stream",
          "name": "stdout",
          "text": [
            "[1, [100, 101], 3]\n",
            "[1, [100, 900], 3]\n"
          ]
        }
      ]
    }
  ]
}