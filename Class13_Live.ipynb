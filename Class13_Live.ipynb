{
  "nbformat": 4,
  "nbformat_minor": 0,
  "metadata": {
    "colab": {
      "provenance": [],
      "authorship_tag": "ABX9TyOPc3Zq6aVQQbpXG2ymYYxU",
      "include_colab_link": true
    },
    "kernelspec": {
      "name": "python3",
      "display_name": "Python 3"
    },
    "language_info": {
      "name": "python"
    }
  },
  "cells": [
    {
      "cell_type": "markdown",
      "metadata": {
        "id": "view-in-github",
        "colab_type": "text"
      },
      "source": [
        "<a href=\"https://colab.research.google.com/github/nleck001/CSC221/blob/main/Class13_Live.ipynb\" target=\"_parent\"><img src=\"https://colab.research.google.com/assets/colab-badge.svg\" alt=\"Open In Colab\"/></a>"
      ]
    },
    {
      "cell_type": "code",
      "execution_count": null,
      "metadata": {
        "id": "4-47QcPNE3cJ"
      },
      "outputs": [],
      "source": [
        "# Class 13 As done in class 10/12/2023"
      ]
    },
    {
      "cell_type": "code",
      "source": [
        "%%file data1.txt\n",
        "Name,Age,Town, Other\n",
        "ned,61,Plattsburgh,Likes coding\n",
        "fred,84,Plattsburgh,Lives on Cumberland head\n",
        "amy,46,Peru\n",
        "kevin, 21, Beekmantown"
      ],
      "metadata": {
        "colab": {
          "base_uri": "https://localhost:8080/"
        },
        "id": "yElySFzFK23M",
        "outputId": "c914094e-56c4-406b-9bb1-08b0dc311ef9"
      },
      "execution_count": null,
      "outputs": [
        {
          "output_type": "stream",
          "name": "stdout",
          "text": [
            "Overwriting data1.txt\n"
          ]
        }
      ]
    },
    {
      "cell_type": "code",
      "source": [
        "%%file data2.txt\n",
        "Name,Age,Town, Other\n",
        "ned,61,Plattsburgh,Likes coding\n",
        "fred,84,Plattsburgh,Lives on Cumberland head\n",
        "abc\n",
        "amy,46,Peru\n",
        "\n",
        "kevin, 21, Beekmantown"
      ],
      "metadata": {
        "colab": {
          "base_uri": "https://localhost:8080/"
        },
        "id": "FelezsjFPlWz",
        "outputId": "2f67226a-0bc9-4476-b92f-d5f82ac0a89b"
      },
      "execution_count": null,
      "outputs": [
        {
          "output_type": "stream",
          "name": "stdout",
          "text": [
            "Writing data2.txt\n"
          ]
        }
      ]
    },
    {
      "cell_type": "code",
      "source": [
        "file = open('data1.txt', 'r')\n",
        "\n",
        "line = file.readline()\n",
        "while len(line)>0:\n",
        "    print(f\"got a line {line}\")\n",
        "    line = file.readline()\n"
      ],
      "metadata": {
        "colab": {
          "base_uri": "https://localhost:8080/"
        },
        "id": "UGIJUc_rLlpb",
        "outputId": "44aec9b4-e22a-4c44-aabf-c9f1b94eae14"
      },
      "execution_count": null,
      "outputs": [
        {
          "output_type": "stream",
          "name": "stdout",
          "text": [
            "got a line Name,Age,Town, Other\n",
            "\n",
            "got a line ned,61,Plattsburgh,Likes coding\n",
            "\n",
            "got a line fred,84,Plattsburgh,Lives on Cumberland head\n",
            "\n",
            "got a line amy,46,Peru\n",
            "\n",
            "got a line kevin, 21, Beekmantown\n",
            "\n"
          ]
        }
      ]
    },
    {
      "cell_type": "code",
      "source": [
        "# More \"elegant\"\n",
        "file = open('data1.txt', 'r')\n",
        "\n",
        "while line := file.readline():\n",
        "    print(f\"got a line {line}\")\n"
      ],
      "metadata": {
        "colab": {
          "base_uri": "https://localhost:8080/"
        },
        "id": "zsAdbfEfMG0m",
        "outputId": "c70a1623-afd3-4a03-d651-e00ab91c4ef5"
      },
      "execution_count": null,
      "outputs": [
        {
          "output_type": "stream",
          "name": "stdout",
          "text": [
            "got a line Name,Age,Town, Other\n",
            "\n",
            "got a line ned,61,Plattsburgh,Likes coding\n",
            "\n",
            "got a line fred,84,Plattsburgh,Lives on Cumberland head\n",
            "\n",
            "got a line amy,46,Peru\n",
            "\n",
            "got a line kevin, 21, Beekmantown\n",
            "\n"
          ]
        }
      ]
    },
    {
      "cell_type": "code",
      "source": [
        "# More \"elegant\"\n",
        "file = open('data1.txt', 'r')\n",
        "\n",
        "while line := file.readline():\n",
        "    line = line.strip()\n",
        "    fields = line.split(',')\n",
        "    print(fields)\n",
        "\n"
      ],
      "metadata": {
        "colab": {
          "base_uri": "https://localhost:8080/"
        },
        "id": "w9NqsOD-M-te",
        "outputId": "4eddff4d-2307-4d32-ac2a-4b3abf6e9e70"
      },
      "execution_count": null,
      "outputs": [
        {
          "output_type": "stream",
          "name": "stdout",
          "text": [
            "['Name', 'Age', 'Town', ' Other']\n",
            "['ned', '61', 'Plattsburgh', 'Likes coding']\n",
            "['fred', '84', 'Plattsburgh', 'Lives on Cumberland head']\n",
            "['amy', '46', 'Peru']\n",
            "['kevin', ' 21', ' Beekmantown']\n"
          ]
        }
      ]
    },
    {
      "cell_type": "code",
      "source": [
        "# More \"elegant\"\n",
        "file = open('data1.txt', 'r')\n",
        "\n",
        "people = {}\n",
        "line_number = 0\n",
        "while line := file.readline():\n",
        "    line_number += 1\n",
        "    if line_number == 1:\n",
        "        continue\n",
        "    line = line.strip()\n",
        "    fields = line.split(',')\n",
        "    print(f'{line_number}: {fields}')\n",
        "    people[fields[0]] = fields[1:]\n",
        "\n",
        "print(people)\n",
        "\n"
      ],
      "metadata": {
        "colab": {
          "base_uri": "https://localhost:8080/"
        },
        "id": "TAnoYWSVNwM-",
        "outputId": "6231b109-0309-41cb-fac1-cfa6cc77bc98"
      },
      "execution_count": null,
      "outputs": [
        {
          "output_type": "stream",
          "name": "stdout",
          "text": [
            "2: ['ned', '61', 'Plattsburgh', 'Likes coding']\n",
            "3: ['fred', '84', 'Plattsburgh', 'Lives on Cumberland head']\n",
            "4: ['amy', '46', 'Peru']\n",
            "5: ['kevin', ' 21', ' Beekmantown']\n",
            "{'ned': ['61', 'Plattsburgh', 'Likes coding'], 'fred': ['84', 'Plattsburgh', 'Lives on Cumberland head'], 'amy': ['46', 'Peru'], 'kevin': [' 21', ' Beekmantown']}\n"
          ]
        }
      ]
    },
    {
      "cell_type": "code",
      "source": [
        "# More \"elegant\" and handle junk data\n",
        "file = open('data2.txt', 'r')\n",
        "\n",
        "people = {}\n",
        "line_number = 0\n",
        "while line := file.readline():\n",
        "    line_number += 1\n",
        "\n",
        "    # Skip first line\n",
        "    if line_number == 1:\n",
        "        continue\n",
        "\n",
        "    # Strip and separate into fields\n",
        "    line = line.strip()\n",
        "    fields = line.split(',')\n",
        "\n",
        "    # Skip blank lines\n",
        "    if len(line) < 1:\n",
        "       continue\n",
        "\n",
        "    # Need at least name, something\n",
        "    if len(fields)<2:\n",
        "        print(f\"ERROR line {line_number}: {line}\")\n",
        "        continue;\n",
        "\n",
        "    print(f'{line_number}: {fields}')\n",
        "    people[fields[0]] = fields[1:]\n",
        "\n",
        "print(people)"
      ],
      "metadata": {
        "colab": {
          "base_uri": "https://localhost:8080/"
        },
        "id": "PG76U_R1OUAo",
        "outputId": "677da202-6655-499f-a01f-4aa87227aeec"
      },
      "execution_count": null,
      "outputs": [
        {
          "output_type": "stream",
          "name": "stdout",
          "text": [
            "2: ['ned', '61', 'Plattsburgh', 'Likes coding']\n",
            "3: ['fred', '84', 'Plattsburgh', 'Lives on Cumberland head']\n",
            "ERROR line 4: abc\n",
            "5: ['amy', '46', 'Peru']\n",
            "7: ['kevin', ' 21', ' Beekmantown']\n",
            "{'ned': ['61', 'Plattsburgh', 'Likes coding'], 'fred': ['84', 'Plattsburgh', 'Lives on Cumberland head'], 'amy': ['46', 'Peru'], 'kevin': [' 21', ' Beekmantown']}\n"
          ]
        }
      ]
    },
    {
      "cell_type": "code",
      "source": [
        "# What if I want to read two people files and combine them?\n",
        "# More \"elegant\" and handle junk data\n",
        "def read_people(filename):\n",
        "    file = open(filename, 'r')\n",
        "    people = {}\n",
        "    line_number = 0\n",
        "    while line := file.readline():\n",
        "        line_number += 1\n",
        "\n",
        "        # Skip first line\n",
        "        if line_number == 1:\n",
        "            continue\n",
        "\n",
        "        # Strip and separate into fields\n",
        "        line = line.strip()\n",
        "        fields = line.split(',')\n",
        "\n",
        "        # Skip blank lines\n",
        "        if len(line) < 1:\n",
        "            continue\n",
        "\n",
        "        # Need at least name, something\n",
        "        if len(fields)<2:\n",
        "            print(f\"ERROR line {line_number}: {line}\")\n",
        "            continue;\n",
        "\n",
        "        # Strip each field\n",
        "        for field in fields:\n",
        "            field = field.strip()\n",
        "\n",
        "        print(f'{line_number}: {fields}')\n",
        "        people[fields[0]] = fields[1:]\n",
        "\n",
        "    return people\n"
      ],
      "metadata": {
        "id": "Izwb3ms3QdW5"
      },
      "execution_count": null,
      "outputs": []
    },
    {
      "cell_type": "code",
      "source": [
        "%%file data3.txt\n",
        "Name,Age,Town, Other\n",
        "ned,61,Plattsburgh,Likes coding\n",
        "fred,84,Plattsburgh,Lives on Cumberland head\n",
        "abc\n",
        "amy,46,Peru\n",
        "\n",
        "kevin, 21, Beekmantown"
      ],
      "metadata": {
        "colab": {
          "base_uri": "https://localhost:8080/"
        },
        "id": "1FNQ7_IZRrWt",
        "outputId": "679a0dee-570e-41ca-b37d-602f0fcd0a4b"
      },
      "execution_count": null,
      "outputs": [
        {
          "output_type": "stream",
          "name": "stdout",
          "text": [
            "Overwriting data3.txt\n"
          ]
        }
      ]
    },
    {
      "cell_type": "code",
      "source": [
        "%%file data4.txt\n",
        "Name,Age,Town, Other\n",
        "ned2,61,Plattsburgh,Likes coding\n",
        "fred2,84,Plattsburgh,Lives on Cumberland head\n",
        "abc2\n",
        "amy2,46,Peru or Somewhere\n",
        "\n",
        "kevin2, 21, Beekmantown, Likes ice cream"
      ],
      "metadata": {
        "colab": {
          "base_uri": "https://localhost:8080/"
        },
        "id": "TUtrmZKiRxBs",
        "outputId": "00d079e0-ee5c-49e9-f415-9ae404f7af3b"
      },
      "execution_count": null,
      "outputs": [
        {
          "output_type": "stream",
          "name": "stdout",
          "text": [
            "Overwriting data4.txt\n"
          ]
        }
      ]
    },
    {
      "cell_type": "code",
      "source": [
        "def add_on_dictionaries(d1, d2):\n",
        "    final_dict = {}\n",
        "    for key in d1:\n",
        "        final_dict[key] = d1[key]\n",
        "    for key in d2:\n",
        "        final_dict[key] = d2[key]\n",
        "\n",
        "    return final_dict\n",
        "\n",
        "def print_dict(d):\n",
        "    for key in sorted(d):\n",
        "        print(f'{key}: {d[key]}')"
      ],
      "metadata": {
        "id": "wA4YYiWDSqeW"
      },
      "execution_count": null,
      "outputs": []
    },
    {
      "cell_type": "code",
      "source": [
        "people1 = read_people('data3.txt')\n",
        "people2 = read_people('data4.txt')\n",
        "\n",
        "print(people1)\n",
        "print(people2)\n",
        "print()\n",
        "\n",
        "people = add_on_dictionaries(people1, people2)\n",
        "print_dict(people)\n"
      ],
      "metadata": {
        "colab": {
          "base_uri": "https://localhost:8080/"
        },
        "id": "ZlwDneJ_R4q0",
        "outputId": "474029fb-4fe6-4144-abc1-6583c29dff77"
      },
      "execution_count": null,
      "outputs": [
        {
          "output_type": "stream",
          "name": "stdout",
          "text": [
            "2: ['ned', '61', 'Plattsburgh', 'Likes coding']\n",
            "3: ['fred', '84', 'Plattsburgh', 'Lives on Cumberland head']\n",
            "ERROR line 4: abc\n",
            "5: ['amy', '46', 'Peru']\n",
            "7: ['kevin', ' 21', ' Beekmantown']\n",
            "2: ['ned2', '61', 'Plattsburgh', 'Likes coding']\n",
            "3: ['fred2', '84', 'Plattsburgh', 'Lives on Cumberland head']\n",
            "ERROR line 4: abc2\n",
            "5: ['amy2', '46', 'Peru or Somewhere']\n",
            "7: ['kevin2', ' 21', ' Beekmantown', ' Likes ice cream']\n",
            "{'ned': ['61', 'Plattsburgh', 'Likes coding'], 'fred': ['84', 'Plattsburgh', 'Lives on Cumberland head'], 'amy': ['46', 'Peru'], 'kevin': [' 21', ' Beekmantown']}\n",
            "{'ned2': ['61', 'Plattsburgh', 'Likes coding'], 'fred2': ['84', 'Plattsburgh', 'Lives on Cumberland head'], 'amy2': ['46', 'Peru or Somewhere'], 'kevin2': [' 21', ' Beekmantown', ' Likes ice cream']}\n",
            "\n",
            "amy: ['46', 'Peru']\n",
            "amy2: ['46', 'Peru or Somewhere']\n",
            "fred: ['84', 'Plattsburgh', 'Lives on Cumberland head']\n",
            "fred2: ['84', 'Plattsburgh', 'Lives on Cumberland head']\n",
            "kevin: [' 21', ' Beekmantown']\n",
            "kevin2: [' 21', ' Beekmantown', ' Likes ice cream']\n",
            "ned: ['61', 'Plattsburgh', 'Likes coding']\n",
            "ned2: ['61', 'Plattsburgh', 'Likes coding']\n"
          ]
        }
      ]
    },
    {
      "cell_type": "code",
      "source": [
        "# Put people in a file\n",
        "\n",
        "file2 = open('output.txt', 'w')\n",
        "\n",
        "file2.write(\"Name,Age,Town,Other\\n\");\n",
        "for key in people:\n",
        "    file2.write(f'{key} {people[key]}\\n')\n",
        "\n",
        "file2.close()\n"
      ],
      "metadata": {
        "id": "mqIj7wLFSIdM"
      },
      "execution_count": null,
      "outputs": []
    },
    {
      "cell_type": "code",
      "source": [
        "# Put people in a file\n",
        "\n",
        "file2 = open('output.txt', 'w')\n",
        "\n",
        "file2.write(\"Name,Age,Town,Other\\n\");\n",
        "for key in people:\n",
        "    file2.write(f'{key}')\n",
        "    for field in people[key]:\n",
        "        file2.write(f',{field}')\n",
        "    file2.write('\\n')\n",
        "\n",
        "\n",
        "file2.close()"
      ],
      "metadata": {
        "id": "w0vqwbn_Uqt2"
      },
      "execution_count": null,
      "outputs": []
    },
    {
      "cell_type": "code",
      "source": [
        "# Can we reimport??\n",
        "p2 = read_people('output.txt')\n",
        "print_dict(p2)\n"
      ],
      "metadata": {
        "colab": {
          "base_uri": "https://localhost:8080/"
        },
        "id": "el5V6bWOViG3",
        "outputId": "cd93c1e8-4af8-4469-c147-ab2bf13e1eed"
      },
      "execution_count": null,
      "outputs": [
        {
          "output_type": "stream",
          "name": "stdout",
          "text": [
            "2: ['ned', '61', 'Plattsburgh', 'Likes coding']\n",
            "3: ['fred', '84', 'Plattsburgh', 'Lives on Cumberland head']\n",
            "4: ['amy', '46', 'Peru']\n",
            "5: ['kevin', ' 21', ' Beekmantown']\n",
            "6: ['ned2', '61', 'Plattsburgh', 'Likes coding']\n",
            "7: ['fred2', '84', 'Plattsburgh', 'Lives on Cumberland head']\n",
            "8: ['amy2', '46', 'Peru or Somewhere']\n",
            "9: ['kevin2', ' 21', ' Beekmantown', ' Likes ice cream']\n",
            "amy: ['46', 'Peru']\n",
            "amy2: ['46', 'Peru or Somewhere']\n",
            "fred: ['84', 'Plattsburgh', 'Lives on Cumberland head']\n",
            "fred2: ['84', 'Plattsburgh', 'Lives on Cumberland head']\n",
            "kevin: [' 21', ' Beekmantown']\n",
            "kevin2: [' 21', ' Beekmantown', ' Likes ice cream']\n",
            "ned: ['61', 'Plattsburgh', 'Likes coding']\n",
            "ned2: ['61', 'Plattsburgh', 'Likes coding']\n"
          ]
        }
      ]
    },
    {
      "cell_type": "code",
      "source": [],
      "metadata": {
        "id": "bLitqT6OV3aJ"
      },
      "execution_count": null,
      "outputs": []
    }
  ]
}