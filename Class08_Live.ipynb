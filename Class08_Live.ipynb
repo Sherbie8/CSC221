{
  "nbformat": 4,
  "nbformat_minor": 0,
  "metadata": {
    "colab": {
      "provenance": [],
      "authorship_tag": "ABX9TyORXQ1aldlQ2VdjoxaoRoLL",
      "include_colab_link": true
    },
    "kernelspec": {
      "name": "python3",
      "display_name": "Python 3"
    },
    "language_info": {
      "name": "python"
    }
  },
  "cells": [
    {
      "cell_type": "markdown",
      "metadata": {
        "id": "view-in-github",
        "colab_type": "text"
      },
      "source": [
        "<a href=\"https://colab.research.google.com/github/nleck001/CSC221/blob/main/Class08_Live.ipynb\" target=\"_parent\"><img src=\"https://colab.research.google.com/assets/colab-badge.svg\" alt=\"Open In Colab\"/></a>"
      ]
    },
    {
      "cell_type": "code",
      "source": [
        "# Class 8: Input and While\n",
        "# As done live in class 9/21/2023"
      ],
      "metadata": {
        "id": "n8pu6c5Fx695"
      },
      "execution_count": null,
      "outputs": []
    },
    {
      "cell_type": "code",
      "execution_count": null,
      "metadata": {
        "colab": {
          "base_uri": "https://localhost:8080/"
        },
        "id": "AKKwEICU7EyJ",
        "outputId": "56cc5916-f767-46e6-adef-7e9360ddd31e"
      },
      "outputs": [
        {
          "output_type": "stream",
          "name": "stdout",
          "text": [
            "Please tell me your name: fred\n",
            "Oh, hello fred\n"
          ]
        }
      ],
      "source": [
        "name = input('Please tell me your name: ')\n",
        "print(f'Oh, hello {name}')"
      ]
    },
    {
      "cell_type": "code",
      "source": [
        "n_str = input('Please give me a integer: ')\n",
        "print(f'Oh, you typed {n_str}')\n",
        "\n",
        "try:\n",
        "    n = int(n_str)\n",
        "    for i in range(n):\n",
        "        print(i)\n",
        "except:\n",
        "    print(\"That's no int\")\n",
        "\n"
      ],
      "metadata": {
        "colab": {
          "base_uri": "https://localhost:8080/"
        },
        "id": "q_7DqskPAMQR",
        "outputId": "1d55db0e-6c37-47d8-813a-ee253188c4a1"
      },
      "execution_count": null,
      "outputs": [
        {
          "output_type": "stream",
          "name": "stdout",
          "text": [
            "Please give me a integer: oiawer\n",
            "Oh, you typed oiawer\n",
            "That's no int\n"
          ]
        }
      ]
    },
    {
      "cell_type": "code",
      "source": [
        "while True:\n",
        "    n_str = input('Please give me a integer (999 to exit): ')\n",
        "\n",
        "    if n_str == '999':\n",
        "        break;\n",
        "\n",
        "    print(f'Oh, you typed {n_str}')\n",
        "\n",
        "    try:\n",
        "        n = int(n_str)\n",
        "        for i in range(n):\n",
        "            print(i, end=', ')\n",
        "        print()\n",
        "    except:\n",
        "        print(f\"That's no int! Why did you type {n_str}?\")\n",
        "\n",
        "print('Thank you for playing!')\n",
        "\n"
      ],
      "metadata": {
        "colab": {
          "base_uri": "https://localhost:8080/"
        },
        "id": "M2pVxpeuAwFQ",
        "outputId": "c772adff-f504-4546-8f7d-ef00afd8e5ee"
      },
      "execution_count": null,
      "outputs": [
        {
          "output_type": "stream",
          "name": "stdout",
          "text": [
            "Please give me a integer (999 to exit): 5\n",
            "Oh, you typed 5\n",
            "0, 1, 2, 3, 4, \n",
            "Please give me a integer (999 to exit): 5\n",
            "Oh, you typed 5\n",
            "0, 1, 2, 3, 4, \n",
            "Please give me a integer (999 to exit): 5\n",
            "Oh, you typed 5\n",
            "0, 1, 2, 3, 4, \n",
            "Please give me a integer (999 to exit): 5\n",
            "Oh, you typed 5\n",
            "0, 1, 2, 3, 4, \n",
            "Please give me a integer (999 to exit): 4\n",
            "Oh, you typed 4\n",
            "0, 1, 2, 3, \n",
            "Please give me a integer (999 to exit): 8\n",
            "Oh, you typed 8\n",
            "0, 1, 2, 3, 4, 5, 6, 7, \n",
            "Please give me a integer (999 to exit): 23\n",
            "Oh, you typed 23\n",
            "0, 1, 2, 3, 4, 5, 6, 7, 8, 9, 10, 11, 12, 13, 14, 15, 16, 17, 18, 19, 20, 21, 22, \n",
            "Please give me a integer (999 to exit): dfg\n",
            "Oh, you typed dfg\n",
            "That's no int! Why did you type dfg?\n",
            "Please give me a integer (999 to exit): 999\n",
            "Thank you for playing!\n"
          ]
        }
      ]
    },
    {
      "cell_type": "code",
      "source": [
        "# Eliminate the break!\n",
        "keep_going = True\n",
        "while keep_going:\n",
        "    n_str = input('Please give me a integer (999 to exit): ')\n",
        "\n",
        "    if n_str == '999':\n",
        "        keep_going = False\n",
        "    else:\n",
        "        print(f'Oh, you typed {n_str}')\n",
        "\n",
        "        try:\n",
        "            n = int(n_str)\n",
        "            for i in range(n):\n",
        "                print(i, end=', ')\n",
        "            print()\n",
        "        except:\n",
        "            print(f\"That's no int! Why did you type {n_str}?\")\n",
        "\n",
        "print('Thank you for playing!')\n"
      ],
      "metadata": {
        "colab": {
          "base_uri": "https://localhost:8080/"
        },
        "id": "cWqH0T25C9jk",
        "outputId": "9d7bd686-78fe-4804-f288-9572587bf40b"
      },
      "execution_count": null,
      "outputs": [
        {
          "output_type": "stream",
          "name": "stdout",
          "text": [
            "Please give me a integer (999 to exit): 9\n",
            "Oh, you typed 9\n",
            "0, 1, 2, 3, 4, 5, 6, 7, 8, \n",
            "Please give me a integer (999 to exit): sd\n",
            "Oh, you typed sd\n",
            "That's no int! Why did you type sd?\n",
            "Please give me a integer (999 to exit): 999\n",
            "Oh, you typed 999\n",
            "0, 1, 2, 3, 4, 5, 6, 7, 8, 9, 10, 11, 12, 13, 14, 15, 16, 17, 18, 19, 20, 21, 22, 23, 24, 25, 26, 27, 28, 29, 30, 31, 32, 33, 34, 35, 36, 37, 38, 39, 40, 41, 42, 43, 44, 45, 46, 47, 48, 49, 50, 51, 52, 53, 54, 55, 56, 57, 58, 59, 60, 61, 62, 63, 64, 65, 66, 67, 68, 69, 70, 71, 72, 73, 74, 75, 76, 77, 78, 79, 80, 81, 82, 83, 84, 85, 86, 87, 88, 89, 90, 91, 92, 93, 94, 95, 96, 97, 98, 99, 100, 101, 102, 103, 104, 105, 106, 107, 108, 109, 110, 111, 112, 113, 114, 115, 116, 117, 118, 119, 120, 121, 122, 123, 124, 125, 126, 127, 128, 129, 130, 131, 132, 133, 134, 135, 136, 137, 138, 139, 140, 141, 142, 143, 144, 145, 146, 147, 148, 149, 150, 151, 152, 153, 154, 155, 156, 157, 158, 159, 160, 161, 162, 163, 164, 165, 166, 167, 168, 169, 170, 171, 172, 173, 174, 175, 176, 177, 178, 179, 180, 181, 182, 183, 184, 185, 186, 187, 188, 189, 190, 191, 192, 193, 194, 195, 196, 197, 198, 199, 200, 201, 202, 203, 204, 205, 206, 207, 208, 209, 210, 211, 212, 213, 214, 215, 216, 217, 218, 219, 220, 221, 222, 223, 224, 225, 226, 227, 228, 229, 230, 231, 232, 233, 234, 235, 236, 237, 238, 239, 240, 241, 242, 243, 244, 245, 246, 247, 248, 249, 250, 251, 252, 253, 254, 255, 256, 257, 258, 259, 260, 261, 262, 263, 264, 265, 266, 267, 268, 269, 270, 271, 272, 273, 274, 275, 276, 277, 278, 279, 280, 281, 282, 283, 284, 285, 286, 287, 288, 289, 290, 291, 292, 293, 294, 295, 296, 297, 298, 299, 300, 301, 302, 303, 304, 305, 306, 307, 308, 309, 310, 311, 312, 313, 314, 315, 316, 317, 318, 319, 320, 321, 322, 323, 324, 325, 326, 327, 328, 329, 330, 331, 332, 333, 334, 335, 336, 337, 338, 339, 340, 341, 342, 343, 344, 345, 346, 347, 348, 349, 350, 351, 352, 353, 354, 355, 356, 357, 358, 359, 360, 361, 362, 363, 364, 365, 366, 367, 368, 369, 370, 371, 372, 373, 374, 375, 376, 377, 378, 379, 380, 381, 382, 383, 384, 385, 386, 387, 388, 389, 390, 391, 392, 393, 394, 395, 396, 397, 398, 399, 400, 401, 402, 403, 404, 405, 406, 407, 408, 409, 410, 411, 412, 413, 414, 415, 416, 417, 418, 419, 420, 421, 422, 423, 424, 425, 426, 427, 428, 429, 430, 431, 432, 433, 434, 435, 436, 437, 438, 439, 440, 441, 442, 443, 444, 445, 446, 447, 448, 449, 450, 451, 452, 453, 454, 455, 456, 457, 458, 459, 460, 461, 462, 463, 464, 465, 466, 467, 468, 469, 470, 471, 472, 473, 474, 475, 476, 477, 478, 479, 480, 481, 482, 483, 484, 485, 486, 487, 488, 489, 490, 491, 492, 493, 494, 495, 496, 497, 498, 499, 500, 501, 502, 503, 504, 505, 506, 507, 508, 509, 510, 511, 512, 513, 514, 515, 516, 517, 518, 519, 520, 521, 522, 523, 524, 525, 526, 527, 528, 529, 530, 531, 532, 533, 534, 535, 536, 537, 538, 539, 540, 541, 542, 543, 544, 545, 546, 547, 548, 549, 550, 551, 552, 553, 554, 555, 556, 557, 558, 559, 560, 561, 562, 563, 564, 565, 566, 567, 568, 569, 570, 571, 572, 573, 574, 575, 576, 577, 578, 579, 580, 581, 582, 583, 584, 585, 586, 587, 588, 589, 590, 591, 592, 593, 594, 595, 596, 597, 598, 599, 600, 601, 602, 603, 604, 605, 606, 607, 608, 609, 610, 611, 612, 613, 614, 615, 616, 617, 618, 619, 620, 621, 622, 623, 624, 625, 626, 627, 628, 629, 630, 631, 632, 633, 634, 635, 636, 637, 638, 639, 640, 641, 642, 643, 644, 645, 646, 647, 648, 649, 650, 651, 652, 653, 654, 655, 656, 657, 658, 659, 660, 661, 662, 663, 664, 665, 666, 667, 668, 669, 670, 671, 672, 673, 674, 675, 676, 677, 678, 679, 680, 681, 682, 683, 684, 685, 686, 687, 688, 689, 690, 691, 692, 693, 694, 695, 696, 697, 698, 699, 700, 701, 702, 703, 704, 705, 706, 707, 708, 709, 710, 711, 712, 713, 714, 715, 716, 717, 718, 719, 720, 721, 722, 723, 724, 725, 726, 727, 728, 729, 730, 731, 732, 733, 734, 735, 736, 737, 738, 739, 740, 741, 742, 743, 744, 745, 746, 747, 748, 749, 750, 751, 752, 753, 754, 755, 756, 757, 758, 759, 760, 761, 762, 763, 764, 765, 766, 767, 768, 769, 770, 771, 772, 773, 774, 775, 776, 777, 778, 779, 780, 781, 782, 783, 784, 785, 786, 787, 788, 789, 790, 791, 792, 793, 794, 795, 796, 797, 798, 799, 800, 801, 802, 803, 804, 805, 806, 807, 808, 809, 810, 811, 812, 813, 814, 815, 816, 817, 818, 819, 820, 821, 822, 823, 824, 825, 826, 827, 828, 829, 830, 831, 832, 833, 834, 835, 836, 837, 838, 839, 840, 841, 842, 843, 844, 845, 846, 847, 848, 849, 850, 851, 852, 853, 854, 855, 856, 857, 858, 859, 860, 861, 862, 863, 864, 865, 866, 867, 868, 869, 870, 871, 872, 873, 874, 875, 876, 877, 878, 879, 880, 881, 882, 883, 884, 885, 886, 887, 888, 889, 890, 891, 892, 893, 894, 895, 896, 897, 898, 899, 900, 901, 902, 903, 904, 905, 906, 907, 908, 909, 910, 911, 912, 913, 914, 915, 916, 917, 918, 919, 920, 921, 922, 923, 924, 925, 926, 927, 928, 929, 930, 931, 932, 933, 934, 935, 936, 937, 938, 939, 940, 941, 942, 943, 944, 945, 946, 947, 948, 949, 950, 951, 952, 953, 954, 955, 956, 957, 958, 959, 960, 961, 962, 963, 964, 965, 966, 967, 968, 969, 970, 971, 972, 973, 974, 975, 976, 977, 978, 979, 980, 981, 982, 983, 984, 985, 986, 987, 988, 989, 990, 991, 992, 993, 994, 995, 996, 997, 998, \n",
            "Thank you for playing!\n"
          ]
        }
      ]
    },
    {
      "cell_type": "code",
      "source": [
        "# Use of continue\n",
        "keep_going = True\n",
        "while keep_going:\n",
        "    n_str = input('Please give me a integer (999 to exit): ')\n",
        "\n",
        "    try:\n",
        "        n = int(n_str)\n",
        "\n",
        "        if n == 999:\n",
        "            keep_going = False\n",
        "        elif n > 100:\n",
        "            print('Too big!')\n",
        "        else:\n",
        "            print(f'Oh, you typed {n}')\n",
        "            for i in range(n):\n",
        "                print(i, end=', ')\n",
        "            print()\n",
        "    except:\n",
        "        print(f\"That's no int! Why did you type {n_str}?\")\n",
        "\n",
        "print('Thank you for playing!')\n"
      ],
      "metadata": {
        "colab": {
          "base_uri": "https://localhost:8080/"
        },
        "id": "rhLQ85GSGGzP",
        "outputId": "0230f058-1810-4443-f42f-d0784b5f49ee"
      },
      "execution_count": null,
      "outputs": [
        {
          "output_type": "stream",
          "name": "stdout",
          "text": [
            "Please give me a integer (999 to exit): 12\n",
            "Oh, you typed 12\n",
            "0, 1, 2, 3, 4, 5, 6, 7, 8, 9, 10, 11, \n",
            "Please give me a integer (999 to exit): 99\n",
            "Oh, you typed 99\n",
            "0, 1, 2, 3, 4, 5, 6, 7, 8, 9, 10, 11, 12, 13, 14, 15, 16, 17, 18, 19, 20, 21, 22, 23, 24, 25, 26, 27, 28, 29, 30, 31, 32, 33, 34, 35, 36, 37, 38, 39, 40, 41, 42, 43, 44, 45, 46, 47, 48, 49, 50, 51, 52, 53, 54, 55, 56, 57, 58, 59, 60, 61, 62, 63, 64, 65, 66, 67, 68, 69, 70, 71, 72, 73, 74, 75, 76, 77, 78, 79, 80, 81, 82, 83, 84, 85, 86, 87, 88, 89, 90, 91, 92, 93, 94, 95, 96, 97, 98, \n",
            "Please give me a integer (999 to exit): 123\n",
            "Too big!\n",
            "Please give me a integer (999 to exit): qwe\n",
            "That's no int! Why did you type qwe?\n",
            "Please give me a integer (999 to exit): 999\n",
            "Thank you for playing!\n"
          ]
        }
      ]
    },
    {
      "cell_type": "code",
      "source": [
        "a = 5\n",
        "print(dir(a))"
      ],
      "metadata": {
        "colab": {
          "base_uri": "https://localhost:8080/"
        },
        "id": "eje-Rf_zJlRF",
        "outputId": "12f5d866-f880-4581-e997-f9bf0710c0a4"
      },
      "execution_count": null,
      "outputs": [
        {
          "output_type": "stream",
          "name": "stdout",
          "text": [
            "['__abs__', '__add__', '__and__', '__bool__', '__ceil__', '__class__', '__delattr__', '__dir__', '__divmod__', '__doc__', '__eq__', '__float__', '__floor__', '__floordiv__', '__format__', '__ge__', '__getattribute__', '__getnewargs__', '__gt__', '__hash__', '__index__', '__init__', '__init_subclass__', '__int__', '__invert__', '__le__', '__lshift__', '__lt__', '__mod__', '__mul__', '__ne__', '__neg__', '__new__', '__or__', '__pos__', '__pow__', '__radd__', '__rand__', '__rdivmod__', '__reduce__', '__reduce_ex__', '__repr__', '__rfloordiv__', '__rlshift__', '__rmod__', '__rmul__', '__ror__', '__round__', '__rpow__', '__rrshift__', '__rshift__', '__rsub__', '__rtruediv__', '__rxor__', '__setattr__', '__sizeof__', '__str__', '__sub__', '__subclasshook__', '__truediv__', '__trunc__', '__xor__', 'as_integer_ratio', 'bit_count', 'bit_length', 'conjugate', 'denominator', 'from_bytes', 'imag', 'numerator', 'real', 'to_bytes']\n"
          ]
        }
      ]
    },
    {
      "cell_type": "code",
      "source": [
        "a = 13.23435\n",
        "b = 12\n",
        "\n",
        "print(f'Here they are {a} {a:000.000} {b,5} {b:00000}')"
      ],
      "metadata": {
        "colab": {
          "base_uri": "https://localhost:8080/"
        },
        "id": "QwpuYezhKog-",
        "outputId": "34af084f-11f9-4241-fc8c-ba0702e98a24"
      },
      "execution_count": null,
      "outputs": [
        {
          "output_type": "stream",
          "name": "stdout",
          "text": [
            "Here they are 13.23435 1e+01 (12, 5) 12\n"
          ]
        }
      ]
    },
    {
      "cell_type": "code",
      "source": [
        "# Must run with this line uncommented at least once!!!!!\n",
        "# After that, you could re-run the cell and the people will just accumulate!\n",
        "people = {}\n",
        "\n",
        "while True:\n",
        "    name = input('What is your name (xyz to quit)? ')\n",
        "    if name == 'xyz':\n",
        "        break\n",
        "    stuff = input('What would you like me to store about you? ')\n",
        "\n",
        "    people[name] = stuff\n",
        "\n",
        "print(people)\n",
        "\n"
      ],
      "metadata": {
        "colab": {
          "base_uri": "https://localhost:8080/"
        },
        "id": "EmnBlJBDLJqZ",
        "outputId": "2e10e2a5-2ca4-429c-c8fb-9b04da070ff1"
      },
      "execution_count": null,
      "outputs": [
        {
          "output_type": "stream",
          "name": "stdout",
          "text": [
            "What is your name (xyz to quit)? qw2\n",
            "What would you like me to store about you? hg  gd \n",
            "What is your name (xyz to quit)? xyz\n",
            "{'nmed': 'lkglkjsdhfklhdsf', 'jeff': '1,2,3,4,5', 'qw2': 'hg  gd '}\n"
          ]
        }
      ]
    },
    {
      "cell_type": "code",
      "source": [],
      "metadata": {
        "id": "tAvKXKjuMDPY"
      },
      "execution_count": null,
      "outputs": []
    }
  ]
}