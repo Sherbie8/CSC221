{
  "nbformat": 4,
  "nbformat_minor": 0,
  "metadata": {
    "colab": {
      "provenance": [],
      "authorship_tag": "ABX9TyN14uqL7F6FPi55kh9TlrQH",
      "include_colab_link": true
    },
    "kernelspec": {
      "name": "python3",
      "display_name": "Python 3"
    },
    "language_info": {
      "name": "python"
    }
  },
  "cells": [
    {
      "cell_type": "markdown",
      "metadata": {
        "id": "view-in-github",
        "colab_type": "text"
      },
      "source": [
        "<a href=\"https://colab.research.google.com/github/nleck001/CSC221/blob/main/Class21_Live.ipynb\" target=\"_parent\"><img src=\"https://colab.research.google.com/assets/colab-badge.svg\" alt=\"Open In Colab\"/></a>"
      ]
    },
    {
      "cell_type": "code",
      "source": [
        "# Class 21 Live!"
      ],
      "metadata": {
        "id": "UvJEo7B_q30J"
      },
      "execution_count": null,
      "outputs": []
    },
    {
      "cell_type": "code",
      "execution_count": null,
      "metadata": {
        "id": "ypqbOLtNf8OA"
      },
      "outputs": [],
      "source": [
        "from datetime import date"
      ]
    },
    {
      "cell_type": "code",
      "source": [
        "d1 = date(2023, 11, 9)\n",
        "print(d1)\n",
        "d1"
      ],
      "metadata": {
        "colab": {
          "base_uri": "https://localhost:8080/"
        },
        "id": "Gf69vZfelFO4",
        "outputId": "96d3287d-d42c-40bb-a1f7-76fc4304b6e3"
      },
      "execution_count": null,
      "outputs": [
        {
          "output_type": "stream",
          "name": "stdout",
          "text": [
            "2023-11-09\n"
          ]
        },
        {
          "output_type": "execute_result",
          "data": {
            "text/plain": [
              "datetime.date(2023, 11, 9)"
            ]
          },
          "metadata": {},
          "execution_count": 6
        }
      ]
    },
    {
      "cell_type": "code",
      "source": [
        "class TestClass:\n",
        "    def __init__(self, name, x):\n",
        "        print(f'Thanks! You called TestClass({name},{x})')\n",
        "        self.name = name\n",
        "        self.x = x\n",
        "    def __repr__(self):\n",
        "        return f'TestClass({self.name}, {self.x})'\n",
        "    def __del__(self):\n",
        "        print(f'__del__ called for TestClass name={self.name} x={self.x}')\n",
        "\n",
        "tc1 = TestClass('name2', 246)\n",
        "print(tc1)\n"
      ],
      "metadata": {
        "colab": {
          "base_uri": "https://localhost:8080/"
        },
        "id": "M427tPGklOse",
        "outputId": "1e655512-bdc0-41b1-8031-ce6ee021620a"
      },
      "execution_count": null,
      "outputs": [
        {
          "output_type": "stream",
          "name": "stdout",
          "text": [
            "Thanks! You called TestClass(name2,246)\n",
            "TestClass(name2, 246)\n",
            "__del__ called for TestClass name=new_tc1 x=777\n"
          ]
        }
      ]
    },
    {
      "cell_type": "code",
      "source": [
        "tc1 = TestClass('tc1', 222)\n",
        "tc2 = tc1\n",
        "tc1 = TestClass('new_tc1', 777)\n",
        "\n",
        "print(tc1)\n",
        "\n",
        "print(tc2)\n"
      ],
      "metadata": {
        "colab": {
          "base_uri": "https://localhost:8080/"
        },
        "id": "Q29RLw2Pmyka",
        "outputId": "ed09c1fc-8ff6-4d86-c1bc-60e8e6f2fa04"
      },
      "execution_count": null,
      "outputs": [
        {
          "output_type": "stream",
          "name": "stdout",
          "text": [
            "Thanks! You called TestClass(tc1,222)\n",
            "Thanks! You called TestClass(new_tc1,777)\n",
            "TestClass(new_tc1, 777)\n",
            "TestClass(tc1, 222)\n",
            "__del__ called for TestClass name=new_tc1 x=777\n",
            "__del__ called for TestClass name=tc1 x=222\n"
          ]
        }
      ]
    },
    {
      "cell_type": "code",
      "source": [
        "class TestClass2:\n",
        "    def __init__(self, name, x):\n",
        "        print(f'Thanks! You called TestClass2({name},{x})')\n",
        "        self.name = name\n",
        "        self.x = x\n",
        "        self.square_list = [i**2 for i in range(100000)]\n",
        "    def __repr__(self):\n",
        "        return f'TestClass2({self.name}, {self.x})'\n",
        "    def __del__(self):\n",
        "        print(f'__del__ called for TestClass2 name={self.name} x={self.x}')\n"
      ],
      "metadata": {
        "id": "gW6v0LQMpwbr"
      },
      "execution_count": null,
      "outputs": []
    },
    {
      "cell_type": "code",
      "source": [
        "for i in range(20):\n",
        "    new_tc = TestClass2(f'MyName{i}', i)"
      ],
      "metadata": {
        "colab": {
          "base_uri": "https://localhost:8080/"
        },
        "id": "gB9HZJjNqhPB",
        "outputId": "9460a7a2-ead5-4626-8d4d-ea7923c55d67"
      },
      "execution_count": null,
      "outputs": [
        {
          "output_type": "stream",
          "name": "stdout",
          "text": [
            "Thanks! You called TestClass2(MyName0,0)\n",
            "Thanks! You called TestClass2(MyName1,1)\n",
            "__del__ called for TestClass2 name=MyName0 x=0\n",
            "Thanks! You called TestClass2(MyName2,2)\n",
            "__del__ called for TestClass2 name=MyName1 x=1\n",
            "Thanks! You called TestClass2(MyName3,3)\n",
            "__del__ called for TestClass2 name=MyName2 x=2\n",
            "Thanks! You called TestClass2(MyName4,4)\n",
            "__del__ called for TestClass2 name=MyName19 x=19\n",
            "Thanks! You called TestClass2(MyName5,5)\n",
            "__del__ called for TestClass2 name=MyName4 x=4\n",
            "Thanks! You called TestClass2(MyName6,6)\n",
            "__del__ called for TestClass2 name=MyName5 x=5\n",
            "Thanks! You called TestClass2(MyName7,7)\n",
            "__del__ called for TestClass2 name=MyName6 x=6\n",
            "Thanks! You called TestClass2(MyName8,8)\n",
            "__del__ called for TestClass2 name=MyName7 x=7\n",
            "Thanks! You called TestClass2(MyName9,9)\n",
            "__del__ called for TestClass2 name=MyName8 x=8\n",
            "Thanks! You called TestClass2(MyName10,10)\n",
            "__del__ called for TestClass2 name=MyName3 x=3\n",
            "Thanks! You called TestClass2(MyName11,11)\n",
            "__del__ called for TestClass2 name=MyName10 x=10\n",
            "Thanks! You called TestClass2(MyName12,12)\n",
            "__del__ called for TestClass2 name=MyName11 x=11\n",
            "Thanks! You called TestClass2(MyName13,13)\n",
            "__del__ called for TestClass2 name=MyName12 x=12\n",
            "Thanks! You called TestClass2(MyName14,14)\n",
            "__del__ called for TestClass2 name=MyName13 x=13\n",
            "Thanks! You called TestClass2(MyName15,15)\n",
            "__del__ called for TestClass2 name=MyName14 x=14\n",
            "Thanks! You called TestClass2(MyName16,16)\n",
            "__del__ called for TestClass2 name=MyName9 x=9\n",
            "Thanks! You called TestClass2(MyName17,17)\n",
            "__del__ called for TestClass2 name=MyName16 x=16\n",
            "Thanks! You called TestClass2(MyName18,18)\n",
            "__del__ called for TestClass2 name=MyName17 x=17\n",
            "Thanks! You called TestClass2(MyName19,19)\n",
            "__del__ called for TestClass2 name=MyName18 x=18\n"
          ]
        }
      ]
    },
    {
      "cell_type": "code",
      "source": [
        "\n",
        "def TestClass2_tester():\n",
        "    my_testclass = TestClass('testname', 12345)\n",
        "    print(my_testclass)\n",
        "    return my_testclass\n",
        "\n",
        "my_list = []\n",
        "for i in range(20):\n",
        "    my_list.append(TestClass2_tester())\n",
        "\n",
        "del my_list\n"
      ],
      "metadata": {
        "colab": {
          "base_uri": "https://localhost:8080/"
        },
        "id": "b2hV8G_arAUg",
        "outputId": "e09ac35e-1fa1-4174-e022-d9c84c359954"
      },
      "execution_count": null,
      "outputs": [
        {
          "output_type": "stream",
          "name": "stdout",
          "text": [
            "Thanks! You called TestClass(testname,12345)\n",
            "TestClass(testname, 12345)\n",
            "Thanks! You called TestClass(testname,12345)\n",
            "TestClass(testname, 12345)\n",
            "Thanks! You called TestClass(testname,12345)\n",
            "TestClass(testname, 12345)\n",
            "Thanks! You called TestClass(testname,12345)\n",
            "TestClass(testname, 12345)\n",
            "Thanks! You called TestClass(testname,12345)\n",
            "TestClass(testname, 12345)\n",
            "Thanks! You called TestClass(testname,12345)\n",
            "TestClass(testname, 12345)\n",
            "Thanks! You called TestClass(testname,12345)\n",
            "TestClass(testname, 12345)\n",
            "Thanks! You called TestClass(testname,12345)\n",
            "TestClass(testname, 12345)\n",
            "Thanks! You called TestClass(testname,12345)\n",
            "TestClass(testname, 12345)\n",
            "Thanks! You called TestClass(testname,12345)\n",
            "TestClass(testname, 12345)\n",
            "Thanks! You called TestClass(testname,12345)\n",
            "TestClass(testname, 12345)\n",
            "Thanks! You called TestClass(testname,12345)\n",
            "TestClass(testname, 12345)\n",
            "Thanks! You called TestClass(testname,12345)\n",
            "TestClass(testname, 12345)\n",
            "Thanks! You called TestClass(testname,12345)\n",
            "TestClass(testname, 12345)\n",
            "Thanks! You called TestClass(testname,12345)\n",
            "TestClass(testname, 12345)\n",
            "Thanks! You called TestClass(testname,12345)\n",
            "TestClass(testname, 12345)\n",
            "Thanks! You called TestClass(testname,12345)\n",
            "TestClass(testname, 12345)\n",
            "Thanks! You called TestClass(testname,12345)\n",
            "TestClass(testname, 12345)\n",
            "Thanks! You called TestClass(testname,12345)\n",
            "TestClass(testname, 12345)\n",
            "Thanks! You called TestClass(testname,12345)\n",
            "TestClass(testname, 12345)\n",
            "__del__ called for TestClass name=testname x=12345\n",
            "__del__ called for TestClass name=testname x=12345\n",
            "__del__ called for TestClass name=testname x=12345\n",
            "__del__ called for TestClass name=testname x=12345\n",
            "__del__ called for TestClass name=testname x=12345\n",
            "__del__ called for TestClass name=testname x=12345\n",
            "__del__ called for TestClass name=testname x=12345\n",
            "__del__ called for TestClass name=testname x=12345\n",
            "__del__ called for TestClass name=testname x=12345\n",
            "__del__ called for TestClass name=testname x=12345\n",
            "__del__ called for TestClass name=testname x=12345\n",
            "__del__ called for TestClass name=testname x=12345\n",
            "__del__ called for TestClass name=testname x=12345\n",
            "__del__ called for TestClass name=testname x=12345\n",
            "__del__ called for TestClass name=testname x=12345\n",
            "__del__ called for TestClass name=testname x=12345\n",
            "__del__ called for TestClass name=testname x=12345\n",
            "__del__ called for TestClass name=testname x=12345\n",
            "__del__ called for TestClass name=testname x=12345\n",
            "__del__ called for TestClass name=testname x=12345\n"
          ]
        }
      ]
    },
    {
      "cell_type": "code",
      "source": [
        "tc3 = TestClass2('plus_equals_tester', 42)\n",
        "print(tc3)\n",
        "\n",
        "tc3 += 5"
      ],
      "metadata": {
        "colab": {
          "base_uri": "https://localhost:8080/",
          "height": 262
        },
        "id": "9QBgabFIsNYq",
        "outputId": "7ea95b98-1b19-40d4-e4ad-2ea0be847215"
      },
      "execution_count": null,
      "outputs": [
        {
          "output_type": "stream",
          "name": "stdout",
          "text": [
            "Thanks! You called TestClass2(plus_equals_tester,42)\n",
            "TestClass2(plus_equals_tester, 42)\n"
          ]
        },
        {
          "output_type": "error",
          "ename": "TypeError",
          "evalue": "ignored",
          "traceback": [
            "\u001b[0;31m---------------------------------------------------------------------------\u001b[0m",
            "\u001b[0;31mTypeError\u001b[0m                                 Traceback (most recent call last)",
            "\u001b[0;32m<ipython-input-26-23fc72c88e8d>\u001b[0m in \u001b[0;36m<cell line: 4>\u001b[0;34m()\u001b[0m\n\u001b[1;32m      2\u001b[0m \u001b[0mprint\u001b[0m\u001b[0;34m(\u001b[0m\u001b[0mtc3\u001b[0m\u001b[0;34m)\u001b[0m\u001b[0;34m\u001b[0m\u001b[0;34m\u001b[0m\u001b[0m\n\u001b[1;32m      3\u001b[0m \u001b[0;34m\u001b[0m\u001b[0m\n\u001b[0;32m----> 4\u001b[0;31m \u001b[0mtc3\u001b[0m \u001b[0;34m+=\u001b[0m \u001b[0;36m5\u001b[0m\u001b[0;34m\u001b[0m\u001b[0;34m\u001b[0m\u001b[0m\n\u001b[0m",
            "\u001b[0;31mTypeError\u001b[0m: unsupported operand type(s) for +=: 'TestClass2' and 'int'"
          ]
        },
        {
          "output_type": "stream",
          "name": "stdout",
          "text": [
            "__del__ called for TestClass2 name=plus_equals_tester x=42\n"
          ]
        }
      ]
    },
    {
      "cell_type": "code",
      "source": [
        "class TestClass3:\n",
        "    def __init__(self, name, x):\n",
        "        print(f'Thanks! You called TestClass3({name},{x})')\n",
        "        self.name = name\n",
        "        self.x = x\n",
        "        self.square_list = [i**2 for i in range(100000)]\n",
        "    def __repr__(self):\n",
        "        return f'TestClass3({self.name}, {self.x})'\n",
        "    def __del__(self):\n",
        "        print(f'__del__ called for TestClass3 name={self.name} x={self.x}')\n",
        "\n",
        "    # Operator Methods\n",
        "    def __iadd__(self, other):\n",
        "        self.x += other\n",
        "        return self\n",
        "\n",
        "tc4 = TestClass3('plus_equals_tester', 42)\n",
        "print(tc4)\n",
        "\n",
        "tc4 += 5\n",
        "tc4 += 6\n",
        "tc4 += 11\n",
        "\n",
        "print(tc4)\n",
        "\n"
      ],
      "metadata": {
        "colab": {
          "base_uri": "https://localhost:8080/"
        },
        "id": "qJcwXzatuOXe",
        "outputId": "540b80b0-982a-4822-a608-f725aab3d369"
      },
      "execution_count": null,
      "outputs": [
        {
          "output_type": "stream",
          "name": "stdout",
          "text": [
            "Thanks! You called TestClass3(plus_equals_tester,42)\n",
            "TestClass3(plus_equals_tester, 42)\n",
            "TestClass3(plus_equals_tester, 64)\n"
          ]
        }
      ]
    },
    {
      "cell_type": "code",
      "source": [],
      "metadata": {
        "id": "dRhUnbOdvLhY"
      },
      "execution_count": null,
      "outputs": []
    }
  ]
}